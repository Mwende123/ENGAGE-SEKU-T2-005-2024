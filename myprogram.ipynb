{
 "cells": [
  {
   "cell_type": "code",
   "execution_count": 1,
   "id": "4e634d32-f6ab-43f4-a1c3-b57823574ce8",
   "metadata": {},
   "outputs": [
    {
     "name": "stdout",
     "output_type": "stream",
     "text": [
      "silvia\n"
     ]
    }
   ],
   "source": [
    "print('silvia')\n"
   ]
  },
  {
   "cell_type": "code",
   "execution_count": 2,
   "id": "6bec1861-dade-494d-a6aa-f0b8453205e8",
   "metadata": {},
   "outputs": [
    {
     "name": "stdout",
     "output_type": "stream",
     "text": [
      "400\n"
     ]
    }
   ],
   "source": [
    "b=200+200\n",
    "print(b)"
   ]
  },
  {
   "cell_type": "code",
   "execution_count": 3,
   "id": "2be41ca1-681f-49fa-9b12-7354cf5d1e84",
   "metadata": {},
   "outputs": [
    {
     "name": "stdin",
     "output_type": "stream",
     "text": [
      "enter the upana 20\n",
      "enter the urefu 10\n"
     ]
    },
    {
     "name": "stdout",
     "output_type": "stream",
     "text": [
      "perimeter is! 60\n",
      "area is! 200\n"
     ]
    }
   ],
   "source": [
    "l=int(input(\"enter the upana\"))\n",
    "w=int(input(\"enter the urefu\"))\n",
    "area=l*w\n",
    "perimeter=2*(l+w)\n",
    "print(\"perimeter is!\",perimeter)\n",
    "print(\"area is!\",area)"
   ]
  },
  {
   "cell_type": "code",
   "execution_count": 4,
   "id": "30cf1b98-e54d-4c08-b172-9d847935cd28",
   "metadata": {},
   "outputs": [
    {
     "name": "stdout",
     "output_type": "stream",
     "text": [
      "silvia mwende\n"
     ]
    }
   ],
   "source": [
    "name=\"silvia mwende\"\n",
    "print(name)"
   ]
  },
  {
   "cell_type": "code",
   "execution_count": 5,
   "id": "a3c6bd93-7630-4c88-9d81-ab0043e94909",
   "metadata": {},
   "outputs": [
    {
     "name": "stdin",
     "output_type": "stream",
     "text": [
      "enter your year of birth 2002\n"
     ]
    },
    {
     "name": "stdout",
     "output_type": "stream",
     "text": [
      "your age is: 22\n",
      "you are an aldult\n"
     ]
    }
   ],
   "source": [
    "\n",
    "YOB=int(input(\"enter your year of birth\"))\n",
    "current=2024\n",
    "age=current-YOB\n",
    "print(\"your age is:\",age)\n",
    "if age>18:\n",
    "    print(\"you are an aldult\")\n",
    "else:\n",
    "    print(\"you are a child\")"
   ]
  },
  {
   "cell_type": "code",
   "execution_count": 6,
   "id": "e192f4bf-e6c5-4246-969f-d7166e380325",
   "metadata": {},
   "outputs": [
    {
     "name": "stdout",
     "output_type": "stream",
     "text": [
      "x is not positive\n"
     ]
    }
   ],
   "source": [
    "x=-5\n",
    "if x>0:\n",
    "    print(\"x is positive\")\n",
    "else:\n",
    "    print(\"x is not positive\")\n",
    "    "
   ]
  },
  {
   "cell_type": "code",
   "execution_count": null,
   "id": "407ced5b-3da6-4d40-a38a-e49855d0da8e",
   "metadata": {},
   "outputs": [],
   "source": [
    "i=1\n",
    "while i<=10:\n",
    "    print(i)\n",
    "number=int(input(\"enter a number\"))\n",
    "sum+=number\n",
    "i+=1\n",
    "print(sum)"
   ]
  },
  {
   "cell_type": "code",
   "execution_count": 95,
   "id": "1c7c0f78-b620-4c72-b8c9-2f4b21c1ffe6",
   "metadata": {},
   "outputs": [
    {
     "name": "stdout",
     "output_type": "stream",
     "text": [
      "<class 'pandas.core.frame.DataFrame'>\n",
      "RangeIndex: 799 entries, 0 to 798\n",
      "Data columns (total 10 columns):\n",
      " #   Column                                            Non-Null Count  Dtype  \n",
      "---  ------                                            --------------  -----  \n",
      " 0   Child participated in POLIO campaign August 2013  799 non-null    int64  \n",
      " 1    diarrhea_status                                  799 non-null    object \n",
      " 2   weight                                            799 non-null    float64\n",
      " 3   height                                            799 non-null    float64\n",
      " 4   residence                                         799 non-null    object \n",
      " 5   Sex                                               799 non-null    object \n",
      " 6   age                                               799 non-null    int64  \n",
      " 7   age_category                                      799 non-null    object \n",
      " 8   education                                         768 non-null    object \n",
      " 9   wealth_index                                      799 non-null    object \n",
      "dtypes: float64(2), int64(2), object(6)\n",
      "memory usage: 62.6+ KB\n"
     ]
    }
   ],
   "source": [
    "import pandas as pd\n",
    "df=pd.read_csv(\"childhealthdata.csv\")\n",
    "df.head()\n",
    "df.describe()\n",
    "df.info()"
   ]
  },
  {
   "cell_type": "code",
   "execution_count": 3,
   "id": "70e89aa8-8c61-46ac-b236-298894433f9e",
   "metadata": {},
   "outputs": [
    {
     "data": {
      "text/html": [
       "<div>\n",
       "<style scoped>\n",
       "    .dataframe tbody tr th:only-of-type {\n",
       "        vertical-align: middle;\n",
       "    }\n",
       "\n",
       "    .dataframe tbody tr th {\n",
       "        vertical-align: top;\n",
       "    }\n",
       "\n",
       "    .dataframe thead th {\n",
       "        text-align: right;\n",
       "    }\n",
       "</style>\n",
       "<table border=\"1\" class=\"dataframe\">\n",
       "  <thead>\n",
       "    <tr style=\"text-align: right;\">\n",
       "      <th></th>\n",
       "      <th>Child participated in POLIO campaign August 2013</th>\n",
       "      <th>weight</th>\n",
       "      <th>height</th>\n",
       "      <th>age</th>\n",
       "    </tr>\n",
       "  </thead>\n",
       "  <tbody>\n",
       "    <tr>\n",
       "      <th>count</th>\n",
       "      <td>799.000000</td>\n",
       "      <td>799.000000</td>\n",
       "      <td>799.000000</td>\n",
       "      <td>799.000000</td>\n",
       "    </tr>\n",
       "    <tr>\n",
       "      <th>mean</th>\n",
       "      <td>1.234043</td>\n",
       "      <td>11.591114</td>\n",
       "      <td>83.858573</td>\n",
       "      <td>29.314143</td>\n",
       "    </tr>\n",
       "    <tr>\n",
       "      <th>std</th>\n",
       "      <td>0.850500</td>\n",
       "      <td>3.408729</td>\n",
       "      <td>13.795704</td>\n",
       "      <td>16.839659</td>\n",
       "    </tr>\n",
       "    <tr>\n",
       "      <th>min</th>\n",
       "      <td>1.000000</td>\n",
       "      <td>3.100000</td>\n",
       "      <td>45.000000</td>\n",
       "      <td>0.000000</td>\n",
       "    </tr>\n",
       "    <tr>\n",
       "      <th>25%</th>\n",
       "      <td>1.000000</td>\n",
       "      <td>9.200000</td>\n",
       "      <td>74.000000</td>\n",
       "      <td>15.000000</td>\n",
       "    </tr>\n",
       "    <tr>\n",
       "      <th>50%</th>\n",
       "      <td>1.000000</td>\n",
       "      <td>11.700000</td>\n",
       "      <td>84.900000</td>\n",
       "      <td>31.000000</td>\n",
       "    </tr>\n",
       "    <tr>\n",
       "      <th>75%</th>\n",
       "      <td>1.000000</td>\n",
       "      <td>14.100000</td>\n",
       "      <td>93.850000</td>\n",
       "      <td>43.000000</td>\n",
       "    </tr>\n",
       "    <tr>\n",
       "      <th>max</th>\n",
       "      <td>9.000000</td>\n",
       "      <td>25.000000</td>\n",
       "      <td>124.800000</td>\n",
       "      <td>59.000000</td>\n",
       "    </tr>\n",
       "  </tbody>\n",
       "</table>\n",
       "</div>"
      ],
      "text/plain": [
       "       Child participated in POLIO campaign August 2013      weight  \\\n",
       "count                                        799.000000  799.000000   \n",
       "mean                                           1.234043   11.591114   \n",
       "std                                            0.850500    3.408729   \n",
       "min                                            1.000000    3.100000   \n",
       "25%                                            1.000000    9.200000   \n",
       "50%                                            1.000000   11.700000   \n",
       "75%                                            1.000000   14.100000   \n",
       "max                                            9.000000   25.000000   \n",
       "\n",
       "           height         age  \n",
       "count  799.000000  799.000000  \n",
       "mean    83.858573   29.314143  \n",
       "std     13.795704   16.839659  \n",
       "min     45.000000    0.000000  \n",
       "25%     74.000000   15.000000  \n",
       "50%     84.900000   31.000000  \n",
       "75%     93.850000   43.000000  \n",
       "max    124.800000   59.000000  "
      ]
     },
     "execution_count": 3,
     "metadata": {},
     "output_type": "execute_result"
    }
   ],
   "source": [
    "df.describe()"
   ]
  },
  {
   "cell_type": "code",
   "execution_count": 9,
   "id": "fc3a56a1-d149-4b79-97df-cf30c0450ac1",
   "metadata": {},
   "outputs": [
    {
     "name": "stdout",
     "output_type": "stream",
     "text": [
      "<class 'pandas.core.frame.DataFrame'>\n",
      "RangeIndex: 799 entries, 0 to 798\n",
      "Data columns (total 10 columns):\n",
      " #   Column                                            Non-Null Count  Dtype  \n",
      "---  ------                                            --------------  -----  \n",
      " 0   Child participated in POLIO campaign August 2013  799 non-null    int64  \n",
      " 1    diarrhea_status                                  799 non-null    object \n",
      " 2   weight                                            799 non-null    float64\n",
      " 3   height                                            799 non-null    float64\n",
      " 4   residence                                         799 non-null    object \n",
      " 5   Sex                                               799 non-null    object \n",
      " 6   age                                               799 non-null    int64  \n",
      " 7   age_category                                      799 non-null    object \n",
      " 8   education                                         768 non-null    object \n",
      " 9   wealth_index                                      799 non-null    object \n",
      "dtypes: float64(2), int64(2), object(6)\n",
      "memory usage: 62.6+ KB\n"
     ]
    }
   ],
   "source": [
    "df.info()"
   ]
  },
  {
   "cell_type": "code",
   "execution_count": 10,
   "id": "29a98ba0-961e-437c-9adb-4eeea29fb2d0",
   "metadata": {},
   "outputs": [
    {
     "ename": "AttributeError",
     "evalue": "'DataFrame' object has no attribute 'unique'",
     "output_type": "error",
     "traceback": [
      "\u001b[1;31m---------------------------------------------------------------------------\u001b[0m",
      "\u001b[1;31mAttributeError\u001b[0m                            Traceback (most recent call last)",
      "\u001b[1;32m~\\AppData\\Local\\Temp\\ipykernel_4192\\1660334235.py\u001b[0m in \u001b[0;36m?\u001b[1;34m()\u001b[0m\n\u001b[1;32m----> 1\u001b[1;33m \u001b[0mdf\u001b[0m\u001b[1;33m.\u001b[0m\u001b[0munique\u001b[0m\u001b[1;33m(\u001b[0m\u001b[1;33m)\u001b[0m\u001b[1;33m\u001b[0m\u001b[1;33m\u001b[0m\u001b[0m\n\u001b[0m",
      "\u001b[1;32mC:\\ProgramData\\anaconda3\\Lib\\site-packages\\pandas\\core\\generic.py\u001b[0m in \u001b[0;36m?\u001b[1;34m(self, name)\u001b[0m\n\u001b[0;32m   6295\u001b[0m             \u001b[1;32mand\u001b[0m \u001b[0mname\u001b[0m \u001b[1;32mnot\u001b[0m \u001b[1;32min\u001b[0m \u001b[0mself\u001b[0m\u001b[1;33m.\u001b[0m\u001b[0m_accessors\u001b[0m\u001b[1;33m\u001b[0m\u001b[1;33m\u001b[0m\u001b[0m\n\u001b[0;32m   6296\u001b[0m             \u001b[1;32mand\u001b[0m \u001b[0mself\u001b[0m\u001b[1;33m.\u001b[0m\u001b[0m_info_axis\u001b[0m\u001b[1;33m.\u001b[0m\u001b[0m_can_hold_identifiers_and_holds_name\u001b[0m\u001b[1;33m(\u001b[0m\u001b[0mname\u001b[0m\u001b[1;33m)\u001b[0m\u001b[1;33m\u001b[0m\u001b[1;33m\u001b[0m\u001b[0m\n\u001b[0;32m   6297\u001b[0m         ):\n\u001b[0;32m   6298\u001b[0m             \u001b[1;32mreturn\u001b[0m \u001b[0mself\u001b[0m\u001b[1;33m[\u001b[0m\u001b[0mname\u001b[0m\u001b[1;33m]\u001b[0m\u001b[1;33m\u001b[0m\u001b[1;33m\u001b[0m\u001b[0m\n\u001b[1;32m-> 6299\u001b[1;33m         \u001b[1;32mreturn\u001b[0m \u001b[0mobject\u001b[0m\u001b[1;33m.\u001b[0m\u001b[0m__getattribute__\u001b[0m\u001b[1;33m(\u001b[0m\u001b[0mself\u001b[0m\u001b[1;33m,\u001b[0m \u001b[0mname\u001b[0m\u001b[1;33m)\u001b[0m\u001b[1;33m\u001b[0m\u001b[1;33m\u001b[0m\u001b[0m\n\u001b[0m",
      "\u001b[1;31mAttributeError\u001b[0m: 'DataFrame' object has no attribute 'unique'"
     ]
    }
   ],
   "source": [
    "df.unique()"
   ]
  },
  {
   "cell_type": "code",
   "execution_count": 12,
   "id": "c7194622-4fb7-4e7c-9a47-846a11e30894",
   "metadata": {},
   "outputs": [
    {
     "name": "stdout",
     "output_type": "stream",
     "text": [
      "['Secondary+' 'Primary' nan]\n"
     ]
    }
   ],
   "source": [
    "print(df['education'].unique())"
   ]
  },
  {
   "cell_type": "code",
   "execution_count": 13,
   "id": "6526a7b2-5593-4344-b4d1-ad0021f0d8dc",
   "metadata": {},
   "outputs": [
    {
     "name": "stdout",
     "output_type": "stream",
     "text": [
      "['Rural' 'Urban']\n"
     ]
    }
   ],
   "source": [
    "print(df['residence'].unique())"
   ]
  },
  {
   "cell_type": "code",
   "execution_count": 4,
   "id": "6cea184d-0013-452f-bb28-99d511540935",
   "metadata": {},
   "outputs": [
    {
     "name": "stdout",
     "output_type": "stream",
     "text": [
      "education\n",
      "Primary       476\n",
      "Secondary+    292\n",
      "Name: count, dtype: int64\n"
     ]
    }
   ],
   "source": [
    "print(df['education'].value_counts())"
   ]
  },
  {
   "cell_type": "code",
   "execution_count": 2,
   "id": "4edae10d-7c25-49c1-b73d-62facdbe50d9",
   "metadata": {},
   "outputs": [
    {
     "name": "stdout",
     "output_type": "stream",
     "text": [
      "wealth_index\n",
      "Poorest    197\n",
      "Fourth     156\n",
      "Second     154\n",
      "Richest    152\n",
      "Middle     140\n",
      "Name: count, dtype: int64\n"
     ]
    }
   ],
   "source": [
    "print(df['wealth_index'].value_counts())"
   ]
  },
  {
   "cell_type": "code",
   "execution_count": 4,
   "id": "91c462f7-789d-4197-8c76-eababb5bffed",
   "metadata": {},
   "outputs": [
    {
     "name": "stdout",
     "output_type": "stream",
     "text": [
      "     Child participated in POLIO campaign August 2013  diarrhea_status  \\\n",
      "794                                                 1               No   \n",
      "795                                                 2               No   \n",
      "796                                                 1               No   \n",
      "797                                                 1               No   \n",
      "798                                                 1               No   \n",
      "\n",
      "     weight  height residence     Sex  age age_category   education  \\\n",
      "794     8.3    67.0     Urban  Female    7         6-11     Primary   \n",
      "795     3.5    45.0     Urban    Male    0          0-5  Secondary+   \n",
      "796    15.1    86.0     Urban  Female   56        48-59     Primary   \n",
      "797    10.7    71.2     Urban  Female   18        12-23     Primary   \n",
      "798    10.3    73.0     Urban  Female    7         6-11     Primary   \n",
      "\n",
      "    wealth_index  \n",
      "794       Fourth  \n",
      "795       Fourth  \n",
      "796       Fourth  \n",
      "797       Fourth  \n",
      "798       Middle  \n"
     ]
    }
   ],
   "source": [
    "print(df.tail(5))"
   ]
  },
  {
   "cell_type": "code",
   "execution_count": 6,
   "id": "b2ffcc83-d4ce-45f4-965a-8fc6352108a4",
   "metadata": {},
   "outputs": [
    {
     "name": "stdout",
     "output_type": "stream",
     "text": [
      "   Child participated in POLIO campaign August 2013  diarrhea_status  weight  \\\n",
      "0                                                 1               No    16.2   \n",
      "1                                                 1               No    13.5   \n",
      "2                                                 1               No    13.4   \n",
      "3                                                 1               No    15.0   \n",
      "4                                                 1               No    15.2   \n",
      "\n",
      "   height residence     Sex  age age_category   education wealth_index  \n",
      "0   102.4     Rural  Female   45        36-47  Secondary+      Richest  \n",
      "1    92.5     Rural    Male   45        36-47     Primary       Second  \n",
      "2    88.5     Rural    Male   36        36-47     Primary       Fourth  \n",
      "3   101.3     Rural  Female   51        48-59     Primary       Fourth  \n",
      "4   105.0     Rural  Female   56        48-59     Primary       Fourth  \n"
     ]
    }
   ],
   "source": [
    "print(df.head(5))"
   ]
  },
  {
   "cell_type": "code",
   "execution_count": 9,
   "id": "05f88d47-4624-4cb1-8b23-0fe4512c2b22",
   "metadata": {},
   "outputs": [
    {
     "name": "stdout",
     "output_type": "stream",
     "text": [
      "summary statistics:\n",
      "       Child participated in POLIO campaign August 2013      weight  \\\n",
      "count                                        799.000000  799.000000   \n",
      "mean                                           1.234043   11.591114   \n",
      "std                                            0.850500    3.408729   \n",
      "min                                            1.000000    3.100000   \n",
      "25%                                            1.000000    9.200000   \n",
      "50%                                            1.000000   11.700000   \n",
      "75%                                            1.000000   14.100000   \n",
      "max                                            9.000000   25.000000   \n",
      "\n",
      "           height         age  \n",
      "count  799.000000  799.000000  \n",
      "mean    83.858573   29.314143  \n",
      "std     13.795704   16.839659  \n",
      "min     45.000000    0.000000  \n",
      "25%     74.000000   15.000000  \n",
      "50%     84.900000   31.000000  \n",
      "75%     93.850000   43.000000  \n",
      "max    124.800000   59.000000  \n"
     ]
    }
   ],
   "source": [
    "print(\"summary statistics:\")\n",
    "print(df.describe())"
   ]
  },
  {
   "cell_type": "code",
   "execution_count": 6,
   "id": "491f4ddd-d074-4841-96b0-d2f86afafce1",
   "metadata": {},
   "outputs": [
    {
     "name": "stdout",
     "output_type": "stream",
     "text": [
      "     Child participated in POLIO campaign August 2013  diarrhea_status  \\\n",
      "789                                                 2               No   \n",
      "790                                                 2               No   \n",
      "791                                                 1               No   \n",
      "792                                                 1               No   \n",
      "793                                                 1               No   \n",
      "794                                                 1               No   \n",
      "795                                                 2               No   \n",
      "796                                                 1               No   \n",
      "797                                                 1               No   \n",
      "798                                                 1               No   \n",
      "\n",
      "     weight  height residence     Sex  age age_category   education  \\\n",
      "789     7.7    68.8     Urban  Female    7         6-11     Primary   \n",
      "790     7.0    69.0     Urban    Male    7         6-11     Primary   \n",
      "791    14.9    99.9     Urban  Female   45        36-47     Primary   \n",
      "792    13.7    95.5     Urban    Male   47        36-47     Primary   \n",
      "793    12.4    95.0     Urban  Female   43        36-47  Secondary+   \n",
      "794     8.3    67.0     Urban  Female    7         6-11     Primary   \n",
      "795     3.5    45.0     Urban    Male    0          0-5  Secondary+   \n",
      "796    15.1    86.0     Urban  Female   56        48-59     Primary   \n",
      "797    10.7    71.2     Urban  Female   18        12-23     Primary   \n",
      "798    10.3    73.0     Urban  Female    7         6-11     Primary   \n",
      "\n",
      "    wealth_index  \n",
      "789       Second  \n",
      "790       Second  \n",
      "791      Poorest  \n",
      "792       Fourth  \n",
      "793       Fourth  \n",
      "794       Fourth  \n",
      "795       Fourth  \n",
      "796       Fourth  \n",
      "797       Fourth  \n",
      "798       Middle  \n"
     ]
    }
   ],
   "source": [
    "print(df.tail(10))"
   ]
  },
  {
   "cell_type": "code",
   "execution_count": 7,
   "id": "07ea510e-da0f-45fa-8be9-ba8ffad0ec5e",
   "metadata": {},
   "outputs": [
    {
     "data": {
      "text/html": [
       "<div>\n",
       "<style scoped>\n",
       "    .dataframe tbody tr th:only-of-type {\n",
       "        vertical-align: middle;\n",
       "    }\n",
       "\n",
       "    .dataframe tbody tr th {\n",
       "        vertical-align: top;\n",
       "    }\n",
       "\n",
       "    .dataframe thead th {\n",
       "        text-align: right;\n",
       "    }\n",
       "</style>\n",
       "<table border=\"1\" class=\"dataframe\">\n",
       "  <thead>\n",
       "    <tr style=\"text-align: right;\">\n",
       "      <th></th>\n",
       "      <th>Child participated in POLIO campaign August 2013</th>\n",
       "      <th>diarrhea_status</th>\n",
       "      <th>weight</th>\n",
       "      <th>height</th>\n",
       "      <th>residence</th>\n",
       "      <th>Sex</th>\n",
       "      <th>age</th>\n",
       "      <th>age_category</th>\n",
       "      <th>education</th>\n",
       "      <th>wealth_index</th>\n",
       "    </tr>\n",
       "  </thead>\n",
       "  <tbody>\n",
       "    <tr>\n",
       "      <th>0</th>\n",
       "      <td>1</td>\n",
       "      <td>No</td>\n",
       "      <td>16.2</td>\n",
       "      <td>102.4</td>\n",
       "      <td>Rural</td>\n",
       "      <td>Female</td>\n",
       "      <td>45</td>\n",
       "      <td>36-47</td>\n",
       "      <td>Secondary+</td>\n",
       "      <td>Richest</td>\n",
       "    </tr>\n",
       "    <tr>\n",
       "      <th>1</th>\n",
       "      <td>1</td>\n",
       "      <td>No</td>\n",
       "      <td>13.5</td>\n",
       "      <td>92.5</td>\n",
       "      <td>Rural</td>\n",
       "      <td>Male</td>\n",
       "      <td>45</td>\n",
       "      <td>36-47</td>\n",
       "      <td>Primary</td>\n",
       "      <td>Second</td>\n",
       "    </tr>\n",
       "    <tr>\n",
       "      <th>2</th>\n",
       "      <td>1</td>\n",
       "      <td>No</td>\n",
       "      <td>13.4</td>\n",
       "      <td>88.5</td>\n",
       "      <td>Rural</td>\n",
       "      <td>Male</td>\n",
       "      <td>36</td>\n",
       "      <td>36-47</td>\n",
       "      <td>Primary</td>\n",
       "      <td>Fourth</td>\n",
       "    </tr>\n",
       "    <tr>\n",
       "      <th>3</th>\n",
       "      <td>1</td>\n",
       "      <td>No</td>\n",
       "      <td>15.0</td>\n",
       "      <td>101.3</td>\n",
       "      <td>Rural</td>\n",
       "      <td>Female</td>\n",
       "      <td>51</td>\n",
       "      <td>48-59</td>\n",
       "      <td>Primary</td>\n",
       "      <td>Fourth</td>\n",
       "    </tr>\n",
       "    <tr>\n",
       "      <th>4</th>\n",
       "      <td>1</td>\n",
       "      <td>No</td>\n",
       "      <td>15.2</td>\n",
       "      <td>105.0</td>\n",
       "      <td>Rural</td>\n",
       "      <td>Female</td>\n",
       "      <td>56</td>\n",
       "      <td>48-59</td>\n",
       "      <td>Primary</td>\n",
       "      <td>Fourth</td>\n",
       "    </tr>\n",
       "  </tbody>\n",
       "</table>\n",
       "</div>"
      ],
      "text/plain": [
       "   Child participated in POLIO campaign August 2013  diarrhea_status  weight  \\\n",
       "0                                                 1               No    16.2   \n",
       "1                                                 1               No    13.5   \n",
       "2                                                 1               No    13.4   \n",
       "3                                                 1               No    15.0   \n",
       "4                                                 1               No    15.2   \n",
       "\n",
       "   height residence     Sex  age age_category   education wealth_index  \n",
       "0   102.4     Rural  Female   45        36-47  Secondary+      Richest  \n",
       "1    92.5     Rural    Male   45        36-47     Primary       Second  \n",
       "2    88.5     Rural    Male   36        36-47     Primary       Fourth  \n",
       "3   101.3     Rural  Female   51        48-59     Primary       Fourth  \n",
       "4   105.0     Rural  Female   56        48-59     Primary       Fourth  "
      ]
     },
     "execution_count": 7,
     "metadata": {},
     "output_type": "execute_result"
    }
   ],
   "source": [
    "df_above_30=df[df['age']>30]\n",
    "df_above_30.head()"
   ]
  },
  {
   "cell_type": "code",
   "execution_count": 10,
   "id": "cd440a4d-f9e3-4355-824b-1285ad381eeb",
   "metadata": {},
   "outputs": [
    {
     "data": {
      "text/html": [
       "<div>\n",
       "<style scoped>\n",
       "    .dataframe tbody tr th:only-of-type {\n",
       "        vertical-align: middle;\n",
       "    }\n",
       "\n",
       "    .dataframe tbody tr th {\n",
       "        vertical-align: top;\n",
       "    }\n",
       "\n",
       "    .dataframe thead th {\n",
       "        text-align: right;\n",
       "    }\n",
       "</style>\n",
       "<table border=\"1\" class=\"dataframe\">\n",
       "  <thead>\n",
       "    <tr style=\"text-align: right;\">\n",
       "      <th></th>\n",
       "      <th>Child participated in POLIO campaign August 2013</th>\n",
       "      <th>diarrhea_status</th>\n",
       "      <th>weight</th>\n",
       "      <th>height</th>\n",
       "      <th>residence</th>\n",
       "      <th>Sex</th>\n",
       "      <th>age</th>\n",
       "      <th>age_category</th>\n",
       "      <th>education</th>\n",
       "      <th>wealth_index</th>\n",
       "    </tr>\n",
       "  </thead>\n",
       "  <tbody>\n",
       "    <tr>\n",
       "      <th>5</th>\n",
       "      <td>1</td>\n",
       "      <td>Yes</td>\n",
       "      <td>9.9</td>\n",
       "      <td>84.5</td>\n",
       "      <td>Rural</td>\n",
       "      <td>Female</td>\n",
       "      <td>20</td>\n",
       "      <td>12-23</td>\n",
       "      <td>Primary</td>\n",
       "      <td>Fourth</td>\n",
       "    </tr>\n",
       "    <tr>\n",
       "      <th>6</th>\n",
       "      <td>2</td>\n",
       "      <td>No</td>\n",
       "      <td>7.1</td>\n",
       "      <td>70.4</td>\n",
       "      <td>Rural</td>\n",
       "      <td>Female</td>\n",
       "      <td>4</td>\n",
       "      <td>0-5</td>\n",
       "      <td>Primary</td>\n",
       "      <td>Fourth</td>\n",
       "    </tr>\n",
       "    <tr>\n",
       "      <th>7</th>\n",
       "      <td>1</td>\n",
       "      <td>No</td>\n",
       "      <td>13.8</td>\n",
       "      <td>89.5</td>\n",
       "      <td>Rural</td>\n",
       "      <td>Male</td>\n",
       "      <td>27</td>\n",
       "      <td>24-35</td>\n",
       "      <td>Primary</td>\n",
       "      <td>Richest</td>\n",
       "    </tr>\n",
       "    <tr>\n",
       "      <th>9</th>\n",
       "      <td>1</td>\n",
       "      <td>Yes</td>\n",
       "      <td>8.2</td>\n",
       "      <td>73.9</td>\n",
       "      <td>Rural</td>\n",
       "      <td>Female</td>\n",
       "      <td>18</td>\n",
       "      <td>12-23</td>\n",
       "      <td>Primary</td>\n",
       "      <td>Poorest</td>\n",
       "    </tr>\n",
       "    <tr>\n",
       "      <th>12</th>\n",
       "      <td>1</td>\n",
       "      <td>Yes</td>\n",
       "      <td>8.0</td>\n",
       "      <td>77.7</td>\n",
       "      <td>Rural</td>\n",
       "      <td>Female</td>\n",
       "      <td>26</td>\n",
       "      <td>24-35</td>\n",
       "      <td>Primary</td>\n",
       "      <td>Poorest</td>\n",
       "    </tr>\n",
       "  </tbody>\n",
       "</table>\n",
       "</div>"
      ],
      "text/plain": [
       "    Child participated in POLIO campaign August 2013  diarrhea_status  weight  \\\n",
       "5                                                  1              Yes     9.9   \n",
       "6                                                  2               No     7.1   \n",
       "7                                                  1               No    13.8   \n",
       "9                                                  1              Yes     8.2   \n",
       "12                                                 1              Yes     8.0   \n",
       "\n",
       "    height residence     Sex  age age_category education wealth_index  \n",
       "5     84.5     Rural  Female   20        12-23   Primary       Fourth  \n",
       "6     70.4     Rural  Female    4          0-5   Primary       Fourth  \n",
       "7     89.5     Rural    Male   27        24-35   Primary      Richest  \n",
       "9     73.9     Rural  Female   18        12-23   Primary      Poorest  \n",
       "12    77.7     Rural  Female   26        24-35   Primary      Poorest  "
      ]
     },
     "execution_count": 10,
     "metadata": {},
     "output_type": "execute_result"
    }
   ],
   "source": [
    "df_30_and_less=df[df['age']<=30]\n",
    "df_30_and_less.head()"
   ]
  },
  {
   "cell_type": "code",
   "execution_count": 17,
   "id": "f7a22877-00af-4db8-8c16-4e510656d895",
   "metadata": {},
   "outputs": [
    {
     "data": {
      "text/html": [
       "<div>\n",
       "<style scoped>\n",
       "    .dataframe tbody tr th:only-of-type {\n",
       "        vertical-align: middle;\n",
       "    }\n",
       "\n",
       "    .dataframe tbody tr th {\n",
       "        vertical-align: top;\n",
       "    }\n",
       "\n",
       "    .dataframe thead th {\n",
       "        text-align: right;\n",
       "    }\n",
       "</style>\n",
       "<table border=\"1\" class=\"dataframe\">\n",
       "  <thead>\n",
       "    <tr style=\"text-align: right;\">\n",
       "      <th></th>\n",
       "      <th>Child participated in POLIO campaign August 2013</th>\n",
       "      <th>diarrhea_status</th>\n",
       "      <th>weight</th>\n",
       "      <th>height</th>\n",
       "      <th>residence</th>\n",
       "      <th>Sex</th>\n",
       "      <th>age</th>\n",
       "      <th>age_category</th>\n",
       "      <th>education</th>\n",
       "      <th>wealth_index</th>\n",
       "    </tr>\n",
       "  </thead>\n",
       "  <tbody>\n",
       "    <tr>\n",
       "      <th>9</th>\n",
       "      <td>1</td>\n",
       "      <td>Yes</td>\n",
       "      <td>8.2</td>\n",
       "      <td>73.9</td>\n",
       "      <td>Rural</td>\n",
       "      <td>Female</td>\n",
       "      <td>18</td>\n",
       "      <td>12-23</td>\n",
       "      <td>Primary</td>\n",
       "      <td>Poorest</td>\n",
       "    </tr>\n",
       "    <tr>\n",
       "      <th>207</th>\n",
       "      <td>1</td>\n",
       "      <td>Yes</td>\n",
       "      <td>9.7</td>\n",
       "      <td>75.4</td>\n",
       "      <td>Rural</td>\n",
       "      <td>Female</td>\n",
       "      <td>18</td>\n",
       "      <td>12-23</td>\n",
       "      <td>Secondary+</td>\n",
       "      <td>Poorest</td>\n",
       "    </tr>\n",
       "    <tr>\n",
       "      <th>273</th>\n",
       "      <td>1</td>\n",
       "      <td>No</td>\n",
       "      <td>10.4</td>\n",
       "      <td>81.5</td>\n",
       "      <td>Urban</td>\n",
       "      <td>Female</td>\n",
       "      <td>18</td>\n",
       "      <td>12-23</td>\n",
       "      <td>Secondary+</td>\n",
       "      <td>Middle</td>\n",
       "    </tr>\n",
       "    <tr>\n",
       "      <th>652</th>\n",
       "      <td>1</td>\n",
       "      <td>No</td>\n",
       "      <td>10.0</td>\n",
       "      <td>80.5</td>\n",
       "      <td>Urban</td>\n",
       "      <td>Female</td>\n",
       "      <td>18</td>\n",
       "      <td>12-23</td>\n",
       "      <td>Secondary+</td>\n",
       "      <td>Richest</td>\n",
       "    </tr>\n",
       "    <tr>\n",
       "      <th>671</th>\n",
       "      <td>2</td>\n",
       "      <td>No</td>\n",
       "      <td>10.1</td>\n",
       "      <td>78.3</td>\n",
       "      <td>Urban</td>\n",
       "      <td>Female</td>\n",
       "      <td>18</td>\n",
       "      <td>12-23</td>\n",
       "      <td>Primary</td>\n",
       "      <td>Fourth</td>\n",
       "    </tr>\n",
       "  </tbody>\n",
       "</table>\n",
       "</div>"
      ],
      "text/plain": [
       "     Child participated in POLIO campaign August 2013  diarrhea_status  \\\n",
       "9                                                   1              Yes   \n",
       "207                                                 1              Yes   \n",
       "273                                                 1               No   \n",
       "652                                                 1               No   \n",
       "671                                                 2               No   \n",
       "\n",
       "     weight  height residence     Sex  age age_category   education  \\\n",
       "9       8.2    73.9     Rural  Female   18        12-23     Primary   \n",
       "207     9.7    75.4     Rural  Female   18        12-23  Secondary+   \n",
       "273    10.4    81.5     Urban  Female   18        12-23  Secondary+   \n",
       "652    10.0    80.5     Urban  Female   18        12-23  Secondary+   \n",
       "671    10.1    78.3     Urban  Female   18        12-23     Primary   \n",
       "\n",
       "    wealth_index  \n",
       "9        Poorest  \n",
       "207      Poorest  \n",
       "273       Middle  \n",
       "652      Richest  \n",
       "671       Fourth  "
      ]
     },
     "execution_count": 17,
     "metadata": {},
     "output_type": "execute_result"
    }
   ],
   "source": [
    "df_18=df[(df['age']==18)&(df['Sex']=='Female')]\n",
    "df_18.head()"
   ]
  },
  {
   "cell_type": "code",
   "execution_count": 21,
   "id": "87fe48a7-cb5e-4eec-9b36-a9aa6fb50ceb",
   "metadata": {},
   "outputs": [
    {
     "data": {
      "text/html": [
       "<div>\n",
       "<style scoped>\n",
       "    .dataframe tbody tr th:only-of-type {\n",
       "        vertical-align: middle;\n",
       "    }\n",
       "\n",
       "    .dataframe tbody tr th {\n",
       "        vertical-align: top;\n",
       "    }\n",
       "\n",
       "    .dataframe thead th {\n",
       "        text-align: right;\n",
       "    }\n",
       "</style>\n",
       "<table border=\"1\" class=\"dataframe\">\n",
       "  <thead>\n",
       "    <tr style=\"text-align: right;\">\n",
       "      <th></th>\n",
       "      <th>Child participated in POLIO campaign August 2013</th>\n",
       "      <th>diarrhea_status</th>\n",
       "      <th>weight</th>\n",
       "      <th>height</th>\n",
       "      <th>residence</th>\n",
       "      <th>Sex</th>\n",
       "      <th>age</th>\n",
       "      <th>age_category</th>\n",
       "      <th>education</th>\n",
       "      <th>wealth_index</th>\n",
       "    </tr>\n",
       "  </thead>\n",
       "  <tbody>\n",
       "    <tr>\n",
       "      <th>512</th>\n",
       "      <td>1</td>\n",
       "      <td>No</td>\n",
       "      <td>16.8</td>\n",
       "      <td>104.8</td>\n",
       "      <td>Rural</td>\n",
       "      <td>Female</td>\n",
       "      <td>59</td>\n",
       "      <td>48-59</td>\n",
       "      <td>Secondary+</td>\n",
       "      <td>Second</td>\n",
       "    </tr>\n",
       "    <tr>\n",
       "      <th>75</th>\n",
       "      <td>2</td>\n",
       "      <td>No</td>\n",
       "      <td>15.8</td>\n",
       "      <td>104.4</td>\n",
       "      <td>Rural</td>\n",
       "      <td>Male</td>\n",
       "      <td>59</td>\n",
       "      <td>48-59</td>\n",
       "      <td>Primary</td>\n",
       "      <td>Second</td>\n",
       "    </tr>\n",
       "    <tr>\n",
       "      <th>310</th>\n",
       "      <td>1</td>\n",
       "      <td>No</td>\n",
       "      <td>17.0</td>\n",
       "      <td>105.3</td>\n",
       "      <td>Urban</td>\n",
       "      <td>Male</td>\n",
       "      <td>59</td>\n",
       "      <td>48-59</td>\n",
       "      <td>Secondary+</td>\n",
       "      <td>Richest</td>\n",
       "    </tr>\n",
       "    <tr>\n",
       "      <th>196</th>\n",
       "      <td>1</td>\n",
       "      <td>No</td>\n",
       "      <td>16.0</td>\n",
       "      <td>102.4</td>\n",
       "      <td>Rural</td>\n",
       "      <td>Male</td>\n",
       "      <td>59</td>\n",
       "      <td>48-59</td>\n",
       "      <td>Primary</td>\n",
       "      <td>Poorest</td>\n",
       "    </tr>\n",
       "    <tr>\n",
       "      <th>723</th>\n",
       "      <td>1</td>\n",
       "      <td>No</td>\n",
       "      <td>15.6</td>\n",
       "      <td>88.5</td>\n",
       "      <td>Urban</td>\n",
       "      <td>Female</td>\n",
       "      <td>59</td>\n",
       "      <td>48-59</td>\n",
       "      <td>Primary</td>\n",
       "      <td>Second</td>\n",
       "    </tr>\n",
       "  </tbody>\n",
       "</table>\n",
       "</div>"
      ],
      "text/plain": [
       "     Child participated in POLIO campaign August 2013  diarrhea_status  \\\n",
       "512                                                 1               No   \n",
       "75                                                  2               No   \n",
       "310                                                 1               No   \n",
       "196                                                 1               No   \n",
       "723                                                 1               No   \n",
       "\n",
       "     weight  height residence     Sex  age age_category   education  \\\n",
       "512    16.8   104.8     Rural  Female   59        48-59  Secondary+   \n",
       "75     15.8   104.4     Rural    Male   59        48-59     Primary   \n",
       "310    17.0   105.3     Urban    Male   59        48-59  Secondary+   \n",
       "196    16.0   102.4     Rural    Male   59        48-59     Primary   \n",
       "723    15.6    88.5     Urban  Female   59        48-59     Primary   \n",
       "\n",
       "    wealth_index  \n",
       "512       Second  \n",
       "75        Second  \n",
       "310      Richest  \n",
       "196      Poorest  \n",
       "723       Second  "
      ]
     },
     "execution_count": 21,
     "metadata": {},
     "output_type": "execute_result"
    }
   ],
   "source": [
    "sorted_df=df.sort_values(by='age',ascending=False)\n",
    "sorted_df.head()\n",
    "                         "
   ]
  },
  {
   "cell_type": "code",
   "execution_count": 22,
   "id": "f71a72a2-3d5d-4bf7-9847-34b96e545d77",
   "metadata": {},
   "outputs": [
    {
     "data": {
      "text/html": [
       "<div>\n",
       "<style scoped>\n",
       "    .dataframe tbody tr th:only-of-type {\n",
       "        vertical-align: middle;\n",
       "    }\n",
       "\n",
       "    .dataframe tbody tr th {\n",
       "        vertical-align: top;\n",
       "    }\n",
       "\n",
       "    .dataframe thead th {\n",
       "        text-align: right;\n",
       "    }\n",
       "</style>\n",
       "<table border=\"1\" class=\"dataframe\">\n",
       "  <thead>\n",
       "    <tr style=\"text-align: right;\">\n",
       "      <th></th>\n",
       "      <th>Child participated in POLIO campaign August 2013</th>\n",
       "      <th>diarrhea_status</th>\n",
       "      <th>weight</th>\n",
       "      <th>height</th>\n",
       "      <th>residence</th>\n",
       "      <th>Sex</th>\n",
       "      <th>age</th>\n",
       "      <th>age_category</th>\n",
       "      <th>education</th>\n",
       "      <th>wealth_index</th>\n",
       "    </tr>\n",
       "  </thead>\n",
       "  <tbody>\n",
       "    <tr>\n",
       "      <th>496</th>\n",
       "      <td>2</td>\n",
       "      <td>No</td>\n",
       "      <td>4.0</td>\n",
       "      <td>51.2</td>\n",
       "      <td>Rural</td>\n",
       "      <td>Male</td>\n",
       "      <td>0</td>\n",
       "      <td>0-5</td>\n",
       "      <td>Secondary+</td>\n",
       "      <td>Poorest</td>\n",
       "    </tr>\n",
       "    <tr>\n",
       "      <th>36</th>\n",
       "      <td>2</td>\n",
       "      <td>No</td>\n",
       "      <td>5.2</td>\n",
       "      <td>51.0</td>\n",
       "      <td>Rural</td>\n",
       "      <td>Male</td>\n",
       "      <td>0</td>\n",
       "      <td>0-5</td>\n",
       "      <td>Primary</td>\n",
       "      <td>Second</td>\n",
       "    </tr>\n",
       "    <tr>\n",
       "      <th>456</th>\n",
       "      <td>2</td>\n",
       "      <td>No</td>\n",
       "      <td>3.2</td>\n",
       "      <td>48.2</td>\n",
       "      <td>Rural</td>\n",
       "      <td>Female</td>\n",
       "      <td>0</td>\n",
       "      <td>0-5</td>\n",
       "      <td>Primary</td>\n",
       "      <td>Poorest</td>\n",
       "    </tr>\n",
       "    <tr>\n",
       "      <th>548</th>\n",
       "      <td>2</td>\n",
       "      <td>Yes</td>\n",
       "      <td>3.5</td>\n",
       "      <td>58.0</td>\n",
       "      <td>Rural</td>\n",
       "      <td>Male</td>\n",
       "      <td>0</td>\n",
       "      <td>0-5</td>\n",
       "      <td>Secondary+</td>\n",
       "      <td>Fourth</td>\n",
       "    </tr>\n",
       "    <tr>\n",
       "      <th>153</th>\n",
       "      <td>2</td>\n",
       "      <td>No</td>\n",
       "      <td>4.1</td>\n",
       "      <td>51.6</td>\n",
       "      <td>Rural</td>\n",
       "      <td>Female</td>\n",
       "      <td>0</td>\n",
       "      <td>0-5</td>\n",
       "      <td>Secondary+</td>\n",
       "      <td>Fourth</td>\n",
       "    </tr>\n",
       "  </tbody>\n",
       "</table>\n",
       "</div>"
      ],
      "text/plain": [
       "     Child participated in POLIO campaign August 2013  diarrhea_status  \\\n",
       "496                                                 2               No   \n",
       "36                                                  2               No   \n",
       "456                                                 2               No   \n",
       "548                                                 2              Yes   \n",
       "153                                                 2               No   \n",
       "\n",
       "     weight  height residence     Sex  age age_category   education  \\\n",
       "496     4.0    51.2     Rural    Male    0          0-5  Secondary+   \n",
       "36      5.2    51.0     Rural    Male    0          0-5     Primary   \n",
       "456     3.2    48.2     Rural  Female    0          0-5     Primary   \n",
       "548     3.5    58.0     Rural    Male    0          0-5  Secondary+   \n",
       "153     4.1    51.6     Rural  Female    0          0-5  Secondary+   \n",
       "\n",
       "    wealth_index  \n",
       "496      Poorest  \n",
       "36        Second  \n",
       "456      Poorest  \n",
       "548       Fourth  \n",
       "153       Fourth  "
      ]
     },
     "execution_count": 22,
     "metadata": {},
     "output_type": "execute_result"
    }
   ],
   "source": [
    "sorted_df=df.sort_values(by='age',ascending=True)\n",
    "sorted_df.head()\n",
    "              "
   ]
  },
  {
   "cell_type": "code",
   "execution_count": 99,
   "id": "dd6b7e10-b619-4cf1-8b6b-26a704f5f036",
   "metadata": {},
   "outputs": [
    {
     "data": {
      "text/plain": [
       "Sex\n",
       "Female    398\n",
       "Male      401\n",
       "dtype: int64"
      ]
     },
     "execution_count": 99,
     "metadata": {},
     "output_type": "execute_result"
    }
   ],
   "source": [
    "df.groupby('Sex').size()"
   ]
  },
  {
   "cell_type": "code",
   "execution_count": 27,
   "id": "b52332c5-6b98-4e48-a727-52ff82f5d9d1",
   "metadata": {},
   "outputs": [
    {
     "data": {
      "text/html": [
       "<div>\n",
       "<style scoped>\n",
       "    .dataframe tbody tr th:only-of-type {\n",
       "        vertical-align: middle;\n",
       "    }\n",
       "\n",
       "    .dataframe tbody tr th {\n",
       "        vertical-align: top;\n",
       "    }\n",
       "\n",
       "    .dataframe thead th {\n",
       "        text-align: right;\n",
       "    }\n",
       "</style>\n",
       "<table border=\"1\" class=\"dataframe\">\n",
       "  <thead>\n",
       "    <tr style=\"text-align: right;\">\n",
       "      <th></th>\n",
       "      <th>Child participated in POLIO campaign August 2013</th>\n",
       "      <th>diarrhea_status</th>\n",
       "      <th>weight</th>\n",
       "      <th>height</th>\n",
       "      <th>residence</th>\n",
       "      <th>Sex</th>\n",
       "      <th>age</th>\n",
       "      <th>age_category</th>\n",
       "      <th>education</th>\n",
       "      <th>wealth_index</th>\n",
       "      <th>is_adult</th>\n",
       "    </tr>\n",
       "  </thead>\n",
       "  <tbody>\n",
       "    <tr>\n",
       "      <th>794</th>\n",
       "      <td>1</td>\n",
       "      <td>No</td>\n",
       "      <td>8.3</td>\n",
       "      <td>67.0</td>\n",
       "      <td>Urban</td>\n",
       "      <td>Female</td>\n",
       "      <td>7</td>\n",
       "      <td>6-11</td>\n",
       "      <td>Primary</td>\n",
       "      <td>Fourth</td>\n",
       "      <td>No</td>\n",
       "    </tr>\n",
       "    <tr>\n",
       "      <th>795</th>\n",
       "      <td>2</td>\n",
       "      <td>No</td>\n",
       "      <td>3.5</td>\n",
       "      <td>45.0</td>\n",
       "      <td>Urban</td>\n",
       "      <td>Male</td>\n",
       "      <td>0</td>\n",
       "      <td>0-5</td>\n",
       "      <td>Secondary+</td>\n",
       "      <td>Fourth</td>\n",
       "      <td>No</td>\n",
       "    </tr>\n",
       "    <tr>\n",
       "      <th>796</th>\n",
       "      <td>1</td>\n",
       "      <td>No</td>\n",
       "      <td>15.1</td>\n",
       "      <td>86.0</td>\n",
       "      <td>Urban</td>\n",
       "      <td>Female</td>\n",
       "      <td>56</td>\n",
       "      <td>48-59</td>\n",
       "      <td>Primary</td>\n",
       "      <td>Fourth</td>\n",
       "      <td>Yes</td>\n",
       "    </tr>\n",
       "    <tr>\n",
       "      <th>797</th>\n",
       "      <td>1</td>\n",
       "      <td>No</td>\n",
       "      <td>10.7</td>\n",
       "      <td>71.2</td>\n",
       "      <td>Urban</td>\n",
       "      <td>Female</td>\n",
       "      <td>18</td>\n",
       "      <td>12-23</td>\n",
       "      <td>Primary</td>\n",
       "      <td>Fourth</td>\n",
       "      <td>Yes</td>\n",
       "    </tr>\n",
       "    <tr>\n",
       "      <th>798</th>\n",
       "      <td>1</td>\n",
       "      <td>No</td>\n",
       "      <td>10.3</td>\n",
       "      <td>73.0</td>\n",
       "      <td>Urban</td>\n",
       "      <td>Female</td>\n",
       "      <td>7</td>\n",
       "      <td>6-11</td>\n",
       "      <td>Primary</td>\n",
       "      <td>Middle</td>\n",
       "      <td>No</td>\n",
       "    </tr>\n",
       "  </tbody>\n",
       "</table>\n",
       "</div>"
      ],
      "text/plain": [
       "     Child participated in POLIO campaign August 2013  diarrhea_status  \\\n",
       "794                                                 1               No   \n",
       "795                                                 2               No   \n",
       "796                                                 1               No   \n",
       "797                                                 1               No   \n",
       "798                                                 1               No   \n",
       "\n",
       "     weight  height residence     Sex  age age_category   education  \\\n",
       "794     8.3    67.0     Urban  Female    7         6-11     Primary   \n",
       "795     3.5    45.0     Urban    Male    0          0-5  Secondary+   \n",
       "796    15.1    86.0     Urban  Female   56        48-59     Primary   \n",
       "797    10.7    71.2     Urban  Female   18        12-23     Primary   \n",
       "798    10.3    73.0     Urban  Female    7         6-11     Primary   \n",
       "\n",
       "    wealth_index is_adult  \n",
       "794       Fourth       No  \n",
       "795       Fourth       No  \n",
       "796       Fourth      Yes  \n",
       "797       Fourth      Yes  \n",
       "798       Middle       No  "
      ]
     },
     "execution_count": 27,
     "metadata": {},
     "output_type": "execute_result"
    }
   ],
   "source": [
    "df.loc[df['age']>=18,'is_adult']='Yes'\n",
    "df.loc[df['age']<18,'is_adult']='No'\n",
    "df.tail()"
   ]
  },
  {
   "cell_type": "code",
   "execution_count": null,
   "id": "48463e88-5046-40b9-8393-6abf2cdd31eb",
   "metadata": {},
   "outputs": [],
   "source": [
    "df.drop_duplicates(inplace=True)"
   ]
  },
  {
   "cell_type": "code",
   "execution_count": null,
   "id": "abcd5f27-ac5a-4424-a46c-a0aaee3ba558",
   "metadata": {},
   "outputs": [],
   "source": [
    "df['wealth_index']=df['wealth_index'].str.upper()# or lower\n",
    "df.head()"
   ]
  },
  {
   "cell_type": "code",
   "execution_count": 32,
   "id": "9e8bb235-de1e-418f-a6be-a562f39bc34c",
   "metadata": {},
   "outputs": [
    {
     "data": {
      "text/html": [
       "<div>\n",
       "<style scoped>\n",
       "    .dataframe tbody tr th:only-of-type {\n",
       "        vertical-align: middle;\n",
       "    }\n",
       "\n",
       "    .dataframe tbody tr th {\n",
       "        vertical-align: top;\n",
       "    }\n",
       "\n",
       "    .dataframe thead th {\n",
       "        text-align: right;\n",
       "    }\n",
       "</style>\n",
       "<table border=\"1\" class=\"dataframe\">\n",
       "  <thead>\n",
       "    <tr style=\"text-align: right;\">\n",
       "      <th></th>\n",
       "      <th>Child participated in POLIO campaign August 2013</th>\n",
       "      <th>diarrhea_status</th>\n",
       "      <th>weight</th>\n",
       "      <th>height</th>\n",
       "      <th>residence</th>\n",
       "      <th>Sex</th>\n",
       "      <th>age</th>\n",
       "      <th>age_category</th>\n",
       "      <th>education</th>\n",
       "      <th>wealth_index</th>\n",
       "      <th>is_adult</th>\n",
       "    </tr>\n",
       "  </thead>\n",
       "  <tbody>\n",
       "    <tr>\n",
       "      <th>794</th>\n",
       "      <td>1</td>\n",
       "      <td>No</td>\n",
       "      <td>8.3</td>\n",
       "      <td>67.0</td>\n",
       "      <td>Urban</td>\n",
       "      <td>FEMALE</td>\n",
       "      <td>7</td>\n",
       "      <td>6-11</td>\n",
       "      <td>Primary</td>\n",
       "      <td>Fourth</td>\n",
       "      <td>No</td>\n",
       "    </tr>\n",
       "    <tr>\n",
       "      <th>795</th>\n",
       "      <td>2</td>\n",
       "      <td>No</td>\n",
       "      <td>3.5</td>\n",
       "      <td>45.0</td>\n",
       "      <td>Urban</td>\n",
       "      <td>MALE</td>\n",
       "      <td>0</td>\n",
       "      <td>0-5</td>\n",
       "      <td>Secondary+</td>\n",
       "      <td>Fourth</td>\n",
       "      <td>No</td>\n",
       "    </tr>\n",
       "    <tr>\n",
       "      <th>796</th>\n",
       "      <td>1</td>\n",
       "      <td>No</td>\n",
       "      <td>15.1</td>\n",
       "      <td>86.0</td>\n",
       "      <td>Urban</td>\n",
       "      <td>FEMALE</td>\n",
       "      <td>56</td>\n",
       "      <td>48-59</td>\n",
       "      <td>Primary</td>\n",
       "      <td>Fourth</td>\n",
       "      <td>Yes</td>\n",
       "    </tr>\n",
       "    <tr>\n",
       "      <th>797</th>\n",
       "      <td>1</td>\n",
       "      <td>No</td>\n",
       "      <td>10.7</td>\n",
       "      <td>71.2</td>\n",
       "      <td>Urban</td>\n",
       "      <td>FEMALE</td>\n",
       "      <td>18</td>\n",
       "      <td>12-23</td>\n",
       "      <td>Primary</td>\n",
       "      <td>Fourth</td>\n",
       "      <td>Yes</td>\n",
       "    </tr>\n",
       "    <tr>\n",
       "      <th>798</th>\n",
       "      <td>1</td>\n",
       "      <td>No</td>\n",
       "      <td>10.3</td>\n",
       "      <td>73.0</td>\n",
       "      <td>Urban</td>\n",
       "      <td>FEMALE</td>\n",
       "      <td>7</td>\n",
       "      <td>6-11</td>\n",
       "      <td>Primary</td>\n",
       "      <td>Middle</td>\n",
       "      <td>No</td>\n",
       "    </tr>\n",
       "  </tbody>\n",
       "</table>\n",
       "</div>"
      ],
      "text/plain": [
       "     Child participated in POLIO campaign August 2013  diarrhea_status  \\\n",
       "794                                                 1               No   \n",
       "795                                                 2               No   \n",
       "796                                                 1               No   \n",
       "797                                                 1               No   \n",
       "798                                                 1               No   \n",
       "\n",
       "     weight  height residence     Sex  age age_category   education  \\\n",
       "794     8.3    67.0     Urban  FEMALE    7         6-11     Primary   \n",
       "795     3.5    45.0     Urban    MALE    0          0-5  Secondary+   \n",
       "796    15.1    86.0     Urban  FEMALE   56        48-59     Primary   \n",
       "797    10.7    71.2     Urban  FEMALE   18        12-23     Primary   \n",
       "798    10.3    73.0     Urban  FEMALE    7         6-11     Primary   \n",
       "\n",
       "    wealth_index is_adult  \n",
       "794       Fourth       No  \n",
       "795       Fourth       No  \n",
       "796       Fourth      Yes  \n",
       "797       Fourth      Yes  \n",
       "798       Middle       No  "
      ]
     },
     "execution_count": 32,
     "metadata": {},
     "output_type": "execute_result"
    }
   ],
   "source": [
    "df['Sex']=df['Sex'].str.upper()# or lower\n",
    "df.tail()"
   ]
  },
  {
   "cell_type": "code",
   "execution_count": 93,
   "id": "9d13bca0-8151-4a2e-ac79-d10f4e2b7396",
   "metadata": {},
   "outputs": [
    {
     "ename": "SyntaxError",
     "evalue": "invalid syntax (2370284043.py, line 1)",
     "output_type": "error",
     "traceback": [
      "\u001b[1;36m  Cell \u001b[1;32mIn[93], line 1\u001b[1;36m\u001b[0m\n\u001b[1;33m    merged_df=pd.merge(df1=df2.on='common_column')\u001b[0m\n\u001b[1;37m                                 ^\u001b[0m\n\u001b[1;31mSyntaxError\u001b[0m\u001b[1;31m:\u001b[0m invalid syntax\n"
     ]
    }
   ],
   "source": [
    "merged_df=pd.merge(df1=df2.on='common_column')\n",
    "pd.merge()"
   ]
  },
  {
   "cell_type": "code",
   "execution_count": 4,
   "id": "66b6b54b-b8b3-4cf6-8df0-008a784f925e",
   "metadata": {},
   "outputs": [
    {
     "data": {
      "text/html": [
       "<div>\n",
       "<style scoped>\n",
       "    .dataframe tbody tr th:only-of-type {\n",
       "        vertical-align: middle;\n",
       "    }\n",
       "\n",
       "    .dataframe tbody tr th {\n",
       "        vertical-align: top;\n",
       "    }\n",
       "\n",
       "    .dataframe thead th {\n",
       "        text-align: right;\n",
       "    }\n",
       "</style>\n",
       "<table border=\"1\" class=\"dataframe\">\n",
       "  <thead>\n",
       "    <tr style=\"text-align: right;\">\n",
       "      <th></th>\n",
       "      <th>Child participated in POLIO campaign August 2013</th>\n",
       "      <th>diarrhea_status</th>\n",
       "      <th>weight</th>\n",
       "      <th>height</th>\n",
       "      <th>residence</th>\n",
       "      <th>Sex</th>\n",
       "      <th>age</th>\n",
       "      <th>age_category</th>\n",
       "      <th>education</th>\n",
       "      <th>wealth_index</th>\n",
       "    </tr>\n",
       "  </thead>\n",
       "  <tbody>\n",
       "    <tr>\n",
       "      <th>399</th>\n",
       "      <td>1</td>\n",
       "      <td>Yes</td>\n",
       "      <td>12.6</td>\n",
       "      <td>88.9</td>\n",
       "      <td>Urban</td>\n",
       "      <td>Female</td>\n",
       "      <td>27</td>\n",
       "      <td>24-35</td>\n",
       "      <td>Primary</td>\n",
       "      <td>Fourth</td>\n",
       "    </tr>\n",
       "    <tr>\n",
       "      <th>134</th>\n",
       "      <td>1</td>\n",
       "      <td>No</td>\n",
       "      <td>11.3</td>\n",
       "      <td>86.0</td>\n",
       "      <td>Rural</td>\n",
       "      <td>Male</td>\n",
       "      <td>25</td>\n",
       "      <td>24-35</td>\n",
       "      <td>Primary</td>\n",
       "      <td>Fourth</td>\n",
       "    </tr>\n",
       "    <tr>\n",
       "      <th>146</th>\n",
       "      <td>1</td>\n",
       "      <td>No</td>\n",
       "      <td>12.5</td>\n",
       "      <td>92.5</td>\n",
       "      <td>Rural</td>\n",
       "      <td>Male</td>\n",
       "      <td>31</td>\n",
       "      <td>24-35</td>\n",
       "      <td>Secondary+</td>\n",
       "      <td>Fourth</td>\n",
       "    </tr>\n",
       "    <tr>\n",
       "      <th>473</th>\n",
       "      <td>1</td>\n",
       "      <td>No</td>\n",
       "      <td>11.2</td>\n",
       "      <td>71.4</td>\n",
       "      <td>Rural</td>\n",
       "      <td>Female</td>\n",
       "      <td>11</td>\n",
       "      <td>6-11</td>\n",
       "      <td>Primary</td>\n",
       "      <td>Fourth</td>\n",
       "    </tr>\n",
       "    <tr>\n",
       "      <th>472</th>\n",
       "      <td>1</td>\n",
       "      <td>No</td>\n",
       "      <td>11.8</td>\n",
       "      <td>90.4</td>\n",
       "      <td>Rural</td>\n",
       "      <td>Female</td>\n",
       "      <td>40</td>\n",
       "      <td>36-47</td>\n",
       "      <td>Primary</td>\n",
       "      <td>Fourth</td>\n",
       "    </tr>\n",
       "  </tbody>\n",
       "</table>\n",
       "</div>"
      ],
      "text/plain": [
       "     Child participated in POLIO campaign August 2013  diarrhea_status  \\\n",
       "399                                                 1              Yes   \n",
       "134                                                 1               No   \n",
       "146                                                 1               No   \n",
       "473                                                 1               No   \n",
       "472                                                 1               No   \n",
       "\n",
       "     weight  height residence     Sex  age age_category   education  \\\n",
       "399    12.6    88.9     Urban  Female   27        24-35     Primary   \n",
       "134    11.3    86.0     Rural    Male   25        24-35     Primary   \n",
       "146    12.5    92.5     Rural    Male   31        24-35  Secondary+   \n",
       "473    11.2    71.4     Rural  Female   11         6-11     Primary   \n",
       "472    11.8    90.4     Rural  Female   40        36-47     Primary   \n",
       "\n",
       "    wealth_index  \n",
       "399       Fourth  \n",
       "134       Fourth  \n",
       "146       Fourth  \n",
       "473       Fourth  \n",
       "472       Fourth  "
      ]
     },
     "execution_count": 4,
     "metadata": {},
     "output_type": "execute_result"
    }
   ],
   "source": [
    "sorted_df=df.sort_values(by='wealth_index',ascending=True)\n",
    "sorted_df.head()"
   ]
  },
  {
   "cell_type": "code",
   "execution_count": 48,
   "id": "1af39ca0-ff6a-4d16-8b50-54ff1ecd2070",
   "metadata": {},
   "outputs": [
    {
     "data": {
      "text/html": [
       "<div>\n",
       "<style scoped>\n",
       "    .dataframe tbody tr th:only-of-type {\n",
       "        vertical-align: middle;\n",
       "    }\n",
       "\n",
       "    .dataframe tbody tr th {\n",
       "        vertical-align: top;\n",
       "    }\n",
       "\n",
       "    .dataframe thead th {\n",
       "        text-align: right;\n",
       "    }\n",
       "</style>\n",
       "<table border=\"1\" class=\"dataframe\">\n",
       "  <thead>\n",
       "    <tr style=\"text-align: right;\">\n",
       "      <th></th>\n",
       "      <th>Child participated in POLIO campaign August 2013</th>\n",
       "      <th>diarrhea_status</th>\n",
       "      <th>weight</th>\n",
       "      <th>height</th>\n",
       "      <th>residence</th>\n",
       "      <th>Sex</th>\n",
       "      <th>age</th>\n",
       "      <th>age_category</th>\n",
       "      <th>education</th>\n",
       "      <th>wealth_index</th>\n",
       "      <th>is_adult</th>\n",
       "    </tr>\n",
       "  </thead>\n",
       "  <tbody>\n",
       "    <tr>\n",
       "      <th>125</th>\n",
       "      <td>1</td>\n",
       "      <td>No</td>\n",
       "      <td>14.9</td>\n",
       "      <td>99.2</td>\n",
       "      <td>RURAL</td>\n",
       "      <td>RURAL</td>\n",
       "      <td>49</td>\n",
       "      <td>48-59</td>\n",
       "      <td>PRIMARY</td>\n",
       "      <td>SECOND</td>\n",
       "      <td>YES</td>\n",
       "    </tr>\n",
       "    <tr>\n",
       "      <th>725</th>\n",
       "      <td>8</td>\n",
       "      <td>No</td>\n",
       "      <td>18.0</td>\n",
       "      <td>106.3</td>\n",
       "      <td>URBAN</td>\n",
       "      <td>URBAN</td>\n",
       "      <td>56</td>\n",
       "      <td>48-59</td>\n",
       "      <td>PRIMARY</td>\n",
       "      <td>SECOND</td>\n",
       "      <td>YES</td>\n",
       "    </tr>\n",
       "    <tr>\n",
       "      <th>109</th>\n",
       "      <td>2</td>\n",
       "      <td>No</td>\n",
       "      <td>7.1</td>\n",
       "      <td>60.2</td>\n",
       "      <td>RURAL</td>\n",
       "      <td>RURAL</td>\n",
       "      <td>5</td>\n",
       "      <td>0-5</td>\n",
       "      <td>PRIMARY</td>\n",
       "      <td>SECOND</td>\n",
       "      <td>NO</td>\n",
       "    </tr>\n",
       "    <tr>\n",
       "      <th>113</th>\n",
       "      <td>1</td>\n",
       "      <td>No</td>\n",
       "      <td>15.4</td>\n",
       "      <td>101.6</td>\n",
       "      <td>RURAL</td>\n",
       "      <td>RURAL</td>\n",
       "      <td>52</td>\n",
       "      <td>48-59</td>\n",
       "      <td>PRIMARY</td>\n",
       "      <td>SECOND</td>\n",
       "      <td>YES</td>\n",
       "    </tr>\n",
       "    <tr>\n",
       "      <th>675</th>\n",
       "      <td>1</td>\n",
       "      <td>No</td>\n",
       "      <td>15.3</td>\n",
       "      <td>98.0</td>\n",
       "      <td>URBAN</td>\n",
       "      <td>URBAN</td>\n",
       "      <td>56</td>\n",
       "      <td>48-59</td>\n",
       "      <td>SECONDARY+</td>\n",
       "      <td>SECOND</td>\n",
       "      <td>YES</td>\n",
       "    </tr>\n",
       "  </tbody>\n",
       "</table>\n",
       "</div>"
      ],
      "text/plain": [
       "     Child participated in POLIO campaign August 2013  diarrhea_status  \\\n",
       "125                                                 1               No   \n",
       "725                                                 8               No   \n",
       "109                                                 2               No   \n",
       "113                                                 1               No   \n",
       "675                                                 1               No   \n",
       "\n",
       "     weight  height residence    Sex  age age_category   education  \\\n",
       "125    14.9    99.2     RURAL  RURAL   49        48-59     PRIMARY   \n",
       "725    18.0   106.3     URBAN  URBAN   56        48-59     PRIMARY   \n",
       "109     7.1    60.2     RURAL  RURAL    5          0-5     PRIMARY   \n",
       "113    15.4   101.6     RURAL  RURAL   52        48-59     PRIMARY   \n",
       "675    15.3    98.0     URBAN  URBAN   56        48-59  SECONDARY+   \n",
       "\n",
       "    wealth_index is_adult  \n",
       "125       SECOND      YES  \n",
       "725       SECOND      YES  \n",
       "109       SECOND       NO  \n",
       "113       SECOND      YES  \n",
       "675       SECOND      YES  "
      ]
     },
     "execution_count": 48,
     "metadata": {},
     "output_type": "execute_result"
    }
   ],
   "source": [
    "sorted_df=df.sort_values(by='wealth_index',ascending=False)\n",
    "sorted_df.head()"
   ]
  },
  {
   "cell_type": "code",
   "execution_count": 42,
   "id": "82bcd396-f94c-46ee-a8e6-895f45f97c38",
   "metadata": {},
   "outputs": [
    {
     "data": {
      "text/plain": [
       "is_adult\n",
       "NO     235\n",
       "YES    564\n",
       "dtype: int64"
      ]
     },
     "execution_count": 42,
     "metadata": {},
     "output_type": "execute_result"
    }
   ],
   "source": [
    "df.groupby('is_adult').size()"
   ]
  },
  {
   "cell_type": "code",
   "execution_count": 45,
   "id": "39cbb33b-5e21-484a-b737-d854bc000d36",
   "metadata": {},
   "outputs": [
    {
     "data": {
      "text/plain": [
       "age\n",
       "0      7\n",
       "1     10\n",
       "2     10\n",
       "3     12\n",
       "4     17\n",
       "5     24\n",
       "6     22\n",
       "7     11\n",
       "8     16\n",
       "9     14\n",
       "10    12\n",
       "11     7\n",
       "12    12\n",
       "13    13\n",
       "14    12\n",
       "15    18\n",
       "16    10\n",
       "17     8\n",
       "18    14\n",
       "19    11\n",
       "20    23\n",
       "21     8\n",
       "22    11\n",
       "23     8\n",
       "24    13\n",
       "25    18\n",
       "26    10\n",
       "27    13\n",
       "28    12\n",
       "29    11\n",
       "30     9\n",
       "31    12\n",
       "32    12\n",
       "33    14\n",
       "34    14\n",
       "35    20\n",
       "36    16\n",
       "37    19\n",
       "38    18\n",
       "39    20\n",
       "40    23\n",
       "41    14\n",
       "42    14\n",
       "43    19\n",
       "44    14\n",
       "45    16\n",
       "46     9\n",
       "47    14\n",
       "48    12\n",
       "49    11\n",
       "50     9\n",
       "51    16\n",
       "52    16\n",
       "53     8\n",
       "54    10\n",
       "55     6\n",
       "56    17\n",
       "57     8\n",
       "58     9\n",
       "59    13\n",
       "dtype: int64"
      ]
     },
     "execution_count": 45,
     "metadata": {},
     "output_type": "execute_result"
    }
   ],
   "source": [
    "df.groupby('age').size()"
   ]
  },
  {
   "cell_type": "code",
   "execution_count": 97,
   "id": "7f98886e-55fc-4994-a3a1-9f8bb8b67a5e",
   "metadata": {},
   "outputs": [
    {
     "data": {
      "text/html": [
       "<div>\n",
       "<style scoped>\n",
       "    .dataframe tbody tr th:only-of-type {\n",
       "        vertical-align: middle;\n",
       "    }\n",
       "\n",
       "    .dataframe tbody tr th {\n",
       "        vertical-align: top;\n",
       "    }\n",
       "\n",
       "    .dataframe thead th {\n",
       "        text-align: right;\n",
       "    }\n",
       "</style>\n",
       "<table border=\"1\" class=\"dataframe\">\n",
       "  <thead>\n",
       "    <tr style=\"text-align: right;\">\n",
       "      <th></th>\n",
       "      <th>Child participated in POLIO campaign August 2013</th>\n",
       "      <th>diarrhea_status</th>\n",
       "      <th>weight</th>\n",
       "      <th>height</th>\n",
       "      <th>residence</th>\n",
       "      <th>Sex</th>\n",
       "      <th>age</th>\n",
       "      <th>age_category</th>\n",
       "      <th>education</th>\n",
       "      <th>wealth_index</th>\n",
       "    </tr>\n",
       "  </thead>\n",
       "  <tbody>\n",
       "    <tr>\n",
       "      <th>795</th>\n",
       "      <td>2</td>\n",
       "      <td>No</td>\n",
       "      <td>3.5</td>\n",
       "      <td>45.0</td>\n",
       "      <td>Urban</td>\n",
       "      <td>Male</td>\n",
       "      <td>0</td>\n",
       "      <td>0-5</td>\n",
       "      <td>Secondary+</td>\n",
       "      <td>Fourth</td>\n",
       "    </tr>\n",
       "    <tr>\n",
       "      <th>577</th>\n",
       "      <td>2</td>\n",
       "      <td>No</td>\n",
       "      <td>4.8</td>\n",
       "      <td>48.2</td>\n",
       "      <td>Rural</td>\n",
       "      <td>Female</td>\n",
       "      <td>1</td>\n",
       "      <td>0-5</td>\n",
       "      <td>Primary</td>\n",
       "      <td>Poorest</td>\n",
       "    </tr>\n",
       "    <tr>\n",
       "      <th>456</th>\n",
       "      <td>2</td>\n",
       "      <td>No</td>\n",
       "      <td>3.2</td>\n",
       "      <td>48.2</td>\n",
       "      <td>Rural</td>\n",
       "      <td>Female</td>\n",
       "      <td>0</td>\n",
       "      <td>0-5</td>\n",
       "      <td>Primary</td>\n",
       "      <td>Poorest</td>\n",
       "    </tr>\n",
       "    <tr>\n",
       "      <th>73</th>\n",
       "      <td>2</td>\n",
       "      <td>No</td>\n",
       "      <td>4.6</td>\n",
       "      <td>50.0</td>\n",
       "      <td>Rural</td>\n",
       "      <td>Female</td>\n",
       "      <td>1</td>\n",
       "      <td>0-5</td>\n",
       "      <td>Secondary+</td>\n",
       "      <td>Richest</td>\n",
       "    </tr>\n",
       "    <tr>\n",
       "      <th>407</th>\n",
       "      <td>2</td>\n",
       "      <td>No</td>\n",
       "      <td>5.9</td>\n",
       "      <td>50.1</td>\n",
       "      <td>Urban</td>\n",
       "      <td>Female</td>\n",
       "      <td>0</td>\n",
       "      <td>0-5</td>\n",
       "      <td>Secondary+</td>\n",
       "      <td>Richest</td>\n",
       "    </tr>\n",
       "  </tbody>\n",
       "</table>\n",
       "</div>"
      ],
      "text/plain": [
       "     Child participated in POLIO campaign August 2013  diarrhea_status  \\\n",
       "795                                                 2               No   \n",
       "577                                                 2               No   \n",
       "456                                                 2               No   \n",
       "73                                                  2               No   \n",
       "407                                                 2               No   \n",
       "\n",
       "     weight  height residence     Sex  age age_category   education  \\\n",
       "795     3.5    45.0     Urban    Male    0          0-5  Secondary+   \n",
       "577     4.8    48.2     Rural  Female    1          0-5     Primary   \n",
       "456     3.2    48.2     Rural  Female    0          0-5     Primary   \n",
       "73      4.6    50.0     Rural  Female    1          0-5  Secondary+   \n",
       "407     5.9    50.1     Urban  Female    0          0-5  Secondary+   \n",
       "\n",
       "    wealth_index  \n",
       "795       Fourth  \n",
       "577      Poorest  \n",
       "456      Poorest  \n",
       "73       Richest  \n",
       "407      Richest  "
      ]
     },
     "execution_count": 97,
     "metadata": {},
     "output_type": "execute_result"
    }
   ],
   "source": [
    "sorted_df=df.sort_values(by='height',ascending=True)\n",
    "sorted_df.head()"
   ]
  },
  {
   "cell_type": "code",
   "execution_count": 56,
   "id": "dd25b46b-1ed2-497a-a937-84f1a302f8f3",
   "metadata": {},
   "outputs": [
    {
     "name": "stdout",
     "output_type": "stream",
     "text": [
      "Defaulting to user installation because normal site-packages is not writeable\n",
      "Requirement already satisfied: matplotlip in c:\\users\\admin\\appdata\\roaming\\python\\python311\\site-packages (0.2)\n"
     ]
    }
   ],
   "source": [
    "!pip install matplotlip"
   ]
  },
  {
   "cell_type": "code",
   "execution_count": 57,
   "id": "daada421-6093-4191-9a25-4f7cd3acd840",
   "metadata": {},
   "outputs": [
    {
     "name": "stdout",
     "output_type": "stream",
     "text": [
      "Defaulting to user installation because normal site-packages is not writeable\n",
      "Requirement already satisfied: matplotlip in c:\\users\\admin\\appdata\\roaming\\python\\python311\\site-packages (0.2)\n"
     ]
    }
   ],
   "source": [
    "!pip install matplotlip"
   ]
  },
  {
   "cell_type": "code",
   "execution_count": 61,
   "id": "12e58b1b-9787-4e38-b6e6-83916b35c7c2",
   "metadata": {},
   "outputs": [],
   "source": [
    "import matplotlib.pyplot as plt"
   ]
  },
  {
   "cell_type": "code",
   "execution_count": 63,
   "id": "07284f1b-510f-4e8e-9262-fbb3e355d42d",
   "metadata": {},
   "outputs": [],
   "source": [
    "df=pd.read_csv(\"childhealthdata.csv\")\n"
   ]
  },
  {
   "cell_type": "code",
   "execution_count": 67,
   "id": "5304da6c-56da-462a-9343-8a08cf1e6b01",
   "metadata": {},
   "outputs": [],
   "source": [
    "Data=pd.read_csv(\"childhealthdata.csv\")\n"
   ]
  },
  {
   "cell_type": "code",
   "execution_count": 73,
   "id": "b6adb355-5125-44ba-bdbf-37bd05ce6024",
   "metadata": {},
   "outputs": [],
   "source": [
    "Data=pd.read_csv(\"childhealthdata.csv\")"
   ]
  },
  {
   "cell_type": "code",
   "execution_count": 68,
   "id": "bd8b4ab5-8657-4815-b35e-99ad63c4ed27",
   "metadata": {},
   "outputs": [
    {
     "data": {
      "text/plain": [
       "(799, 10)"
      ]
     },
     "execution_count": 68,
     "metadata": {},
     "output_type": "execute_result"
    }
   ],
   "source": [
    "Data.shape"
   ]
  },
  {
   "cell_type": "code",
   "execution_count": 70,
   "id": "6439627d-feea-4d13-aa64-ade3aa515244",
   "metadata": {},
   "outputs": [
    {
     "data": {
      "text/plain": [
       "<bound method NDFrame.head of      Child participated in POLIO campaign August 2013  diarrhea_status  \\\n",
       "0                                                   1               No   \n",
       "1                                                   1               No   \n",
       "2                                                   1               No   \n",
       "3                                                   1               No   \n",
       "4                                                   1               No   \n",
       "..                                                ...              ...   \n",
       "794                                                 1               No   \n",
       "795                                                 2               No   \n",
       "796                                                 1               No   \n",
       "797                                                 1               No   \n",
       "798                                                 1               No   \n",
       "\n",
       "     weight  height residence     Sex  age age_category   education  \\\n",
       "0      16.2   102.4     Rural  Female   45        36-47  Secondary+   \n",
       "1      13.5    92.5     Rural    Male   45        36-47     Primary   \n",
       "2      13.4    88.5     Rural    Male   36        36-47     Primary   \n",
       "3      15.0   101.3     Rural  Female   51        48-59     Primary   \n",
       "4      15.2   105.0     Rural  Female   56        48-59     Primary   \n",
       "..      ...     ...       ...     ...  ...          ...         ...   \n",
       "794     8.3    67.0     Urban  Female    7         6-11     Primary   \n",
       "795     3.5    45.0     Urban    Male    0          0-5  Secondary+   \n",
       "796    15.1    86.0     Urban  Female   56        48-59     Primary   \n",
       "797    10.7    71.2     Urban  Female   18        12-23     Primary   \n",
       "798    10.3    73.0     Urban  Female    7         6-11     Primary   \n",
       "\n",
       "    wealth_index  \n",
       "0        Richest  \n",
       "1         Second  \n",
       "2         Fourth  \n",
       "3         Fourth  \n",
       "4         Fourth  \n",
       "..           ...  \n",
       "794       Fourth  \n",
       "795       Fourth  \n",
       "796       Fourth  \n",
       "797       Fourth  \n",
       "798       Middle  \n",
       "\n",
       "[799 rows x 10 columns]>"
      ]
     },
     "execution_count": 70,
     "metadata": {},
     "output_type": "execute_result"
    }
   ],
   "source": [
    "Data.head"
   ]
  },
  {
   "cell_type": "code",
   "execution_count": 71,
   "id": "44dadd91-568a-473c-bc0e-39a199c95b7f",
   "metadata": {},
   "outputs": [
    {
     "data": {
      "text/plain": [
       "<bound method NDFrame.tail of      Child participated in POLIO campaign August 2013  diarrhea_status  \\\n",
       "0                                                   1               No   \n",
       "1                                                   1               No   \n",
       "2                                                   1               No   \n",
       "3                                                   1               No   \n",
       "4                                                   1               No   \n",
       "..                                                ...              ...   \n",
       "794                                                 1               No   \n",
       "795                                                 2               No   \n",
       "796                                                 1               No   \n",
       "797                                                 1               No   \n",
       "798                                                 1               No   \n",
       "\n",
       "     weight  height residence     Sex  age age_category   education  \\\n",
       "0      16.2   102.4     Rural  Female   45        36-47  Secondary+   \n",
       "1      13.5    92.5     Rural    Male   45        36-47     Primary   \n",
       "2      13.4    88.5     Rural    Male   36        36-47     Primary   \n",
       "3      15.0   101.3     Rural  Female   51        48-59     Primary   \n",
       "4      15.2   105.0     Rural  Female   56        48-59     Primary   \n",
       "..      ...     ...       ...     ...  ...          ...         ...   \n",
       "794     8.3    67.0     Urban  Female    7         6-11     Primary   \n",
       "795     3.5    45.0     Urban    Male    0          0-5  Secondary+   \n",
       "796    15.1    86.0     Urban  Female   56        48-59     Primary   \n",
       "797    10.7    71.2     Urban  Female   18        12-23     Primary   \n",
       "798    10.3    73.0     Urban  Female    7         6-11     Primary   \n",
       "\n",
       "    wealth_index  \n",
       "0        Richest  \n",
       "1         Second  \n",
       "2         Fourth  \n",
       "3         Fourth  \n",
       "4         Fourth  \n",
       "..           ...  \n",
       "794       Fourth  \n",
       "795       Fourth  \n",
       "796       Fourth  \n",
       "797       Fourth  \n",
       "798       Middle  \n",
       "\n",
       "[799 rows x 10 columns]>"
      ]
     },
     "execution_count": 71,
     "metadata": {},
     "output_type": "execute_result"
    }
   ],
   "source": [
    "Data.tail"
   ]
  },
  {
   "cell_type": "code",
   "execution_count": 75,
   "id": "59f6f450-0a5f-47ff-a615-c52aac200e26",
   "metadata": {},
   "outputs": [
    {
     "data": {
      "text/plain": [
       "Index(['Child participated in POLIO campaign August 2013', ' diarrhea_status',\n",
       "       'weight', 'height', 'residence', 'Sex', 'age', 'age_category',\n",
       "       'education', 'wealth_index'],\n",
       "      dtype='object')"
      ]
     },
     "execution_count": 75,
     "metadata": {},
     "output_type": "execute_result"
    }
   ],
   "source": [
    "Data.columns"
   ]
  },
  {
   "cell_type": "code",
   "execution_count": 81,
   "id": "cd8a1344-e391-4ca5-9a0f-96095d2fa507",
   "metadata": {},
   "outputs": [
    {
     "data": {
      "image/png": "[encoded data removed]",
      "text/plain": [
       "<Figure size 1000x500 with 1 Axes>"
      ]
     },
     "metadata": {},
     "output_type": "display_data"
    }
   ],
   "source": [
    "import matplotlib.pyplot as plt\n",
    "gender_counts=Data['Sex'].value_counts()\n",
    "plt.figure(figsize=(10,5))\n",
    "plt.pie(gender_counts,labels=gender_counts.index,\n",
    "autopct='%1.1f%%',startangle=140)\n",
    "plt.title('Distribution by gender')\n",
    "plt.axis('equal')\n",
    "plt.show()"
   ]
  },
  {
   "cell_type": "code",
   "execution_count": 95,
   "id": "5c693932-6fab-43da-b6b8-e847f7ffe6d2",
   "metadata": {},
   "outputs": [
    {
     "data": {
      "image/png": "[encoded data removed]",
      "text/plain": [
       "<Figure size 600x1000 with 1 Axes>"
      ]
     },
     "metadata": {},
     "output_type": "display_data"
    }
   ],
   "source": [
    "education_counts=Data['education'].value_counts()\n",
    "plt.figure(figsize=(6,10))\n",
    "plt.bar(education_counts.index,education_counts.values,\n",
    "color='purple')\n",
    "plt.xlabel('education')\n",
    "plt.ylabel('count')\n",
    "plt.title('Distribution by education')\n",
    "plt.xticks(rotation=45)#Rotate labels if needed for better readability\n",
    "plt.show()"
   ]
  },
  {
   "cell_type": "code",
   "execution_count": 97,
   "id": "0eda5f8c-e53a-4e7a-9947-57a065600947",
   "metadata": {},
   "outputs": [
    {
     "data": {
      "image/png": "[encoded data removed]",
      "text/plain": [
       "<Figure size 600x1000 with 1 Axes>"
      ]
     },
     "metadata": {},
     "output_type": "display_data"
    }
   ],
   "source": [
    "Sex_counts=Data['Sex'].value_counts()\n",
    "plt.figure(figsize=(6,10))\n",
    "plt.bar(Sex_counts.index,Sex_counts.values,\n",
    "color='black')\n",
    "plt.xlabel('sex')\n",
    "plt.ylabel('count')\n",
    "plt.title('Distribution by Sex')\n",
    "plt.xticks(rotation=45)#Rotate labels if needed for better readability\n",
    "plt.show()"
   ]
  },
  {
   "cell_type": "code",
   "execution_count": 103,
   "id": "03866d89-9680-4e3e-8dd5-46982a99fdb7",
   "metadata": {},
   "outputs": [
    {
     "data": {
      "image/png": "[encoded data removed]",
      "text/plain": [
       "<Figure size 500x1000 with 1 Axes>"
      ]
     },
     "metadata": {},
     "output_type": "display_data"
    }
   ],
   "source": [
    "\n",
    "plt.figure(figsize=(5,10))\n",
    "plt.hist(Data['age'],bins=10,color='skyblue',edgecolor='black')\n",
    "plt.title('Distribution of age')\n",
    "plt.xlabel('Age')\n",
    "plt.ylabel('frequency')\n",
    "plt.show()"
   ]
  },
  {
   "cell_type": "code",
   "execution_count": 13,
   "id": "08b73dba-52d5-4c2b-8a96-5b1baf4088e8",
   "metadata": {},
   "outputs": [
    {
     "name": "stdout",
     "output_type": "stream",
     "text": [
      "/nRows with out-of-range 'height':\n",
      "     Child participated in POLIO campaign August 2013  diarrhea_status  \\\n",
      "43                                                  1               No   \n",
      "103                                                 1               No   \n",
      "127                                                 1               No   \n",
      "158                                                 1               No   \n",
      "396                                                 1               No   \n",
      "450                                                 1               No   \n",
      "456                                                 2               No   \n",
      "531                                                 1               No   \n",
      "577                                                 2               No   \n",
      "678                                                 1               No   \n",
      "733                                                 1               No   \n",
      "757                                                 1               No   \n",
      "795                                                 2               No   \n",
      "\n",
      "     weight  height residence     Sex  age age_category   education  \\\n",
      "43     20.5   112.0     Rural    Male   53        48-59     Primary   \n",
      "103    14.6   114.3     Rural    Male   56        48-59     Primary   \n",
      "127    20.3   110.4     Rural  Female   50        48-59     Primary   \n",
      "158    13.3   111.9     Rural    Male   58        48-59  Secondary+   \n",
      "396    19.3   112.8     Urban    Male   56        48-59  Secondary+   \n",
      "450    12.0   124.8     Rural    Male   52        48-59     Primary   \n",
      "456     3.2    48.2     Rural  Female    0          0-5     Primary   \n",
      "531    20.1   110.1     Rural    Male   58        48-59  Secondary+   \n",
      "577     4.8    48.2     Rural  Female    1          0-5     Primary   \n",
      "678    18.2   112.7     Urban  Female   50        48-59  Secondary+   \n",
      "733    18.7   112.1     Urban  Female   58        48-59  Secondary+   \n",
      "757    19.9   117.9     Urban  Female   58        48-59     Primary   \n",
      "795     3.5    45.0     Urban    Male    0          0-5  Secondary+   \n",
      "\n",
      "    wealth_index  \n",
      "43       Richest  \n",
      "103       Fourth  \n",
      "127       Middle  \n",
      "158       Middle  \n",
      "396      Richest  \n",
      "450       Middle  \n",
      "456      Poorest  \n",
      "531       Second  \n",
      "577      Poorest  \n",
      "678      Poorest  \n",
      "733       Fourth  \n",
      "757       Second  \n",
      "795       Fourth  \n",
      "/nRows with out-of-range 'weight':\n",
      "     Child participated in POLIO campaign August 2013  diarrhea_status  \\\n",
      "43                                                  1               No   \n",
      "127                                                 1               No   \n",
      "531                                                 1               No   \n",
      "627                                                 1               No   \n",
      "\n",
      "     weight  height residence     Sex  age age_category   education  \\\n",
      "43     20.5   112.0     Rural    Male   53        48-59     Primary   \n",
      "127    20.3   110.4     Rural  Female   50        48-59     Primary   \n",
      "531    20.1   110.1     Rural    Male   58        48-59  Secondary+   \n",
      "627    25.0    98.5     Rural    Male   37        36-47  Secondary+   \n",
      "\n",
      "    wealth_index  \n",
      "43       Richest  \n",
      "127       Middle  \n",
      "531       Second  \n",
      "627      Poorest  \n"
     ]
    }
   ],
   "source": [
    "import pandas as pd\n",
    "from scipy import stats\n",
    "csv_file='childhealthdata.csv'\n",
    "df=pd.read_csv(csv_file)\n",
    "\n",
    "height_min, height_max=50, 110\n",
    "weight_min, weight_max=4, 20\n",
    "\n",
    "out_of_range_height=df[(df['height'] < height_min) | (df['height'] > height_max)]\n",
    "out_of_range_weight=df[(df['height'] < weight_min) | (df['weight'] > weight_max)]\n",
    "\n",
    "print(\"/nRows with out-of-range 'height':\")\n",
    "print(out_of_range_height)\n",
    "print(\"/nRows with out-of-range 'weight':\")\n",
    "print(out_of_range_weight)\n",
    "\n"
   ]
  },
  {
   "cell_type": "code",
   "execution_count": null,
   "id": "6481dad4-ce8e-46c2-9b0f-5bba17d49659",
   "metadata": {},
   "outputs": [],
   "source": [
    "data ={  \n",
    "'month':['January','Febuary','March','April','May','June','July','August','September','October','November','December'],\n",
    "'reported_cases':[90,80,70,75,90,85,100,90,85,100,140]\n",
    "}\n",
    "import matplotlib.pyplot as plt\n",
    "df=pd.DataFrame(data)\n",
    "plt.figure(figsize=(10,6))\n",
    "plt.plot(df['month'],df['reported_case'],marker='o')\n",
    "plt.xlabel('month')\n",
    "plt.ylabel('Reported Cases')\n",
    "plt.title('Reported Cases Over Time')\n",
    "plt.grid(True)\n",
    "plt.xticks(rotation=45)\n",
    "plt.show()"
   ]
  },
  {
   "cell_type": "code",
   "execution_count": 92,
   "id": "4435471f-2b3a-42f3-88ec-69dac6fe8c34",
   "metadata": {},
   "outputs": [
    {
     "name": "stdout",
     "output_type": "stream",
     "text": [
      "x is a positive:\n"
     ]
    }
   ],
   "source": [
    "x=10\n",
    "if x>0:\n",
    "    print(\"x is a positive:\")\n",
    "else:\n",
    "   print(\"x is negative\")\n",
    "\n"
   ]
  },
  {
   "cell_type": "code",
   "execution_count": 14,
   "id": "8b5af5f0-0bb9-4eb2-953e-3826b818c526",
   "metadata": {},
   "outputs": [
    {
     "name": "stdout",
     "output_type": "stream",
     "text": [
      "201.41666666666666\n"
     ]
    }
   ],
   "source": [
    "m=[182,199,160,227,173,210,205,227,275,208,169,182]\n",
    "averange_choletrol_level=sum(m)/12\n",
    "print(averange_choletrol_level)"
   ]
  },
  {
   "cell_type": "code",
   "execution_count": 13,
   "id": "282e060b-a53e-41dc-9c27-f114566feed4",
   "metadata": {},
   "outputs": [
    {
     "name": "stdout",
     "output_type": "stream",
     "text": [
      "201.41666666666666\n"
     ]
    }
   ],
   "source": [
    "import numpy as np\n",
    "m=[182,199,160,227,173,210,227,205,275,208,169,182]\n",
    "mean_cholestral=np.mean(m)\n",
    "print(mean_cholestral)\n"
   ]
  },
  {
   "cell_type": "code",
   "execution_count": 21,
   "id": "c722c80f-a3e7-464f-b32a-8efe0b3fe271",
   "metadata": {},
   "outputs": [
    {
     "data": {
      "text/html": [
       "<div>\n",
       "<style scoped>\n",
       "    .dataframe tbody tr th:only-of-type {\n",
       "        vertical-align: middle;\n",
       "    }\n",
       "\n",
       "    .dataframe tbody tr th {\n",
       "        vertical-align: top;\n",
       "    }\n",
       "\n",
       "    .dataframe thead th {\n",
       "        text-align: right;\n",
       "    }\n",
       "</style>\n",
       "<table border=\"1\" class=\"dataframe\">\n",
       "  <thead>\n",
       "    <tr style=\"text-align: right;\">\n",
       "      <th></th>\n",
       "      <th>Child participated in POLIO campaign August 2013</th>\n",
       "      <th>diarrhea_status</th>\n",
       "      <th>weight</th>\n",
       "      <th>height</th>\n",
       "      <th>residence</th>\n",
       "      <th>Sex</th>\n",
       "      <th>age</th>\n",
       "      <th>age_category</th>\n",
       "      <th>education</th>\n",
       "      <th>wealth_index</th>\n",
       "    </tr>\n",
       "  </thead>\n",
       "  <tbody>\n",
       "    <tr>\n",
       "      <th>794</th>\n",
       "      <td>1</td>\n",
       "      <td>No</td>\n",
       "      <td>8.3</td>\n",
       "      <td>67.0</td>\n",
       "      <td>Urban</td>\n",
       "      <td>Female</td>\n",
       "      <td>7</td>\n",
       "      <td>6-11</td>\n",
       "      <td>Primary</td>\n",
       "      <td>Fourth</td>\n",
       "    </tr>\n",
       "    <tr>\n",
       "      <th>795</th>\n",
       "      <td>2</td>\n",
       "      <td>No</td>\n",
       "      <td>3.5</td>\n",
       "      <td>45.0</td>\n",
       "      <td>Urban</td>\n",
       "      <td>Male</td>\n",
       "      <td>0</td>\n",
       "      <td>0-5</td>\n",
       "      <td>Secondary+</td>\n",
       "      <td>Fourth</td>\n",
       "    </tr>\n",
       "    <tr>\n",
       "      <th>796</th>\n",
       "      <td>1</td>\n",
       "      <td>No</td>\n",
       "      <td>15.1</td>\n",
       "      <td>86.0</td>\n",
       "      <td>Urban</td>\n",
       "      <td>Female</td>\n",
       "      <td>56</td>\n",
       "      <td>48-59</td>\n",
       "      <td>Primary</td>\n",
       "      <td>Fourth</td>\n",
       "    </tr>\n",
       "    <tr>\n",
       "      <th>797</th>\n",
       "      <td>1</td>\n",
       "      <td>No</td>\n",
       "      <td>10.7</td>\n",
       "      <td>71.2</td>\n",
       "      <td>Urban</td>\n",
       "      <td>Female</td>\n",
       "      <td>18</td>\n",
       "      <td>12-23</td>\n",
       "      <td>Primary</td>\n",
       "      <td>Fourth</td>\n",
       "    </tr>\n",
       "    <tr>\n",
       "      <th>798</th>\n",
       "      <td>1</td>\n",
       "      <td>No</td>\n",
       "      <td>10.3</td>\n",
       "      <td>73.0</td>\n",
       "      <td>Urban</td>\n",
       "      <td>Female</td>\n",
       "      <td>7</td>\n",
       "      <td>6-11</td>\n",
       "      <td>Primary</td>\n",
       "      <td>Middle</td>\n",
       "    </tr>\n",
       "  </tbody>\n",
       "</table>\n",
       "</div>"
      ],
      "text/plain": [
       "     Child participated in POLIO campaign August 2013  diarrhea_status  \\\n",
       "794                                                 1               No   \n",
       "795                                                 2               No   \n",
       "796                                                 1               No   \n",
       "797                                                 1               No   \n",
       "798                                                 1               No   \n",
       "\n",
       "     weight  height residence     Sex  age age_category   education  \\\n",
       "794     8.3    67.0     Urban  Female    7         6-11     Primary   \n",
       "795     3.5    45.0     Urban    Male    0          0-5  Secondary+   \n",
       "796    15.1    86.0     Urban  Female   56        48-59     Primary   \n",
       "797    10.7    71.2     Urban  Female   18        12-23     Primary   \n",
       "798    10.3    73.0     Urban  Female    7         6-11     Primary   \n",
       "\n",
       "    wealth_index  \n",
       "794       Fourth  \n",
       "795       Fourth  \n",
       "796       Fourth  \n",
       "797       Fourth  \n",
       "798       Middle  "
      ]
     },
     "execution_count": 21,
     "metadata": {},
     "output_type": "execute_result"
    }
   ],
   "source": [
    "import pandas as pd\n",
    "#from scipy import stats\n",
    "#from google.colab import files\n",
    "#upload=file.upload()\n",
    "df=pd.read_csv(\"childhealthdata.csv\")\n",
    "df.tail()\n"
   ]
  },
  {
   "cell_type": "code",
   "execution_count": 66,
   "id": "568fb4ab-5c87-4fd3-96ca-d13f8d8e0248",
   "metadata": {},
   "outputs": [
    {
     "data": {
      "text/html": [
       "<div>\n",
       "<style scoped>\n",
       "    .dataframe tbody tr th:only-of-type {\n",
       "        vertical-align: middle;\n",
       "    }\n",
       "\n",
       "    .dataframe tbody tr th {\n",
       "        vertical-align: top;\n",
       "    }\n",
       "\n",
       "    .dataframe thead th {\n",
       "        text-align: right;\n",
       "    }\n",
       "</style>\n",
       "<table border=\"1\" class=\"dataframe\">\n",
       "  <thead>\n",
       "    <tr style=\"text-align: right;\">\n",
       "      <th></th>\n",
       "      <th>Child participated in POLIO campaign August 2013</th>\n",
       "      <th>diarrhea_status</th>\n",
       "      <th>weight</th>\n",
       "      <th>height</th>\n",
       "      <th>residence</th>\n",
       "      <th>Sex</th>\n",
       "      <th>age</th>\n",
       "      <th>age_category</th>\n",
       "      <th>education</th>\n",
       "      <th>wealth_index</th>\n",
       "    </tr>\n",
       "  </thead>\n",
       "  <tbody>\n",
       "    <tr>\n",
       "      <th>0</th>\n",
       "      <td>1</td>\n",
       "      <td>No</td>\n",
       "      <td>16.2</td>\n",
       "      <td>102.4</td>\n",
       "      <td>Rural</td>\n",
       "      <td>Female</td>\n",
       "      <td>45</td>\n",
       "      <td>36-47</td>\n",
       "      <td>Secondary+</td>\n",
       "      <td>Richest</td>\n",
       "    </tr>\n",
       "    <tr>\n",
       "      <th>1</th>\n",
       "      <td>1</td>\n",
       "      <td>No</td>\n",
       "      <td>13.5</td>\n",
       "      <td>92.5</td>\n",
       "      <td>Rural</td>\n",
       "      <td>Male</td>\n",
       "      <td>45</td>\n",
       "      <td>36-47</td>\n",
       "      <td>Primary</td>\n",
       "      <td>Second</td>\n",
       "    </tr>\n",
       "    <tr>\n",
       "      <th>2</th>\n",
       "      <td>1</td>\n",
       "      <td>No</td>\n",
       "      <td>13.4</td>\n",
       "      <td>88.5</td>\n",
       "      <td>Rural</td>\n",
       "      <td>Male</td>\n",
       "      <td>36</td>\n",
       "      <td>36-47</td>\n",
       "      <td>Primary</td>\n",
       "      <td>Fourth</td>\n",
       "    </tr>\n",
       "    <tr>\n",
       "      <th>3</th>\n",
       "      <td>1</td>\n",
       "      <td>No</td>\n",
       "      <td>15.0</td>\n",
       "      <td>101.3</td>\n",
       "      <td>Rural</td>\n",
       "      <td>Female</td>\n",
       "      <td>51</td>\n",
       "      <td>48-59</td>\n",
       "      <td>Primary</td>\n",
       "      <td>Fourth</td>\n",
       "    </tr>\n",
       "    <tr>\n",
       "      <th>4</th>\n",
       "      <td>1</td>\n",
       "      <td>No</td>\n",
       "      <td>15.2</td>\n",
       "      <td>105.0</td>\n",
       "      <td>Rural</td>\n",
       "      <td>Female</td>\n",
       "      <td>56</td>\n",
       "      <td>48-59</td>\n",
       "      <td>Primary</td>\n",
       "      <td>Fourth</td>\n",
       "    </tr>\n",
       "  </tbody>\n",
       "</table>\n",
       "</div>"
      ],
      "text/plain": [
       "   Child participated in POLIO campaign August 2013  diarrhea_status  weight  \\\n",
       "0                                                 1               No    16.2   \n",
       "1                                                 1               No    13.5   \n",
       "2                                                 1               No    13.4   \n",
       "3                                                 1               No    15.0   \n",
       "4                                                 1               No    15.2   \n",
       "\n",
       "   height residence     Sex  age age_category   education wealth_index  \n",
       "0   102.4     Rural  Female   45        36-47  Secondary+      Richest  \n",
       "1    92.5     Rural    Male   45        36-47     Primary       Second  \n",
       "2    88.5     Rural    Male   36        36-47     Primary       Fourth  \n",
       "3   101.3     Rural  Female   51        48-59     Primary       Fourth  \n",
       "4   105.0     Rural  Female   56        48-59     Primary       Fourth  "
      ]
     },
     "execution_count": 66,
     "metadata": {},
     "output_type": "execute_result"
    }
   ],
   "source": [
    "import pandas as pd\n",
    "df=pd.read_csv(\"childhealthdata.csv\")\n",
    "df.head()\n",
    "\n"
   ]
  },
  {
   "cell_type": "code",
   "execution_count": 51,
   "id": "7149563b-f891-424f-812c-34e1fb9aa8fe",
   "metadata": {},
   "outputs": [
    {
     "name": "stdout",
     "output_type": "stream",
     "text": [
      "0.25    15.0\n",
      "0.75    43.0\n",
      "Name: age, dtype: float64\n"
     ]
    }
   ],
   "source": [
    "quantiles_25_75=df['age'].quantile([0.25,0.75])\n",
    "print(quantiles_25_75)"
   ]
  },
  {
   "cell_type": "code",
   "execution_count": 52,
   "id": "c87ea71f-3041-4dcc-b545-129e4fbdf3ec",
   "metadata": {},
   "outputs": [
    {
     "name": "stdout",
     "output_type": "stream",
     "text": [
      "0.25    74.00\n",
      "0.75    93.85\n",
      "Name: height, dtype: float64\n"
     ]
    }
   ],
   "source": [
    "quantiles_25_75=df['height'].quantile([0.25,0.75])\n",
    "print(quantiles_25_75)"
   ]
  },
  {
   "cell_type": "code",
   "execution_count": 54,
   "id": "892b67b2-5b14-49f5-96ea-31e3fd6efc28",
   "metadata": {},
   "outputs": [
    {
     "name": "stdout",
     "output_type": "stream",
     "text": [
      "0.1     5.8\n",
      "0.8    45.0\n",
      "Name: age, dtype: float64\n"
     ]
    }
   ],
   "source": [
    "quantiles_10_80=df['age'].quantile([0.10,0.80])\n",
    "print(quantiles_10_80)"
   ]
  },
  {
   "cell_type": "code",
   "execution_count": 55,
   "id": "f36ca386-3081-46e0-8841-ec04c236dc19",
   "metadata": {},
   "outputs": [
    {
     "name": "stdout",
     "output_type": "stream",
     "text": [
      "0.25     9.2\n",
      "0.75    14.1\n",
      "Name: weight, dtype: float64\n"
     ]
    }
   ],
   "source": [
    "quantiles_25_75=df['weight'].quantile([0.25,0.75])\n",
    "print(quantiles_25_75)"
   ]
  },
  {
   "cell_type": "code",
   "execution_count": 84,
   "id": "fc4af813-3da5-43b9-9cb2-c278b7fd7bd7",
   "metadata": {},
   "outputs": [
    {
     "name": "stdout",
     "output_type": "stream",
     "text": [
      "45.0\n",
      "45.0\n"
     ]
    }
   ],
   "source": [
    "height_range=df['height'].max()\n",
    "height_range=df['height'].min()\n",
    "print(height_range)\n",
    "print(height_range)\n"
   ]
  },
  {
   "cell_type": "code",
   "execution_count": 57,
   "id": "9809423a-23e2-44c9-b38e-9c8347a682db",
   "metadata": {},
   "outputs": [
    {
     "name": "stdout",
     "output_type": "stream",
     "text": [
      "21.9\n"
     ]
    }
   ],
   "source": [
    "weight_range=df['weight'].max()-df['weight'].min()\n",
    "print(weight_range)"
   ]
  },
  {
   "cell_type": "code",
   "execution_count": 59,
   "id": "0ec01dd6-19e0-42ec-b898-c5dfcd9ccb4a",
   "metadata": {},
   "outputs": [
    {
     "name": "stdout",
     "output_type": "stream",
     "text": [
      "upper bound: 14.1\n",
      "upper lower: 9.2\n",
      "4.9\n"
     ]
    }
   ],
   "source": [
    "iqr=df['weight'].quantile(0.75)-df['weight'].quantile(0.25)\n",
    "print(\"upper bound:\",df['weight'].quantile(0.75))\n",
    "print(\"upper lower:\",df['weight'].quantile(0.25))\n",
    "print(iqr)\n"
   ]
  },
  {
   "cell_type": "code",
   "execution_count": 80,
   "id": "766f90e1-aaa8-4c62-8f2c-6ce5f9de4f67",
   "metadata": {},
   "outputs": [
    {
     "name": "stdout",
     "output_type": "stream",
     "text": [
      "153.06666666666666\n",
      "12.372011423639515\n"
     ]
    }
   ],
   "source": [
    "b=np.array(m)-np.mean(m) # difference between each value and mean\n",
    "b_squared=b**2 #square of each difference\n",
    "variance=np.sum(b_squared)/(len(m)-1)#averange of the squered diffrences\n",
    "std_deviation=np.sqrt(variance) # the standard deviation\n",
    "print(variance)\n",
    "print(std_deviation)"
   ]
  },
  {
   "cell_type": "code",
   "execution_count": 81,
   "id": "8f568a77-e8c3-47a1-8f33-9e2425dd953d",
   "metadata": {},
   "outputs": [
    {
     "name": "stdout",
     "output_type": "stream",
     "text": [
      "153.06666666666666\n",
      "12.372011423639515\n"
     ]
    }
   ],
   "source": [
    "variance_func=np.var(m, ddof=1)\n",
    "std_deviation_func=np.std(m ,ddof=1)\n",
    "print(variance_func)\n",
    "print(std_deviation_func)"
   ]
  },
  {
   "cell_type": "code",
   "execution_count": 82,
   "id": "4c004746-b39b-41f8-b743-7e19f6112239",
   "metadata": {},
   "outputs": [
    {
     "name": "stdout",
     "output_type": "stream",
     "text": [
      "79.8\n"
     ]
    }
   ],
   "source": [
    "height_range=df['height'].max()-df['height'].min()\n",
    "print(height_range)"
   ]
  },
  {
   "cell_type": "code",
   "execution_count": 60,
   "id": "d26c1a1c-f03a-4b76-b45a-9b39dbe41a71",
   "metadata": {},
   "outputs": [
    {
     "name": "stdout",
     "output_type": "stream",
     "text": [
      "3.4087288270461693\n"
     ]
    }
   ],
   "source": [
    "std_deviation_weight=df['weight'].std()\n",
    "print(std_deviation_weight)"
   ]
  },
  {
   "cell_type": "code",
   "execution_count": 68,
   "id": "bf2ea0ed-41f4-4e8d-9f68-ae19310fb0ed",
   "metadata": {},
   "outputs": [
    {
     "name": "stdout",
     "output_type": "stream",
     "text": [
      "<bound method NDFrame.describe of 0      16.2\n",
      "1      13.5\n",
      "2      13.4\n",
      "3      15.0\n",
      "4      15.2\n",
      "       ... \n",
      "794     8.3\n",
      "795     3.5\n",
      "796    15.1\n",
      "797    10.7\n",
      "798    10.3\n",
      "Name: weight, Length: 799, dtype: float64>\n"
     ]
    }
   ],
   "source": [
    "summary_weight=df['weight'].describe\n",
    "print(summary_weight)"
   ]
  },
  {
   "cell_type": "code",
   "execution_count": 73,
   "id": "c4889f4c-ecc7-4b7e-b2b6-64fd08615aa6",
   "metadata": {},
   "outputs": [
    {
     "name": "stdout",
     "output_type": "stream",
     "text": [
      "-0.09040012558770584\n"
     ]
    }
   ],
   "source": [
    "from scipy.stats import skew\n",
    "skewness_weight=skew(df['weight'])\n",
    "print(skewness_weight)\n"
   ]
  },
  {
   "cell_type": "code",
   "execution_count": 96,
   "id": "f51064c2-1c9d-4067-84de-0647946a69ad",
   "metadata": {},
   "outputs": [
    {
     "name": "stdout",
     "output_type": "stream",
     "text": [
      "-0.2416210650692944\n"
     ]
    }
   ],
   "source": [
    "skewness_height=skew(df['height'])\n",
    "print(skewness_height)\n"
   ]
  },
  {
   "cell_type": "code",
   "execution_count": 97,
   "id": "27d7d477-e5be-4efd-b28d-da323b7d5f91",
   "metadata": {},
   "outputs": [
    {
     "name": "stdout",
     "output_type": "stream",
     "text": [
      "-0.04464720674545378\n"
     ]
    }
   ],
   "source": [
    "skewness_age=skew(df['age'])\n",
    "print(skewness_age)\n"
   ]
  },
  {
   "cell_type": "code",
   "execution_count": 95,
   "id": "b5a6b439-0962-40fd-990b-72d7aebe3dbf",
   "metadata": {},
   "outputs": [
    {
     "name": "stdout",
     "output_type": "stream",
     "text": [
      "mean\n"
     ]
    }
   ],
   "source": [
    "skew_wt=skew(df['weight'])\n",
    "wt_measure=\"mean\"if abs(skew_wt)<=0.5 else \"median\"\n",
    "print(wt_measure)"
   ]
  },
  {
   "cell_type": "code",
   "execution_count": 99,
   "id": "dc60ce79-8596-4d11-a286-c05f07d72c27",
   "metadata": {},
   "outputs": [
    {
     "name": "stdout",
     "output_type": "stream",
     "text": [
      "median\n"
     ]
    }
   ],
   "source": [
    "skew_wt=skew(df['height'])\n",
    "wt_measure=\"mean\"if abs(skew_wt)<=-0.5 else \"median\"\n",
    "print(wt_measure)"
   ]
  },
  {
   "cell_type": "code",
   "execution_count": 28,
   "id": "0756445f-aa9d-4bf6-b21c-b24f9c4ce803",
   "metadata": {},
   "outputs": [
    {
     "name": "stdout",
     "output_type": "stream",
     "text": [
      "11.591113892365458\n"
     ]
    }
   ],
   "source": [
    "df=pd.read_csv(\"childhealthdata.csv\")\n",
    "mean_weight=(df[\"weight\"].mean())\n",
    "print(mean_weight)\n"
   ]
  },
  {
   "cell_type": "code",
   "execution_count": 85,
   "id": "bc0429af-8c3c-4802-a51a-7e7b4cd02835",
   "metadata": {},
   "outputs": [
    {
     "name": "stdout",
     "output_type": "stream",
     "text": [
      "29\n"
     ]
    }
   ],
   "source": [
    "mean_age=round(df[\"age\"].mean())\n",
    "print(mean_age)"
   ]
  },
  {
   "cell_type": "code",
   "execution_count": 86,
   "id": "98ca8a19-13ed-4166-bc0c-67599d899c64",
   "metadata": {},
   "outputs": [
    {
     "name": "stdout",
     "output_type": "stream",
     "text": [
      "12\n"
     ]
    }
   ],
   "source": [
    "mean_weight=round(df[\"weight\"].mean())\n",
    "print(mean_weight)"
   ]
  },
  {
   "cell_type": "code",
   "execution_count": 29,
   "id": "5930589c-c45a-49bd-b7fb-a6e858d7d62e",
   "metadata": {},
   "outputs": [
    {
     "name": "stdout",
     "output_type": "stream",
     "text": [
      "84\n"
     ]
    }
   ],
   "source": [
    "mean_height=round(df[\"height\"].mean())\n",
    "print(mean_height)"
   ]
  },
  {
   "cell_type": "code",
   "execution_count": 30,
   "id": "a7d8fe6d-1eac-48f0-add2-e93e187be47b",
   "metadata": {},
   "outputs": [
    {
     "name": "stdout",
     "output_type": "stream",
     "text": [
      "29.314142678347935\n"
     ]
    }
   ],
   "source": [
    "mean_age=(df[\"age\"].mean())\n",
    "print(mean_age)"
   ]
  },
  {
   "cell_type": "code",
   "execution_count": 31,
   "id": "e0c41d88-80f4-4d8d-a2f1-dc80028e5ad5",
   "metadata": {},
   "outputs": [
    {
     "name": "stdout",
     "output_type": "stream",
     "text": [
      "11.7\n"
     ]
    }
   ],
   "source": [
    "median_weight=(df[\"weight\"].median())\n",
    "print(median_weight)"
   ]
  },
  {
   "cell_type": "code",
   "execution_count": 32,
   "id": "7b175570-5a4d-4521-bbba-d40709824a21",
   "metadata": {},
   "outputs": [
    {
     "name": "stdout",
     "output_type": "stream",
     "text": [
      "85\n"
     ]
    }
   ],
   "source": [
    "median_height=round(df[\"height\"].median())\n",
    "print(median_height)"
   ]
  },
  {
   "cell_type": "code",
   "execution_count": 90,
   "id": "e239782f-6e83-4b76-b01d-4eef34186e3e",
   "metadata": {},
   "outputs": [
    {
     "name": "stdout",
     "output_type": "stream",
     "text": [
      "19.0\n"
     ]
    }
   ],
   "source": [
    "n=[54,28,13,16,19,19,15,12,20]\n",
    "median_mass=np.median(n)\n",
    "print(median_mass)"
   ]
  },
  {
   "cell_type": "code",
   "execution_count": 91,
   "id": "76821d52-91e2-4ea5-adb4-1472082dfb07",
   "metadata": {},
   "outputs": [
    {
     "name": "stdout",
     "output_type": "stream",
     "text": [
      "19\n"
     ]
    }
   ],
   "source": [
    "mode_n=stats.mode(n,keepdims=False).mode\n",
    "print(mode_n)"
   ]
  },
  {
   "cell_type": "code",
   "execution_count": 87,
   "id": "d9ce2593-d183-4271-8721-fa0e9d916925",
   "metadata": {},
   "outputs": [
    {
     "name": "stdout",
     "output_type": "stream",
     "text": [
      "   interger                                   range\n",
      "0         3                               (0, 1, 2)\n",
      "1         5                         (0, 1, 2, 3, 4)\n",
      "2         7                   (0, 1, 2, 3, 4, 5, 6)\n",
      "3        10          (0, 1, 2, 3, 4, 5, 6, 7, 8, 9)\n",
      "4        12  (0, 1, 2, 3, 4, 5, 6, 7, 8, 9, 10, 11)\n"
     ]
    }
   ],
   "source": [
    "import pandas as pd\n",
    "data={\n",
    "       'interger':[3,5,7,10,12]\n",
    "}\n",
    "df=pd.DataFrame(data)\n",
    "df['range']=df['interger'].apply(lambda x: range(x))\n",
    "print(df)"
   ]
  },
  {
   "cell_type": "code",
   "execution_count": 86,
   "id": "334dcb48-66d2-4668-860b-840c5ed4c814",
   "metadata": {},
   "outputs": [
    {
     "name": "stdout",
     "output_type": "stream",
     "text": [
      "        Name      city\n",
      "0       Rose   Makueni\n",
      "1       Jane  kwavonza\n",
      "2   charlie     kitui \n",
      "3     Faith    mselele\n"
     ]
    }
   ],
   "source": [
    "import pandas as pd\n",
    "data={\n",
    "    'Name':[ 'Rose','Jane',  ' charlie ', 'Faith '],\n",
    "    'city':['Makueni', 'kwavonza',  ' kitui ', 'mselele']\n",
    "}\n",
    "df=pd.DataFrame(data)\n",
    "print(df)"
   ]
  },
  {
   "cell_type": "code",
   "execution_count": 4,
   "id": "ef0c99e3-024a-4124-82de-cab12893e1d7",
   "metadata": {},
   "outputs": [
    {
     "name": "stdout",
     "output_type": "stream",
     "text": [
      "     Gender   Height Weight  Index  Unnamed: 4  Unnamed: 5 female  male\n",
      "0       NaN  15    8     89      4         NaN         NaN    158   158\n",
      "1       NaN  15    8     89      4         NaN         NaN    158   158\n",
      "2       1.0      178    127      4         NaN         NaN    178   178\n",
      "3       1.0     none    139      5         NaN         NaN   none  none\n",
      "4       1.0     none    104      5         NaN         NaN    181   181\n",
      "..      ...      ...    ...    ...         ...         ...    ...   ...\n",
      "399     0.0      190   none      5         NaN         NaN    NaN   NaN\n",
      "400     0.0      164    130      5         NaN         NaN    NaN   NaN\n",
      "401     0.0      185    138      5         NaN         NaN    NaN   NaN\n",
      "402     0.0      188    158      5         NaN         NaN    NaN   NaN\n",
      "403     0.0      161    155      5         NaN         NaN    NaN   NaN\n",
      "\n",
      "[404 rows x 8 columns]\n"
     ]
    }
   ],
   "source": [
    "import pandas as pd\n",
    "import numpy as np\n",
    "df=pd.read_csv(\"dirtybmi_23.csv\")\n",
    "mapping={\n",
    "    'True': 1,\n",
    "    'False': 0,\n",
    "    'Female': 1,\n",
    "    'Male': 0,\n",
    "}\n",
    "df['Gender']=df['Gender'].map(mapping)\n",
    "print(df)"
   ]
  },
  {
   "cell_type": "code",
   "execution_count": 141,
   "id": "4bd43d2a-e56d-41c1-b172-90b9141da395",
   "metadata": {},
   "outputs": [
    {
     "data": {
      "text/html": [
       "<div>\n",
       "<style scoped>\n",
       "    .dataframe tbody tr th:only-of-type {\n",
       "        vertical-align: middle;\n",
       "    }\n",
       "\n",
       "    .dataframe tbody tr th {\n",
       "        vertical-align: top;\n",
       "    }\n",
       "\n",
       "    .dataframe thead th {\n",
       "        text-align: right;\n",
       "    }\n",
       "</style>\n",
       "<table border=\"1\" class=\"dataframe\">\n",
       "  <thead>\n",
       "    <tr style=\"text-align: right;\">\n",
       "      <th></th>\n",
       "      <th>Gender</th>\n",
       "      <th>Height</th>\n",
       "      <th>Weight</th>\n",
       "      <th>Index</th>\n",
       "      <th>Unnamed: 4</th>\n",
       "      <th>Unnamed: 5</th>\n",
       "      <th>female</th>\n",
       "      <th>male</th>\n",
       "    </tr>\n",
       "  </thead>\n",
       "  <tbody>\n",
       "    <tr>\n",
       "      <th>394</th>\n",
       "      <td>Male</td>\n",
       "      <td>161</td>\n",
       "      <td>122</td>\n",
       "      <td>4</td>\n",
       "      <td>NaN</td>\n",
       "      <td>NaN</td>\n",
       "      <td>NaN</td>\n",
       "      <td>NaN</td>\n",
       "    </tr>\n",
       "    <tr>\n",
       "      <th>395</th>\n",
       "      <td>Male</td>\n",
       "      <td>150</td>\n",
       "      <td>131</td>\n",
       "      <td>5</td>\n",
       "      <td>NaN</td>\n",
       "      <td>NaN</td>\n",
       "      <td>NaN</td>\n",
       "      <td>NaN</td>\n",
       "    </tr>\n",
       "    <tr>\n",
       "      <th>396</th>\n",
       "      <td>Male</td>\n",
       "      <td>168</td>\n",
       "      <td>110</td>\n",
       "      <td>5</td>\n",
       "      <td>NaN</td>\n",
       "      <td>NaN</td>\n",
       "      <td>NaN</td>\n",
       "      <td>NaN</td>\n",
       "    </tr>\n",
       "    <tr>\n",
       "      <th>397</th>\n",
       "      <td>Male</td>\n",
       "      <td>168</td>\n",
       "      <td>134</td>\n",
       "      <td>5</td>\n",
       "      <td>NaN</td>\n",
       "      <td>NaN</td>\n",
       "      <td>NaN</td>\n",
       "      <td>NaN</td>\n",
       "    </tr>\n",
       "    <tr>\n",
       "      <th>398</th>\n",
       "      <td>Male</td>\n",
       "      <td>186</td>\n",
       "      <td>117</td>\n",
       "      <td>4</td>\n",
       "      <td>NaN</td>\n",
       "      <td>NaN</td>\n",
       "      <td>NaN</td>\n",
       "      <td>NaN</td>\n",
       "    </tr>\n",
       "    <tr>\n",
       "      <th>399</th>\n",
       "      <td>Male</td>\n",
       "      <td>190</td>\n",
       "      <td>none</td>\n",
       "      <td>5</td>\n",
       "      <td>NaN</td>\n",
       "      <td>NaN</td>\n",
       "      <td>NaN</td>\n",
       "      <td>NaN</td>\n",
       "    </tr>\n",
       "    <tr>\n",
       "      <th>400</th>\n",
       "      <td>Male</td>\n",
       "      <td>164</td>\n",
       "      <td>130</td>\n",
       "      <td>5</td>\n",
       "      <td>NaN</td>\n",
       "      <td>NaN</td>\n",
       "      <td>NaN</td>\n",
       "      <td>NaN</td>\n",
       "    </tr>\n",
       "    <tr>\n",
       "      <th>401</th>\n",
       "      <td>Male</td>\n",
       "      <td>185</td>\n",
       "      <td>138</td>\n",
       "      <td>5</td>\n",
       "      <td>NaN</td>\n",
       "      <td>NaN</td>\n",
       "      <td>NaN</td>\n",
       "      <td>NaN</td>\n",
       "    </tr>\n",
       "    <tr>\n",
       "      <th>402</th>\n",
       "      <td>Male</td>\n",
       "      <td>188</td>\n",
       "      <td>158</td>\n",
       "      <td>5</td>\n",
       "      <td>NaN</td>\n",
       "      <td>NaN</td>\n",
       "      <td>NaN</td>\n",
       "      <td>NaN</td>\n",
       "    </tr>\n",
       "    <tr>\n",
       "      <th>403</th>\n",
       "      <td>Male</td>\n",
       "      <td>161</td>\n",
       "      <td>155</td>\n",
       "      <td>5</td>\n",
       "      <td>NaN</td>\n",
       "      <td>NaN</td>\n",
       "      <td>NaN</td>\n",
       "      <td>NaN</td>\n",
       "    </tr>\n",
       "  </tbody>\n",
       "</table>\n",
       "</div>"
      ],
      "text/plain": [
       "    Gender Height Weight  Index  Unnamed: 4  Unnamed: 5 female male\n",
       "394   Male    161    122      4         NaN         NaN    NaN  NaN\n",
       "395   Male    150    131      5         NaN         NaN    NaN  NaN\n",
       "396   Male    168    110      5         NaN         NaN    NaN  NaN\n",
       "397   Male    168    134      5         NaN         NaN    NaN  NaN\n",
       "398   Male    186    117      4         NaN         NaN    NaN  NaN\n",
       "399   Male    190   none      5         NaN         NaN    NaN  NaN\n",
       "400   Male    164    130      5         NaN         NaN    NaN  NaN\n",
       "401   Male    185    138      5         NaN         NaN    NaN  NaN\n",
       "402   Male    188    158      5         NaN         NaN    NaN  NaN\n",
       "403   Male    161    155      5         NaN         NaN    NaN  NaN"
      ]
     },
     "execution_count": 141,
     "metadata": {},
     "output_type": "execute_result"
    }
   ],
   "source": [
    "import pandas as pd\n",
    "df=pd.read_csv(\"dirtybmi_23.csv\")\n",
    "df.tail(10)\n"
   ]
  },
  {
   "cell_type": "code",
   "execution_count": 140,
   "id": "9f0a11ce-e923-4218-bfaf-eb27d7ce92a3",
   "metadata": {},
   "outputs": [
    {
     "name": "stdout",
     "output_type": "stream",
     "text": [
      "     Gender   Height Weight  Index  Unnamed: 4  Unnamed: 5 female  male\n",
      "0       NaN  15    8     89      4         NaN         NaN    158   158\n",
      "1       NaN  15    8     89      4         NaN         NaN    158   158\n",
      "2       1.0      178    127      4         NaN         NaN    178   178\n",
      "3       1.0     none    139      5         NaN         NaN   none  none\n",
      "4       1.0     none    104      5         NaN         NaN    181   181\n",
      "..      ...      ...    ...    ...         ...         ...    ...   ...\n",
      "399     0.0      190   none      5         NaN         NaN    NaN   NaN\n",
      "400     0.0      164    130      5         NaN         NaN    NaN   NaN\n",
      "401     0.0      185    138      5         NaN         NaN    NaN   NaN\n",
      "402     0.0      188    158      5         NaN         NaN    NaN   NaN\n",
      "403     0.0      161    155      5         NaN         NaN    NaN   NaN\n",
      "\n",
      "[404 rows x 8 columns]\n"
     ]
    }
   ],
   "source": [
    "import pandas as pd\n",
    "import numpy as np\n",
    "df=pd.read_csv(\"dirtybmi_23.csv\")\n",
    "#custom mapping for conversion\n",
    "mapping={\n",
    "    'True':1,\n",
    "    'False':0,\n",
    "    'Female':1,\n",
    "    'Male':0\n",
    "}\n",
    "#Applying the mapping to the column\n",
    "df['Gender'] = df['Gender'].map(mapping)\n",
    "\n",
    "print(df)"
   ]
  },
  {
   "cell_type": "code",
   "execution_count": 82,
   "id": "e69906a9-2649-4623-b105-4ebfd2fd5545",
   "metadata": {},
   "outputs": [
    {
     "name": "stdout",
     "output_type": "stream",
     "text": [
      "<class 'pandas.core.frame.DataFrame'>\n",
      "RangeIndex: 404 entries, 0 to 403\n",
      "Data columns (total 8 columns):\n",
      " #   Column      Non-Null Count  Dtype   \n",
      "---  ------      --------------  -----   \n",
      " 0   Gender      404 non-null    category\n",
      " 1   Height      404 non-null    string  \n",
      " 2   Weight      404 non-null    string  \n",
      " 3   Index       404 non-null    int32   \n",
      " 4   Unnamed: 4  0 non-null      float64 \n",
      " 5   Unnamed: 5  0 non-null      float64 \n",
      " 6   female      204 non-null    category\n",
      " 7   male        204 non-null    category\n",
      "dtypes: category(3), float64(2), int32(1), string(2)\n",
      "memory usage: 20.9 KB\n"
     ]
    }
   ],
   "source": [
    "import pandas as pd\n",
    "import numpy as np\n",
    "df1=pd.read_csv(\"dirtybmi_23.csv\")\n",
    "df1['Gender']=df1['Gender'].astype('category')\n",
    "df1['Height']=df1['Height'].astype('string')\n",
    "df1['Weight']=df1['Weight'].astype('string')\n",
    "df1['Index']=df1['Index'].astype('int')\n",
    "df1['female']=df1['female'].astype('category')\n",
    "df1['male']=df1['male'].astype('category')\n",
    "df1.info()\n"
   ]
  },
  {
   "cell_type": "code",
   "execution_count": 107,
   "id": "bb8f9e20-c1fa-417a-a5cd-4531c2552157",
   "metadata": {},
   "outputs": [
    {
     "name": "stdout",
     "output_type": "stream",
     "text": [
      "0      False\n",
      "1       True\n",
      "2      False\n",
      "3      False\n",
      "4      False\n",
      "       ...  \n",
      "399    False\n",
      "400    False\n",
      "401    False\n",
      "402    False\n",
      "403    False\n",
      "Length: 404, dtype: bool\n"
     ]
    }
   ],
   "source": [
    "import pandas as pd\n",
    "from scipy import stats\n",
    "df= pd.read_csv(\"dirtybmi_23.csv\")\n",
    "duplicates= df.duplicated()\n",
    "print(duplicates)"
   ]
  },
  {
   "cell_type": "code",
   "execution_count": 84,
   "id": "6bb811de-9806-4d4f-bc01-bfba7f085ba0",
   "metadata": {},
   "outputs": [
    {
     "data": {
      "text/html": [
       "<div>\n",
       "<style scoped>\n",
       "    .dataframe tbody tr th:only-of-type {\n",
       "        vertical-align: middle;\n",
       "    }\n",
       "\n",
       "    .dataframe tbody tr th {\n",
       "        vertical-align: top;\n",
       "    }\n",
       "\n",
       "    .dataframe thead th {\n",
       "        text-align: right;\n",
       "    }\n",
       "</style>\n",
       "<table border=\"1\" class=\"dataframe\">\n",
       "  <thead>\n",
       "    <tr style=\"text-align: right;\">\n",
       "      <th></th>\n",
       "      <th>Gender</th>\n",
       "      <th>Height</th>\n",
       "      <th>Weight</th>\n",
       "      <th>Index</th>\n",
       "      <th>Unnamed: 4</th>\n",
       "      <th>Unnamed: 5</th>\n",
       "      <th>female</th>\n",
       "      <th>male</th>\n",
       "    </tr>\n",
       "  </thead>\n",
       "  <tbody>\n",
       "    <tr>\n",
       "      <th>0</th>\n",
       "      <td>Fema   le</td>\n",
       "      <td>15    8</td>\n",
       "      <td>89</td>\n",
       "      <td>4</td>\n",
       "      <td>NaN</td>\n",
       "      <td>NaN</td>\n",
       "      <td>158</td>\n",
       "      <td>158</td>\n",
       "    </tr>\n",
       "    <tr>\n",
       "      <th>1</th>\n",
       "      <td>Fema   le</td>\n",
       "      <td>15    8</td>\n",
       "      <td>89</td>\n",
       "      <td>4</td>\n",
       "      <td>NaN</td>\n",
       "      <td>NaN</td>\n",
       "      <td>158</td>\n",
       "      <td>158</td>\n",
       "    </tr>\n",
       "    <tr>\n",
       "      <th>2</th>\n",
       "      <td>Female</td>\n",
       "      <td>178</td>\n",
       "      <td>127</td>\n",
       "      <td>4</td>\n",
       "      <td>NaN</td>\n",
       "      <td>NaN</td>\n",
       "      <td>178</td>\n",
       "      <td>178</td>\n",
       "    </tr>\n",
       "    <tr>\n",
       "      <th>3</th>\n",
       "      <td>Female</td>\n",
       "      <td>none</td>\n",
       "      <td>139</td>\n",
       "      <td>5</td>\n",
       "      <td>NaN</td>\n",
       "      <td>NaN</td>\n",
       "      <td>none</td>\n",
       "      <td>none</td>\n",
       "    </tr>\n",
       "    <tr>\n",
       "      <th>4</th>\n",
       "      <td>Female</td>\n",
       "      <td>none</td>\n",
       "      <td>104</td>\n",
       "      <td>5</td>\n",
       "      <td>NaN</td>\n",
       "      <td>NaN</td>\n",
       "      <td>181</td>\n",
       "      <td>181</td>\n",
       "    </tr>\n",
       "  </tbody>\n",
       "</table>\n",
       "</div>"
      ],
      "text/plain": [
       "      Gender   Height Weight  Index  Unnamed: 4  Unnamed: 5 female  male\n",
       "0  Fema   le  15    8     89      4         NaN         NaN    158   158\n",
       "1  Fema   le  15    8     89      4         NaN         NaN    158   158\n",
       "2     Female      178    127      4         NaN         NaN    178   178\n",
       "3     Female     none    139      5         NaN         NaN   none  none\n",
       "4     Female     none    104      5         NaN         NaN    181   181"
      ]
     },
     "execution_count": 84,
     "metadata": {},
     "output_type": "execute_result"
    }
   ],
   "source": [
    "df.drop_duplicates\n",
    "df.head()"
   ]
  },
  {
   "cell_type": "code",
   "execution_count": 85,
   "id": "3394cbaf-4bc0-4138-b1bf-b736b1a4e572",
   "metadata": {},
   "outputs": [
    {
     "data": {
      "text/html": [
       "<div>\n",
       "<style scoped>\n",
       "    .dataframe tbody tr th:only-of-type {\n",
       "        vertical-align: middle;\n",
       "    }\n",
       "\n",
       "    .dataframe tbody tr th {\n",
       "        vertical-align: top;\n",
       "    }\n",
       "\n",
       "    .dataframe thead th {\n",
       "        text-align: right;\n",
       "    }\n",
       "</style>\n",
       "<table border=\"1\" class=\"dataframe\">\n",
       "  <thead>\n",
       "    <tr style=\"text-align: right;\">\n",
       "      <th></th>\n",
       "      <th>Gender</th>\n",
       "      <th>Height</th>\n",
       "      <th>Weight</th>\n",
       "      <th>Index</th>\n",
       "      <th>Unnamed: 4</th>\n",
       "      <th>Unnamed: 5</th>\n",
       "      <th>female</th>\n",
       "      <th>male</th>\n",
       "    </tr>\n",
       "  </thead>\n",
       "  <tbody>\n",
       "    <tr>\n",
       "      <th>0</th>\n",
       "      <td>Fema   le</td>\n",
       "      <td>15    8</td>\n",
       "      <td>89</td>\n",
       "      <td>4</td>\n",
       "      <td>NaN</td>\n",
       "      <td>NaN</td>\n",
       "      <td>158</td>\n",
       "      <td>158</td>\n",
       "    </tr>\n",
       "    <tr>\n",
       "      <th>1</th>\n",
       "      <td>Fema   le</td>\n",
       "      <td>15    8</td>\n",
       "      <td>89</td>\n",
       "      <td>4</td>\n",
       "      <td>NaN</td>\n",
       "      <td>NaN</td>\n",
       "      <td>158</td>\n",
       "      <td>158</td>\n",
       "    </tr>\n",
       "    <tr>\n",
       "      <th>2</th>\n",
       "      <td>Female</td>\n",
       "      <td>178</td>\n",
       "      <td>127</td>\n",
       "      <td>4</td>\n",
       "      <td>NaN</td>\n",
       "      <td>NaN</td>\n",
       "      <td>178</td>\n",
       "      <td>178</td>\n",
       "    </tr>\n",
       "    <tr>\n",
       "      <th>3</th>\n",
       "      <td>Female</td>\n",
       "      <td>none</td>\n",
       "      <td>139</td>\n",
       "      <td>5</td>\n",
       "      <td>NaN</td>\n",
       "      <td>NaN</td>\n",
       "      <td>none</td>\n",
       "      <td>none</td>\n",
       "    </tr>\n",
       "    <tr>\n",
       "      <th>4</th>\n",
       "      <td>Female</td>\n",
       "      <td>none</td>\n",
       "      <td>104</td>\n",
       "      <td>5</td>\n",
       "      <td>NaN</td>\n",
       "      <td>NaN</td>\n",
       "      <td>181</td>\n",
       "      <td>181</td>\n",
       "    </tr>\n",
       "    <tr>\n",
       "      <th>5</th>\n",
       "      <td>Femal   e</td>\n",
       "      <td>147</td>\n",
       "      <td>68</td>\n",
       "      <td>2</td>\n",
       "      <td>NaN</td>\n",
       "      <td>NaN</td>\n",
       "      <td>147</td>\n",
       "      <td>147</td>\n",
       "    </tr>\n",
       "    <tr>\n",
       "      <th>6</th>\n",
       "      <td>Female</td>\n",
       "      <td>1   42</td>\n",
       "      <td>92</td>\n",
       "      <td>4</td>\n",
       "      <td>NaN</td>\n",
       "      <td>NaN</td>\n",
       "      <td>142</td>\n",
       "      <td>142</td>\n",
       "    </tr>\n",
       "    <tr>\n",
       "      <th>7</th>\n",
       "      <td>Fe   male</td>\n",
       "      <td>146</td>\n",
       "      <td>10     8</td>\n",
       "      <td>4</td>\n",
       "      <td>NaN</td>\n",
       "      <td>NaN</td>\n",
       "      <td>146</td>\n",
       "      <td>146</td>\n",
       "    </tr>\n",
       "    <tr>\n",
       "      <th>8</th>\n",
       "      <td>Female</td>\n",
       "      <td>173</td>\n",
       "      <td>130</td>\n",
       "      <td>5</td>\n",
       "      <td>NaN</td>\n",
       "      <td>NaN</td>\n",
       "      <td>173</td>\n",
       "      <td>173</td>\n",
       "    </tr>\n",
       "    <tr>\n",
       "      <th>9</th>\n",
       "      <td>F   emale</td>\n",
       "      <td>170</td>\n",
       "      <td>71</td>\n",
       "      <td>4</td>\n",
       "      <td>NaN</td>\n",
       "      <td>NaN</td>\n",
       "      <td>170</td>\n",
       "      <td>170</td>\n",
       "    </tr>\n",
       "  </tbody>\n",
       "</table>\n",
       "</div>"
      ],
      "text/plain": [
       "      Gender   Height    Weight  Index  Unnamed: 4  Unnamed: 5 female  male\n",
       "0  Fema   le  15    8        89      4         NaN         NaN    158   158\n",
       "1  Fema   le  15    8        89      4         NaN         NaN    158   158\n",
       "2     Female      178       127      4         NaN         NaN    178   178\n",
       "3     Female     none       139      5         NaN         NaN   none  none\n",
       "4     Female     none       104      5         NaN         NaN    181   181\n",
       "5  Femal   e      147        68      2         NaN         NaN    147   147\n",
       "6     Female   1   42        92      4         NaN         NaN    142   142\n",
       "7  Fe   male      146  10     8      4         NaN         NaN    146   146\n",
       "8     Female      173       130      5         NaN         NaN    173   173\n",
       "9  F   emale      170        71      4         NaN         NaN    170   170"
      ]
     },
     "execution_count": 85,
     "metadata": {},
     "output_type": "execute_result"
    }
   ],
   "source": [
    "import pandas as pd\n",
    "df=pd.read_csv(\"dirtybmi_23.csv\")\n",
    "df.head(10)\n"
   ]
  },
  {
   "cell_type": "code",
   "execution_count": 3,
   "id": "d7931cc1-1d7f-41c5-bae8-96e176c34dff",
   "metadata": {},
   "outputs": [
    {
     "ename": "IndentationError",
     "evalue": "expected an indented block after 'for' statement on line 4 (514762037.py, line 5)",
     "output_type": "error",
     "traceback": [
      "\u001b[1;36m  Cell \u001b[1;32mIn[3], line 5\u001b[1;36m\u001b[0m\n\u001b[1;33m    sns.histplot(data[data['Work']==category]['BMI'],\u001b[0m\n\u001b[1;37m    ^\u001b[0m\n\u001b[1;31mIndentationError\u001b[0m\u001b[1;31m:\u001b[0m expected an indented block after 'for' statement on line 4\n"
     ]
    }
   ],
   "source": [
    "Work_categories=data['Work'].cat.categories\n",
    "fig,axes=plt.subplots(nrows=len(work_categories),\n",
    "ncols=1,figsize=(10,15), sharex=True)\n",
    "for ax, category in zip(axes, work_exprience):\n",
    "sns.histplot(data[data['Work']==category]['BMI'],\n",
    "bins=20,ax=ax)\n",
    "ax.set_title(f'Distribution of BMI for{category}')\n",
    "plt.tight_layout()\n",
    "plt.show()"
   ]
  },
  {
   "cell_type": "code",
   "execution_count": 105,
   "id": "3ef4c6e1-41a1-4466-b74a-4a2a861db5ef",
   "metadata": {},
   "outputs": [
    {
     "data": {
      "text/plain": [
       "height\n",
       "45.0     1\n",
       "48.2     2\n",
       "50.0     1\n",
       "50.1     1\n",
       "51.0     3\n",
       "        ..\n",
       "112.7    1\n",
       "112.8    1\n",
       "114.3    1\n",
       "117.9    1\n",
       "124.8    1\n",
       "Length: 396, dtype: int64"
      ]
     },
     "execution_count": 105,
     "metadata": {},
     "output_type": "execute_result"
    }
   ],
   "source": [
    "df.groupby('height').size()"
   ]
  },
  {
   "cell_type": "code",
   "execution_count": 108,
   "id": "0118bda4-d5c7-46e6-9715-345c4976ff75",
   "metadata": {},
   "outputs": [
    {
     "data": {
      "text/html": [
       "<div>\n",
       "<style scoped>\n",
       "    .dataframe tbody tr th:only-of-type {\n",
       "        vertical-align: middle;\n",
       "    }\n",
       "\n",
       "    .dataframe tbody tr th {\n",
       "        vertical-align: top;\n",
       "    }\n",
       "\n",
       "    .dataframe thead th {\n",
       "        text-align: right;\n",
       "    }\n",
       "</style>\n",
       "<table border=\"1\" class=\"dataframe\">\n",
       "  <thead>\n",
       "    <tr style=\"text-align: right;\">\n",
       "      <th></th>\n",
       "      <th>Gender</th>\n",
       "      <th>Height</th>\n",
       "      <th>Weight</th>\n",
       "      <th>Index</th>\n",
       "      <th>Unnamed: 4</th>\n",
       "      <th>Unnamed: 5</th>\n",
       "      <th>female</th>\n",
       "      <th>male</th>\n",
       "    </tr>\n",
       "  </thead>\n",
       "  <tbody>\n",
       "    <tr>\n",
       "      <th>33</th>\n",
       "      <td>Female</td>\n",
       "      <td>none</td>\n",
       "      <td>90</td>\n",
       "      <td>2</td>\n",
       "      <td>NaN</td>\n",
       "      <td>NaN</td>\n",
       "      <td>177</td>\n",
       "      <td>177</td>\n",
       "    </tr>\n",
       "    <tr>\n",
       "      <th>157</th>\n",
       "      <td>Female</td>\n",
       "      <td>none</td>\n",
       "      <td>144</td>\n",
       "      <td>5</td>\n",
       "      <td>NaN</td>\n",
       "      <td>NaN</td>\n",
       "      <td>none</td>\n",
       "      <td>none</td>\n",
       "    </tr>\n",
       "    <tr>\n",
       "      <th>245</th>\n",
       "      <td>Male</td>\n",
       "      <td>none</td>\n",
       "      <td>85</td>\n",
       "      <td>3</td>\n",
       "      <td>NaN</td>\n",
       "      <td>NaN</td>\n",
       "      <td>NaN</td>\n",
       "      <td>NaN</td>\n",
       "    </tr>\n",
       "    <tr>\n",
       "      <th>206</th>\n",
       "      <td>Male</td>\n",
       "      <td>none</td>\n",
       "      <td>156</td>\n",
       "      <td>5</td>\n",
       "      <td>NaN</td>\n",
       "      <td>NaN</td>\n",
       "      <td>NaN</td>\n",
       "      <td>NaN</td>\n",
       "    </tr>\n",
       "    <tr>\n",
       "      <th>43</th>\n",
       "      <td>Female</td>\n",
       "      <td>none</td>\n",
       "      <td>96</td>\n",
       "      <td>3</td>\n",
       "      <td>NaN</td>\n",
       "      <td>NaN</td>\n",
       "      <td>none</td>\n",
       "      <td>none</td>\n",
       "    </tr>\n",
       "  </tbody>\n",
       "</table>\n",
       "</div>"
      ],
      "text/plain": [
       "     Gender Height Weight  Index  Unnamed: 4  Unnamed: 5 female  male\n",
       "33   Female   none     90      2         NaN         NaN    177   177\n",
       "157  Female   none    144      5         NaN         NaN   none  none\n",
       "245    Male   none     85      3         NaN         NaN    NaN   NaN\n",
       "206    Male   none    156      5         NaN         NaN    NaN   NaN\n",
       "43   Female   none     96      3         NaN         NaN   none  none"
      ]
     },
     "execution_count": 108,
     "metadata": {},
     "output_type": "execute_result"
    }
   ],
   "source": [
    "sorted_df=df.sort_values(by='Height',ascending=False)\n",
    "sorted_df.head()"
   ]
  },
  {
   "cell_type": "code",
   "execution_count": 153,
   "id": "8b5c92e5-5a14-4005-8e06-c15f57fe0336",
   "metadata": {},
   "outputs": [
    {
     "name": "stdout",
     "output_type": "stream",
     "text": [
      "Invalid Rows\n",
      "        Gender Height    Weight  Index  Unnamed: 4  Unnamed: 5 female  male  \\\n",
      "2       Female    178       127      4         NaN         NaN    178   178   \n",
      "3       Female   none       139      5         NaN         NaN   none  none   \n",
      "4       Female   none       104      5         NaN         NaN    181   181   \n",
      "7    Fe   male    146  10     8      4         NaN         NaN    146   146   \n",
      "8       Female    173       130      5         NaN         NaN    173   173   \n",
      "..         ...    ...       ...    ...         ...         ...    ...   ...   \n",
      "398       Male    186       117      4         NaN         NaN    NaN   NaN   \n",
      "400       Male    164       130      5         NaN         NaN    NaN   NaN   \n",
      "401       Male    185       138      5         NaN         NaN    NaN   NaN   \n",
      "402       Male    188       158      5         NaN         NaN    NaN   NaN   \n",
      "403       Male    161       155      5         NaN         NaN    NaN   NaN   \n",
      "\n",
      "    is_valid  \n",
      "2      False  \n",
      "3      False  \n",
      "4      False  \n",
      "7      False  \n",
      "8      False  \n",
      "..       ...  \n",
      "398    False  \n",
      "400    False  \n",
      "401    False  \n",
      "402    False  \n",
      "403    False  \n",
      "\n",
      "[212 rows x 9 columns]\n"
     ]
    }
   ],
   "source": [
    "def validate_Height(row):\n",
    "       if row['Height']>row ['Weight']:\n",
    "        return False\n",
    "        return True\n",
    "df['is_valid']=df.apply(validate_Height, axis=1)\n",
    "invalid_row=df[df['is_valid']==False]\n",
    "print('Invalid Rows')\n",
    "print(invalid_row)\n"
   ]
  },
  {
   "cell_type": "code",
   "execution_count": 152,
   "id": "0f521e8b-add6-4cbc-9bd5-4f636618c300",
   "metadata": {},
   "outputs": [
    {
     "name": "stdout",
     "output_type": "stream",
     "text": [
      "Invalid Rows\n",
      "        Gender   Height Weight  Index  Unnamed: 4  Unnamed: 5 female male  \\\n",
      "0    Fema   le  15    8     89      4         NaN         NaN    158  158   \n",
      "1    Fema   le  15    8     89      4         NaN         NaN    158  158   \n",
      "5    Femal   e      147     68      2         NaN         NaN    147  147   \n",
      "6       Female   1   42     92      4         NaN         NaN    142  142   \n",
      "9    F   emale      170     71      4         NaN         NaN    170  170   \n",
      "..         ...      ...    ...    ...         ...         ...    ...  ...   \n",
      "390       Male      184     81      4         NaN         NaN    NaN  NaN   \n",
      "391       Male      179   none      5         NaN         NaN    NaN  NaN   \n",
      "392       Male      197     52      0         NaN         NaN    NaN  NaN   \n",
      "393       Male      165     99      3         NaN         NaN    NaN  NaN   \n",
      "399       Male      190   none      5         NaN         NaN    NaN  NaN   \n",
      "\n",
      "     is_valid  \n",
      "0        True  \n",
      "1        True  \n",
      "5        True  \n",
      "6        True  \n",
      "9        True  \n",
      "..        ...  \n",
      "390      True  \n",
      "391      True  \n",
      "392      True  \n",
      "393      True  \n",
      "399      True  \n",
      "\n",
      "[192 rows x 9 columns]\n"
     ]
    }
   ],
   "source": [
    "def Validate_Height(row):\n",
    "   if row['Height'] > row['Weight']:\n",
    "      return False\n",
    "   return True\n",
    "df['is_valid' ]=df.apply(Validate_Height,axis=1)\n",
    "invalid_row =df[df['is_valid']==True]\n",
    "print('Invalid Rows')\n",
    "print(invalid_row)\n"
   ]
  },
  {
   "cell_type": "code",
   "execution_count": 127,
   "id": "7d38c8e8-99dd-4cc1-99ea-290f799be660",
   "metadata": {},
   "outputs": [
    {
     "data": {
      "text/html": [
       "<div>\n",
       "<style scoped>\n",
       "    .dataframe tbody tr th:only-of-type {\n",
       "        vertical-align: middle;\n",
       "    }\n",
       "\n",
       "    .dataframe tbody tr th {\n",
       "        vertical-align: top;\n",
       "    }\n",
       "\n",
       "    .dataframe thead th {\n",
       "        text-align: right;\n",
       "    }\n",
       "</style>\n",
       "<table border=\"1\" class=\"dataframe\">\n",
       "  <thead>\n",
       "    <tr style=\"text-align: right;\">\n",
       "      <th></th>\n",
       "      <th>patient ID</th>\n",
       "      <th>Name</th>\n",
       "      <th>Gender</th>\n",
       "      <th>Blood Type</th>\n",
       "      <th>Diagnosi Code</th>\n",
       "    </tr>\n",
       "  </thead>\n",
       "  <tbody>\n",
       "    <tr>\n",
       "      <th>0</th>\n",
       "      <td>1</td>\n",
       "      <td>Alice</td>\n",
       "      <td>Feamale</td>\n",
       "      <td>A+</td>\n",
       "      <td>A00</td>\n",
       "    </tr>\n",
       "    <tr>\n",
       "      <th>1</th>\n",
       "      <td>2</td>\n",
       "      <td>Bob</td>\n",
       "      <td>Male</td>\n",
       "      <td>B-</td>\n",
       "      <td>B99</td>\n",
       "    </tr>\n",
       "    <tr>\n",
       "      <th>2</th>\n",
       "      <td>3</td>\n",
       "      <td>charlie</td>\n",
       "      <td>Other</td>\n",
       "      <td>O+</td>\n",
       "      <td>C30</td>\n",
       "    </tr>\n",
       "    <tr>\n",
       "      <th>3</th>\n",
       "      <td>4</td>\n",
       "      <td>David</td>\n",
       "      <td>Uknown</td>\n",
       "      <td>AB-</td>\n",
       "      <td>XYZ</td>\n",
       "    </tr>\n",
       "  </tbody>\n",
       "</table>\n",
       "</div>"
      ],
      "text/plain": [
       "   patient ID     Name   Gender Blood Type Diagnosi Code\n",
       "0           1    Alice  Feamale         A+           A00\n",
       "1           2      Bob     Male         B-           B99\n",
       "2           3  charlie    Other         O+           C30\n",
       "3           4    David   Uknown        AB-           XYZ"
      ]
     },
     "execution_count": 127,
     "metadata": {},
     "output_type": "execute_result"
    }
   ],
   "source": [
    "data={\n",
    "    'patient ID':[1,2,3,4],\n",
    "    'Name': ['Alice', 'Bob', 'charlie', 'David'],\n",
    "    'Gender':['Feamale', 'Male', 'Other', 'Uknown'], #\"unknown \" is invalid\n",
    "    'Blood Type':['A+', 'B-' ,'O+' , 'AB-'], # all invalid\n",
    "    'Diagnosi Code':['A00','B99',' C30' , 'XYZ'] #\"XYZ\" is invalid\n",
    "}\n",
    "df=pd.DataFrame(data)\n",
    "df.head()\n",
    "Valid_genders={'Male', 'Female', 'Others'}\n",
    "Valid_blood_types={ 'A','A-' , 'B-','B+','AB-','AB+','O-','O+'}\n",
    "Valid_diagnosis_codes ={'A00' , 'B99' ,'C30'}\n",
    "df.head()    "
   ]
  },
  {
   "cell_type": "code",
   "execution_count": 69,
   "id": "feb8ddf8-d109-4ee1-bbc8-9a02eda9bd31",
   "metadata": {},
   "outputs": [
    {
     "data": {
      "text/html": [
       "<div>\n",
       "<style scoped>\n",
       "    .dataframe tbody tr th:only-of-type {\n",
       "        vertical-align: middle;\n",
       "    }\n",
       "\n",
       "    .dataframe tbody tr th {\n",
       "        vertical-align: top;\n",
       "    }\n",
       "\n",
       "    .dataframe thead th {\n",
       "        text-align: right;\n",
       "    }\n",
       "</style>\n",
       "<table border=\"1\" class=\"dataframe\">\n",
       "  <thead>\n",
       "    <tr style=\"text-align: right;\">\n",
       "      <th></th>\n",
       "      <th>EmployeeID</th>\n",
       "      <th>Name</th>\n",
       "      <th>Age</th>\n",
       "      <th>Years_of_Experience</th>\n",
       "    </tr>\n",
       "  </thead>\n",
       "  <tbody>\n",
       "    <tr>\n",
       "      <th>0</th>\n",
       "      <td>1</td>\n",
       "      <td>Alice</td>\n",
       "      <td>30</td>\n",
       "      <td>5</td>\n",
       "    </tr>\n",
       "    <tr>\n",
       "      <th>1</th>\n",
       "      <td>2</td>\n",
       "      <td>Bob</td>\n",
       "      <td>25</td>\n",
       "      <td>27</td>\n",
       "    </tr>\n",
       "    <tr>\n",
       "      <th>2</th>\n",
       "      <td>3</td>\n",
       "      <td>Charlie</td>\n",
       "      <td>40</td>\n",
       "      <td>15</td>\n",
       "    </tr>\n",
       "    <tr>\n",
       "      <th>3</th>\n",
       "      <td>4</td>\n",
       "      <td>David</td>\n",
       "      <td>22</td>\n",
       "      <td>1</td>\n",
       "    </tr>\n",
       "  </tbody>\n",
       "</table>\n",
       "</div>"
      ],
      "text/plain": [
       "   EmployeeID     Name  Age  Years_of_Experience\n",
       "0           1    Alice   30                    5\n",
       "1           2      Bob   25                   27\n",
       "2           3  Charlie   40                   15\n",
       "3           4    David   22                    1"
      ]
     },
     "execution_count": 69,
     "metadata": {},
     "output_type": "execute_result"
    }
   ],
   "source": [
    "def check_membership(value, valid_set):\n",
    "    if value not in valid_set:\n",
    "        return False\n",
    "    return True\n",
    "def Valid_health_data(df):\n",
    "    invalid_rows =[]\n",
    "    for index, row in df.iterrows():\n",
    "     errors={}\n",
    "     if not check_membership(row['Gender'], Valid_genders):\n",
    "        errors['Gender']=row['Gender']\n",
    "     if not check_membership(row['Blood Types'], Valid_blood_types):\n",
    "        errors['Bloods Types'] = row['Blood type']\n",
    "     if not check_membership(row['Diagnosis Code'] , Valid_diagnosis_codes):\n",
    "        errors['Diagnosis Code']=row['Diagnosis Code'] \n",
    "df=pd.DataFrame(data)\n",
    "df.head()\n",
    "        "
   ]
  },
  {
   "cell_type": "code",
   "execution_count": 31,
   "id": "bfbb6391-f3d7-45ce-97e0-b9276bed9329",
   "metadata": {},
   "outputs": [
    {
     "ename": "IndentationError",
     "evalue": "expected an indented block after 'for' statement on line 3 (728211147.py, line 4)",
     "output_type": "error",
     "traceback": [
      "\u001b[1;36m  Cell \u001b[1;32mIn[31], line 4\u001b[1;36m\u001b[0m\n\u001b[1;33m    if field == 'Gender'\u001b[0m\n\u001b[1;37m                        ^\u001b[0m\n\u001b[1;31mIndentationError\u001b[0m\u001b[1;31m:\u001b[0m expected an indented block after 'for' statement on line 3\n"
     ]
    }
   ],
   "source": [
    "df_cleaned =df.drop(index=[entry['index']for entry in inalid_entries])\n",
    "for entry in invalid_entries:\n",
    "    for field in entry['errors']:\n",
    "if field == 'Gender'\n",
    "df.at[entry['index'], field]= 'other'\n",
    "elseif == 'Diagnosis Code'\n",
    "df.at[entry['index'], field]='A00'\n",
    "print(\"/nCleaned DataFrame:\")\n",
    "print(df_cleaned)\n",
    "df.head()"
   ]
  },
  {
   "cell_type": "code",
   "execution_count": 62,
   "id": "0900017e-35f2-4fbe-921b-bc56c2d01b2f",
   "metadata": {},
   "outputs": [
    {
     "name": "stdout",
     "output_type": "stream",
     "text": [
      "Invalid Rows:\n",
      "   EmployeeID Name  Age  Years_of_Experience  is_Valid\n",
      "1           2  Bob   25                   27     False\n"
     ]
    }
   ],
   "source": [
    "import pandas as pd\n",
    "data={\n",
    "  'EmployeeID':[1,2,3,4],\n",
    "  'Name':['Alice', 'Bob' ,'Charlie', 'David'],\n",
    "  'Age':[30, 25,40 ,22],\n",
    "  'Years_of_Experience':[5,27,15,1]\n",
    "}\n",
    "df=pd.DataFrame(data)\n",
    "#Cross-field validation function\n",
    "def validate_experience(row):\n",
    "  if row['Years_of_Experience']>row['Age']:\n",
    "     return False\n",
    "  return True\n",
    "df['is_Valid']=df.apply(validate_experience, axis=1)\n",
    "invalid_rows=df[df['is_Valid']==False]\n",
    "\n",
    "print(\"Invalid Rows:\")\n",
    "print(invalid_rows)\n",
    "\n",
    "    "
   ]
  },
  {
   "cell_type": "code",
   "execution_count": 79,
   "id": "e2e3bb6e-0374-4655-b4ea-2aa2af411e51",
   "metadata": {},
   "outputs": [
    {
     "name": "stdout",
     "output_type": "stream",
     "text": [
      "  Start Date   End Date  Valid\n",
      "0 2023-01-01 2023-01-10   True\n",
      "1 2023-02-01 2023-01-05  False\n",
      "2 2023-03-02 2023-04-01   True\n",
      "Invalid rows found:\n",
      "  Start Date   End Date  Valid\n",
      "1 2023-02-01 2023-01-05  False\n"
     ]
    }
   ],
   "source": [
    "import pandas as pd\n",
    "data={'Start Date':['2023-01-01', '2023-02-01','2023-03-02'],\n",
    "    'End Date':['2023-01-10','2023-01-05','2023-04-01']\n",
    "}\n",
    "df=pd.DataFrame(data)\n",
    "df['Start Date']=pd.to_datetime(df['Start Date'])\n",
    "df['End Date']=pd.to_datetime(df['End Date'])\n",
    "df['Valid']=df['Start Date']<df['End Date']\n",
    "print(df)\n",
    "invalid_rows=df[~df['Valid']]\n",
    "if not invalid_rows.empty:\n",
    "   print(\"Invalid rows found:\")\n",
    "   print(invalid_rows)\n",
    "else:\n",
    "   print(\"All rows are valid.\")"
   ]
  },
  {
   "cell_type": "code",
   "execution_count": 51,
   "id": "91e1c8d4-080f-4c89-848d-9fbde1bd4b63",
   "metadata": {},
   "outputs": [
    {
     "name": "stdout",
     "output_type": "stream",
     "text": [
      "Original DataFrame.\n",
      "     A     B    C       D\n",
      "0  1.0   5.0  NaN     dog\n",
      "1  2.0   NaN  2.0     cat\n",
      "2  NaN   NaN  3.0     NaN\n",
      "3  4.0   8.0  4.0   mouse\n",
      "4  5.0  10.0  NaN  rabbit\n",
      "/nDetect missimg values.\n",
      "       A      B      C      D\n",
      "0  False  False   True  False\n",
      "1  False   True  False  False\n",
      "2   True   True  False   True\n",
      "3  False  False  False  False\n",
      "4  False  False   True  False\n",
      "/nDataFrame after dropping rows with missing values.\n",
      "     A    B    C      D\n",
      "3  4.0  8.0  4.0  mouse\n",
      "/nDataFrame after dropping rows with missing values in column 'A' or 'B'.\n",
      "     A     B    C       D\n",
      "0  1.0   5.0  NaN     dog\n",
      "3  4.0   8.0  4.0   mouse\n",
      "4  5.0  10.0  NaN  rabbit\n",
      "/nDataFrame after filling  missing values with 0.\n",
      "     A     B    C       D\n",
      "0  1.0   5.0  0.0     dog\n",
      "1  2.0   0.0  2.0     cat\n",
      "2  0.0   0.0  3.0       0\n",
      "3  4.0   8.0  4.0   mouse\n",
      "4  5.0  10.0  0.0  rabbit\n",
      "/nDataFrame after filling missing value with colum mean.\n",
      "     A          B    C       D\n",
      "0  1.0   5.000000  3.0     dog\n",
      "1  2.0   7.666667  2.0     cat\n",
      "2  3.0   7.666667  3.0     NaN\n",
      "3  4.0   8.000000  4.0   mouse\n",
      "4  5.0  10.000000  3.0  rabbit\n",
      "/nDataFrame after forward fill.\n",
      "     A     B    C       D\n",
      "0  1.0   5.0  2.0     dog\n",
      "1  2.0   8.0  2.0     cat\n",
      "2  4.0   8.0  3.0   mouse\n",
      "3  4.0   8.0  4.0   mouse\n",
      "4  5.0  10.0  NaN  rabbit\n",
      "/nDataFrame after interpolation.\n",
      "     A     B    C       D\n",
      "0  1.0   5.0  NaN     dog\n",
      "1  2.0   6.0  2.0     cat\n",
      "2  3.0   7.0  3.0     NaN\n",
      "3  4.0   8.0  4.0   mouse\n",
      "4  5.0  10.0  4.0  rabbit\n"
     ]
    },
    {
     "name": "stderr",
     "output_type": "stream",
     "text": [
      "C:\\Users\\ADMIN\\AppData\\Local\\Temp\\ipykernel_9548\\2701632174.py:29: FutureWarning: DataFrame.interpolate with object dtype is deprecated and will raise in a future version. Call obj.infer_objects(copy=False) before interpolating instead.\n",
      "  df_interpolate=df.interpolate()\n"
     ]
    }
   ],
   "source": [
    "import pandas as pd\n",
    "import numpy as np\n",
    "data={\n",
    "    'A':[1, 2, np.nan, 4, 5],\n",
    "    'B':[5, np.nan,np.nan, 8 , 10],\n",
    "    'C':[np.nan,2,3,4,np.nan],\n",
    "    'D':['dog','cat', np.nan,'mouse','rabbit']\n",
    "}\n",
    "df=pd.DataFrame(data)\n",
    "print(\"Original DataFrame.\")\n",
    "print(df)\n",
    "print(\"/nDetect missimg values.\")\n",
    "print(df.isnull())\n",
    "df_dropna=df.dropna()\n",
    "print(\"/nDataFrame after dropping rows with missing values.\")\n",
    "print(df_dropna)\n",
    "df_dropna_subset=df.dropna(subset=['A' , 'B'])\n",
    "print(\"/nDataFrame after dropping rows with missing values in column 'A' or 'B'.\")\n",
    "print(df_dropna_subset)\n",
    "df_fillna=df.fillna(0)\n",
    "print(\"/nDataFrame after filling  missing values with 0.\")\n",
    "print(df_fillna)\n",
    "df_fillna_mean=df.fillna(df.mean(numeric_only=True))\n",
    "print(\"/nDataFrame after filling missing value with colum mean.\")\n",
    "print(df_fillna_mean)\n",
    "df_fill=df.bfill()\n",
    "print(\"/nDataFrame after forward fill.\")\n",
    "print(df_fill)\n",
    "df_interpolate=df.interpolate()\n",
    "print(\"/nDataFrame after interpolation.\")\n",
    "print(df_interpolate)\n"
   ]
  },
  {
   "cell_type": "code",
   "execution_count": null,
   "id": "9c684f1e-58fe-4e1b-abf2-55575052daae",
   "metadata": {},
   "outputs": [],
   "source": []
  },
  {
   "cell_type": "code",
   "execution_count": 10,
   "id": "b6f05eef-ac47-49e8-ada1-32f4aaad95cc",
   "metadata": {},
   "outputs": [
    {
     "name": "stdout",
     "output_type": "stream",
     "text": [
      "Education\n",
      "Some College      1423\n",
      "College Grad      1246\n",
      "High School        993\n",
      "9 - 11th Grade     624\n",
      "8th Grade          359\n",
      "Name: count, dtype: int64\n",
      "col_0           Education\n",
      "Education                \n",
      "8th Grade             359\n",
      "9 - 11th Grade        624\n",
      "College Grad         1246\n",
      "High School           993\n",
      "Some College         1423\n"
     ]
    },
    {
     "data": {
      "text/html": [
       "<div>\n",
       "<style scoped>\n",
       "    .dataframe tbody tr th:only-of-type {\n",
       "        vertical-align: middle;\n",
       "    }\n",
       "\n",
       "    .dataframe tbody tr th {\n",
       "        vertical-align: top;\n",
       "    }\n",
       "\n",
       "    .dataframe thead th {\n",
       "        text-align: right;\n",
       "    }\n",
       "</style>\n",
       "<table border=\"1\" class=\"dataframe\">\n",
       "  <thead>\n",
       "    <tr style=\"text-align: right;\">\n",
       "      <th></th>\n",
       "      <th>ID</th>\n",
       "      <th>SurveyYr</th>\n",
       "      <th>Gender</th>\n",
       "      <th>Age</th>\n",
       "      <th>AgeDecade</th>\n",
       "      <th>AgeMonths</th>\n",
       "      <th>Education</th>\n",
       "      <th>MaritalStatus</th>\n",
       "      <th>HHIncome</th>\n",
       "      <th>HHIncomeMid</th>\n",
       "      <th>...</th>\n",
       "      <th>PhysActiveDays</th>\n",
       "      <th>TVHrsDay</th>\n",
       "      <th>SleepHrsNight</th>\n",
       "      <th>SleepTrouble</th>\n",
       "      <th>CompHrsDay</th>\n",
       "      <th>TVHrsDayChild</th>\n",
       "      <th>CompHrsDayChild</th>\n",
       "      <th>SmokeNow</th>\n",
       "      <th>Smoke100</th>\n",
       "      <th>Smoke100n</th>\n",
       "    </tr>\n",
       "  </thead>\n",
       "  <tbody>\n",
       "    <tr>\n",
       "      <th>0</th>\n",
       "      <td>51624</td>\n",
       "      <td>2009_10</td>\n",
       "      <td>male</td>\n",
       "      <td>34</td>\n",
       "      <td>30-39</td>\n",
       "      <td>409.0</td>\n",
       "      <td>High School</td>\n",
       "      <td>Married</td>\n",
       "      <td>25000-34999</td>\n",
       "      <td>30000.0</td>\n",
       "      <td>...</td>\n",
       "      <td>NaN</td>\n",
       "      <td>NaN</td>\n",
       "      <td>4.0</td>\n",
       "      <td>Yes</td>\n",
       "      <td>NaN</td>\n",
       "      <td>NaN</td>\n",
       "      <td>NaN</td>\n",
       "      <td>No</td>\n",
       "      <td>Yes</td>\n",
       "      <td>Smoker</td>\n",
       "    </tr>\n",
       "    <tr>\n",
       "      <th>1</th>\n",
       "      <td>51625</td>\n",
       "      <td>2009_10</td>\n",
       "      <td>male</td>\n",
       "      <td>4</td>\n",
       "      <td>0-9</td>\n",
       "      <td>49.0</td>\n",
       "      <td>NaN</td>\n",
       "      <td>NaN</td>\n",
       "      <td>20000-24999</td>\n",
       "      <td>22500.0</td>\n",
       "      <td>...</td>\n",
       "      <td>NaN</td>\n",
       "      <td>NaN</td>\n",
       "      <td>NaN</td>\n",
       "      <td>NaN</td>\n",
       "      <td>NaN</td>\n",
       "      <td>4.0</td>\n",
       "      <td>1.0</td>\n",
       "      <td>NaN</td>\n",
       "      <td>NaN</td>\n",
       "      <td>NaN</td>\n",
       "    </tr>\n",
       "    <tr>\n",
       "      <th>2</th>\n",
       "      <td>51630</td>\n",
       "      <td>2009_10</td>\n",
       "      <td>female</td>\n",
       "      <td>49</td>\n",
       "      <td>40-49</td>\n",
       "      <td>596.0</td>\n",
       "      <td>Some College</td>\n",
       "      <td>LivePartner</td>\n",
       "      <td>35000-44999</td>\n",
       "      <td>40000.0</td>\n",
       "      <td>...</td>\n",
       "      <td>NaN</td>\n",
       "      <td>NaN</td>\n",
       "      <td>8.0</td>\n",
       "      <td>Yes</td>\n",
       "      <td>NaN</td>\n",
       "      <td>NaN</td>\n",
       "      <td>NaN</td>\n",
       "      <td>Yes</td>\n",
       "      <td>Yes</td>\n",
       "      <td>Smoker</td>\n",
       "    </tr>\n",
       "    <tr>\n",
       "      <th>3</th>\n",
       "      <td>51638</td>\n",
       "      <td>2009_10</td>\n",
       "      <td>male</td>\n",
       "      <td>9</td>\n",
       "      <td>0-9</td>\n",
       "      <td>115.0</td>\n",
       "      <td>NaN</td>\n",
       "      <td>NaN</td>\n",
       "      <td>75000-99999</td>\n",
       "      <td>87500.0</td>\n",
       "      <td>...</td>\n",
       "      <td>NaN</td>\n",
       "      <td>NaN</td>\n",
       "      <td>NaN</td>\n",
       "      <td>NaN</td>\n",
       "      <td>NaN</td>\n",
       "      <td>5.0</td>\n",
       "      <td>0.0</td>\n",
       "      <td>NaN</td>\n",
       "      <td>NaN</td>\n",
       "      <td>NaN</td>\n",
       "    </tr>\n",
       "    <tr>\n",
       "      <th>4</th>\n",
       "      <td>51646</td>\n",
       "      <td>2009_10</td>\n",
       "      <td>male</td>\n",
       "      <td>8</td>\n",
       "      <td>0-9</td>\n",
       "      <td>101.0</td>\n",
       "      <td>NaN</td>\n",
       "      <td>NaN</td>\n",
       "      <td>55000-64999</td>\n",
       "      <td>60000.0</td>\n",
       "      <td>...</td>\n",
       "      <td>NaN</td>\n",
       "      <td>NaN</td>\n",
       "      <td>NaN</td>\n",
       "      <td>NaN</td>\n",
       "      <td>NaN</td>\n",
       "      <td>1.0</td>\n",
       "      <td>6.0</td>\n",
       "      <td>NaN</td>\n",
       "      <td>NaN</td>\n",
       "      <td>NaN</td>\n",
       "    </tr>\n",
       "  </tbody>\n",
       "</table>\n",
       "<p>5 rows × 37 columns</p>\n",
       "</div>"
      ],
      "text/plain": [
       "      ID SurveyYr  Gender  Age AgeDecade  AgeMonths     Education  \\\n",
       "0  51624  2009_10    male   34     30-39      409.0   High School   \n",
       "1  51625  2009_10    male    4       0-9       49.0           NaN   \n",
       "2  51630  2009_10  female   49     40-49      596.0  Some College   \n",
       "3  51638  2009_10    male    9       0-9      115.0           NaN   \n",
       "4  51646  2009_10    male    8       0-9      101.0           NaN   \n",
       "\n",
       "  MaritalStatus     HHIncome  HHIncomeMid  ...  PhysActiveDays  TVHrsDay  \\\n",
       "0       Married  25000-34999      30000.0  ...             NaN       NaN   \n",
       "1           NaN  20000-24999      22500.0  ...             NaN       NaN   \n",
       "2   LivePartner  35000-44999      40000.0  ...             NaN       NaN   \n",
       "3           NaN  75000-99999      87500.0  ...             NaN       NaN   \n",
       "4           NaN  55000-64999      60000.0  ...             NaN       NaN   \n",
       "\n",
       "  SleepHrsNight SleepTrouble  CompHrsDay  TVHrsDayChild  CompHrsDayChild  \\\n",
       "0           4.0          Yes         NaN            NaN              NaN   \n",
       "1           NaN          NaN         NaN            4.0              1.0   \n",
       "2           8.0          Yes         NaN            NaN              NaN   \n",
       "3           NaN          NaN         NaN            5.0              0.0   \n",
       "4           NaN          NaN         NaN            1.0              6.0   \n",
       "\n",
       "  SmokeNow  Smoke100  Smoke100n  \n",
       "0       No       Yes     Smoker  \n",
       "1      NaN       NaN        NaN  \n",
       "2      Yes       Yes     Smoker  \n",
       "3      NaN       NaN        NaN  \n",
       "4      NaN       NaN        NaN  \n",
       "\n",
       "[5 rows x 37 columns]"
      ]
     },
     "execution_count": 10,
     "metadata": {},
     "output_type": "execute_result"
    }
   ],
   "source": [
    "import pandas as pd\n",
    "import numpy as np\n",
    "import matplotlib.pyplot as plt\n",
    "import seaborn as sns\n",
    "from statsmodels.graphics.mosaicplot import mosaic\n",
    "data=pd.read_csv(\"nhanes_reduced .csv\")\n",
    "nhanes=data['Education'].value_counts()\n",
    "print(nhanes)\n",
    "freq_table=pd.crosstab(data['Education'],\n",
    "'Education')\n",
    "print(freq_table)\n",
    "data.head()"
   ]
  },
  {
   "cell_type": "code",
   "execution_count": 55,
   "id": "600ea5ba-6974-4543-9b5b-ffa36d827079",
   "metadata": {},
   "outputs": [
    {
     "name": "stdout",
     "output_type": "stream",
     "text": [
      "summary statistics:\n",
      "              A          B    C\n",
      "count  4.000000   3.000000  3.0\n",
      "mean   3.000000   7.666667  3.0\n",
      "std    1.825742   2.516611  1.0\n",
      "min    1.000000   5.000000  2.0\n",
      "25%    1.750000   6.500000  2.5\n",
      "50%    3.000000   8.000000  3.0\n",
      "75%    4.250000   9.000000  3.5\n",
      "max    5.000000  10.000000  4.0\n"
     ]
    }
   ],
   "source": [
    "print(\"summary statistics:\")\n",
    "print(df.describe())"
   ]
  },
  {
   "cell_type": "code",
   "execution_count": 7,
   "id": "b6b56c0a-aea7-4664-97ac-ff0fad93bef2",
   "metadata": {},
   "outputs": [
    {
     "name": "stdout",
     "output_type": "stream",
     "text": [
      "Education\n",
      "Some College      1423\n",
      "College Grad      1246\n",
      "High School        993\n",
      "9 - 11th Grade     624\n",
      "8th Grade          359\n",
      "Name: count, dtype: int64\n"
     ]
    }
   ],
   "source": [
    "nhanes=data['Education'].value_counts()\n",
    "print(nhanes)"
   ]
  },
  {
   "cell_type": "code",
   "execution_count": 6,
   "id": "a6466910-ab7b-41d5-961b-45853eb81bc0",
   "metadata": {},
   "outputs": [
    {
     "name": "stdout",
     "output_type": "stream",
     "text": [
      "col_0           Education\n",
      "Education                \n",
      "8th Grade             359\n",
      "9 - 11th Grade        624\n",
      "College Grad         1246\n",
      "High School           993\n",
      "Some College         1423\n"
     ]
    }
   ],
   "source": [
    "freq_table=pd.crosstab(data['Education'],\n",
    "'Education')\n",
    "print(freq_table)\n"
   ]
  },
  {
   "cell_type": "code",
   "execution_count": 2,
   "id": "758f3e5a-3c44-4e76-ac97-e288adbc2eb4",
   "metadata": {},
   "outputs": [
    {
     "name": "stdout",
     "output_type": "stream",
     "text": [
      "col_0          MaritalStatus\n",
      "MaritalStatus               \n",
      "Divorced                 443\n",
      "LivePartner              374\n",
      "Married                 2463\n",
      "NeverMarried             899\n",
      "Separated                135\n",
      "Widowed                  336\n"
     ]
    }
   ],
   "source": [
    "freq_table=pd.crosstab(data['MaritalStatus'],\n",
    "'MaritalStatus')\n",
    "print(freq_table)\n"
   ]
  },
  {
   "cell_type": "code",
   "execution_count": 6,
   "id": "aa897fd4-69b6-469b-84d5-7ae18c22e4d7",
   "metadata": {},
   "outputs": [
    {
     "name": "stdout",
     "output_type": "stream",
     "text": [
      "col_0         SleepTrouble\n",
      "SleepTrouble              \n",
      "No                    3813\n",
      "Yes                   1234\n"
     ]
    }
   ],
   "source": [
    "freq_table=pd.crosstab(data['SleepTrouble'],\n",
    "'SleepTrouble')\n",
    "print(freq_table)\n"
   ]
  },
  {
   "cell_type": "code",
   "execution_count": 9,
   "id": "34362746-7d43-4ea8-b07e-a54e819bc160",
   "metadata": {},
   "outputs": [
    {
     "name": "stdout",
     "output_type": "stream",
     "text": [
      "col_0           PhysActiveDays\n",
      "PhysActiveDays                \n",
      "1.0                        361\n",
      "2.0                        522\n",
      "3.0                        718\n",
      "4.0                        397\n",
      "5.0                        513\n",
      "6.0                        167\n",
      "7.0                        399\n"
     ]
    }
   ],
   "source": [
    "freq_table=pd.crosstab(data['PhysActiveDays'],\n",
    "\t'PhysActiveDays')\n",
    "print(freq_table)\n"
   ]
  },
  {
   "cell_type": "code",
   "execution_count": 11,
   "id": "a6198e88-7100-4fe7-9f77-42b270003f65",
   "metadata": {},
   "outputs": [
    {
     "data": {
      "text/html": [
       "<div>\n",
       "<style scoped>\n",
       "    .dataframe tbody tr th:only-of-type {\n",
       "        vertical-align: middle;\n",
       "    }\n",
       "\n",
       "    .dataframe tbody tr th {\n",
       "        vertical-align: top;\n",
       "    }\n",
       "\n",
       "    .dataframe thead th {\n",
       "        text-align: right;\n",
       "    }\n",
       "</style>\n",
       "<table border=\"1\" class=\"dataframe\">\n",
       "  <thead>\n",
       "    <tr style=\"text-align: right;\">\n",
       "      <th>HHIncome</th>\n",
       "      <th>0-4999</th>\n",
       "      <th>10000-14999</th>\n",
       "      <th>15000-19999</th>\n",
       "      <th>20000-24999</th>\n",
       "      <th>25000-34999</th>\n",
       "      <th>35000-44999</th>\n",
       "      <th>45000-54999</th>\n",
       "      <th>5000-9999</th>\n",
       "      <th>55000-64999</th>\n",
       "      <th>65000-74999</th>\n",
       "      <th>75000-99999</th>\n",
       "      <th>more 99999</th>\n",
       "    </tr>\n",
       "    <tr>\n",
       "      <th>Education</th>\n",
       "      <th></th>\n",
       "      <th></th>\n",
       "      <th></th>\n",
       "      <th></th>\n",
       "      <th></th>\n",
       "      <th></th>\n",
       "      <th></th>\n",
       "      <th></th>\n",
       "      <th></th>\n",
       "      <th></th>\n",
       "      <th></th>\n",
       "      <th></th>\n",
       "    </tr>\n",
       "  </thead>\n",
       "  <tbody>\n",
       "    <tr>\n",
       "      <th>8th Grade</th>\n",
       "      <td>15</td>\n",
       "      <td>35</td>\n",
       "      <td>46</td>\n",
       "      <td>45</td>\n",
       "      <td>55</td>\n",
       "      <td>32</td>\n",
       "      <td>17</td>\n",
       "      <td>23</td>\n",
       "      <td>12</td>\n",
       "      <td>8</td>\n",
       "      <td>8</td>\n",
       "      <td>8</td>\n",
       "    </tr>\n",
       "    <tr>\n",
       "      <th>9 - 11th Grade</th>\n",
       "      <td>26</td>\n",
       "      <td>64</td>\n",
       "      <td>57</td>\n",
       "      <td>61</td>\n",
       "      <td>77</td>\n",
       "      <td>56</td>\n",
       "      <td>46</td>\n",
       "      <td>34</td>\n",
       "      <td>32</td>\n",
       "      <td>25</td>\n",
       "      <td>37</td>\n",
       "      <td>32</td>\n",
       "    </tr>\n",
       "    <tr>\n",
       "      <th>College Grad</th>\n",
       "      <td>13</td>\n",
       "      <td>14</td>\n",
       "      <td>31</td>\n",
       "      <td>25</td>\n",
       "      <td>66</td>\n",
       "      <td>85</td>\n",
       "      <td>80</td>\n",
       "      <td>8</td>\n",
       "      <td>75</td>\n",
       "      <td>81</td>\n",
       "      <td>196</td>\n",
       "      <td>497</td>\n",
       "    </tr>\n",
       "    <tr>\n",
       "      <th>High School</th>\n",
       "      <td>21</td>\n",
       "      <td>95</td>\n",
       "      <td>74</td>\n",
       "      <td>80</td>\n",
       "      <td>119</td>\n",
       "      <td>114</td>\n",
       "      <td>86</td>\n",
       "      <td>35</td>\n",
       "      <td>62</td>\n",
       "      <td>46</td>\n",
       "      <td>73</td>\n",
       "      <td>99</td>\n",
       "    </tr>\n",
       "    <tr>\n",
       "      <th>Some College</th>\n",
       "      <td>23</td>\n",
       "      <td>90</td>\n",
       "      <td>70</td>\n",
       "      <td>86</td>\n",
       "      <td>149</td>\n",
       "      <td>136</td>\n",
       "      <td>128</td>\n",
       "      <td>33</td>\n",
       "      <td>92</td>\n",
       "      <td>85</td>\n",
       "      <td>160</td>\n",
       "      <td>252</td>\n",
       "    </tr>\n",
       "  </tbody>\n",
       "</table>\n",
       "</div>"
      ],
      "text/plain": [
       "HHIncome        0-4999  10000-14999  15000-19999  20000-24999  25000-34999  \\\n",
       "Education                                                                    \n",
       "8th Grade           15           35           46           45           55   \n",
       "9 - 11th Grade      26           64           57           61           77   \n",
       "College Grad        13           14           31           25           66   \n",
       "High School         21           95           74           80          119   \n",
       "Some College        23           90           70           86          149   \n",
       "\n",
       "HHIncome        35000-44999  45000-54999  5000-9999  55000-64999  65000-74999  \\\n",
       "Education                                                                       \n",
       "8th Grade                32           17         23           12            8   \n",
       "9 - 11th Grade           56           46         34           32           25   \n",
       "College Grad             85           80          8           75           81   \n",
       "High School             114           86         35           62           46   \n",
       "Some College            136          128         33           92           85   \n",
       "\n",
       "HHIncome        75000-99999  more 99999  \n",
       "Education                                \n",
       "8th Grade                 8           8  \n",
       "9 - 11th Grade           37          32  \n",
       "College Grad            196         497  \n",
       "High School              73          99  \n",
       "Some College            160         252  "
      ]
     },
     "execution_count": 11,
     "metadata": {},
     "output_type": "execute_result"
    }
   ],
   "source": [
    "freq_table=pd.crosstab(data['Education'],\n",
    "                       data[''])\n",
    "freq_tableatus"
   ]
  },
  {
   "cell_type": "code",
   "execution_count": 4,
   "id": "699417e5-3540-475f-8ec3-ef0cb3601b99",
   "metadata": {},
   "outputs": [
    {
     "data": {
      "text/html": [
       "<div>\n",
       "<style scoped>\n",
       "    .dataframe tbody tr th:only-of-type {\n",
       "        vertical-align: middle;\n",
       "    }\n",
       "\n",
       "    .dataframe tbody tr th {\n",
       "        vertical-align: top;\n",
       "    }\n",
       "\n",
       "    .dataframe thead th {\n",
       "        text-align: right;\n",
       "    }\n",
       "</style>\n",
       "<table border=\"1\" class=\"dataframe\">\n",
       "  <thead>\n",
       "    <tr style=\"text-align: right;\">\n",
       "      <th>PhysActiveDays</th>\n",
       "      <th>1.0</th>\n",
       "      <th>2.0</th>\n",
       "      <th>3.0</th>\n",
       "      <th>4.0</th>\n",
       "      <th>5.0</th>\n",
       "      <th>6.0</th>\n",
       "      <th>7.0</th>\n",
       "    </tr>\n",
       "    <tr>\n",
       "      <th>MaritalStatus</th>\n",
       "      <th></th>\n",
       "      <th></th>\n",
       "      <th></th>\n",
       "      <th></th>\n",
       "      <th></th>\n",
       "      <th></th>\n",
       "      <th></th>\n",
       "    </tr>\n",
       "  </thead>\n",
       "  <tbody>\n",
       "    <tr>\n",
       "      <th>Divorced</th>\n",
       "      <td>28</td>\n",
       "      <td>35</td>\n",
       "      <td>47</td>\n",
       "      <td>29</td>\n",
       "      <td>32</td>\n",
       "      <td>10</td>\n",
       "      <td>25</td>\n",
       "    </tr>\n",
       "    <tr>\n",
       "      <th>LivePartner</th>\n",
       "      <td>20</td>\n",
       "      <td>34</td>\n",
       "      <td>46</td>\n",
       "      <td>26</td>\n",
       "      <td>26</td>\n",
       "      <td>11</td>\n",
       "      <td>22</td>\n",
       "    </tr>\n",
       "    <tr>\n",
       "      <th>Married</th>\n",
       "      <td>143</td>\n",
       "      <td>219</td>\n",
       "      <td>274</td>\n",
       "      <td>142</td>\n",
       "      <td>208</td>\n",
       "      <td>68</td>\n",
       "      <td>140</td>\n",
       "    </tr>\n",
       "    <tr>\n",
       "      <th>NeverMarried</th>\n",
       "      <td>65</td>\n",
       "      <td>76</td>\n",
       "      <td>133</td>\n",
       "      <td>64</td>\n",
       "      <td>56</td>\n",
       "      <td>17</td>\n",
       "      <td>62</td>\n",
       "    </tr>\n",
       "    <tr>\n",
       "      <th>Separated</th>\n",
       "      <td>8</td>\n",
       "      <td>14</td>\n",
       "      <td>10</td>\n",
       "      <td>10</td>\n",
       "      <td>12</td>\n",
       "      <td>2</td>\n",
       "      <td>6</td>\n",
       "    </tr>\n",
       "    <tr>\n",
       "      <th>Widowed</th>\n",
       "      <td>8</td>\n",
       "      <td>22</td>\n",
       "      <td>27</td>\n",
       "      <td>11</td>\n",
       "      <td>22</td>\n",
       "      <td>6</td>\n",
       "      <td>22</td>\n",
       "    </tr>\n",
       "  </tbody>\n",
       "</table>\n",
       "</div>"
      ],
      "text/plain": [
       "PhysActiveDays  1.0  2.0  3.0  4.0  5.0  6.0  7.0\n",
       "MaritalStatus                                    \n",
       "Divorced         28   35   47   29   32   10   25\n",
       "LivePartner      20   34   46   26   26   11   22\n",
       "Married         143  219  274  142  208   68  140\n",
       "NeverMarried     65   76  133   64   56   17   62\n",
       "Separated         8   14   10   10   12    2    6\n",
       "Widowed           8   22   27   11   22    6   22"
      ]
     },
     "execution_count": 4,
     "metadata": {},
     "output_type": "execute_result"
    }
   ],
   "source": [
    "freq_table=pd.crosstab(data['MaritalStatus'],\n",
    "                       data['PhysActiveDays'])\n",
    "freq_table"
   ]
  },
  {
   "cell_type": "code",
   "execution_count": 5,
   "id": "e0183923-71f5-4335-a2c9-59a1a773a2ca",
   "metadata": {},
   "outputs": [
    {
     "data": {
      "text/html": [
       "<div>\n",
       "<style scoped>\n",
       "    .dataframe tbody tr th:only-of-type {\n",
       "        vertical-align: middle;\n",
       "    }\n",
       "\n",
       "    .dataframe tbody tr th {\n",
       "        vertical-align: top;\n",
       "    }\n",
       "\n",
       "    .dataframe thead th {\n",
       "        text-align: right;\n",
       "    }\n",
       "</style>\n",
       "<table border=\"1\" class=\"dataframe\">\n",
       "  <thead>\n",
       "    <tr style=\"text-align: right;\">\n",
       "      <th>PhysActiveDays</th>\n",
       "      <th>1.0</th>\n",
       "      <th>2.0</th>\n",
       "      <th>3.0</th>\n",
       "      <th>4.0</th>\n",
       "      <th>5.0</th>\n",
       "      <th>6.0</th>\n",
       "      <th>7.0</th>\n",
       "    </tr>\n",
       "    <tr>\n",
       "      <th>AgeMonths</th>\n",
       "      <th></th>\n",
       "      <th></th>\n",
       "      <th></th>\n",
       "      <th></th>\n",
       "      <th></th>\n",
       "      <th></th>\n",
       "      <th></th>\n",
       "    </tr>\n",
       "  </thead>\n",
       "  <tbody>\n",
       "    <tr>\n",
       "      <th>0.0</th>\n",
       "      <td>0</td>\n",
       "      <td>1</td>\n",
       "      <td>2</td>\n",
       "      <td>0</td>\n",
       "      <td>0</td>\n",
       "      <td>1</td>\n",
       "      <td>1</td>\n",
       "    </tr>\n",
       "    <tr>\n",
       "      <th>1.0</th>\n",
       "      <td>0</td>\n",
       "      <td>0</td>\n",
       "      <td>2</td>\n",
       "      <td>1</td>\n",
       "      <td>1</td>\n",
       "      <td>0</td>\n",
       "      <td>0</td>\n",
       "    </tr>\n",
       "    <tr>\n",
       "      <th>2.0</th>\n",
       "      <td>1</td>\n",
       "      <td>0</td>\n",
       "      <td>0</td>\n",
       "      <td>0</td>\n",
       "      <td>0</td>\n",
       "      <td>0</td>\n",
       "      <td>1</td>\n",
       "    </tr>\n",
       "    <tr>\n",
       "      <th>3.0</th>\n",
       "      <td>0</td>\n",
       "      <td>1</td>\n",
       "      <td>1</td>\n",
       "      <td>1</td>\n",
       "      <td>0</td>\n",
       "      <td>0</td>\n",
       "      <td>1</td>\n",
       "    </tr>\n",
       "    <tr>\n",
       "      <th>4.0</th>\n",
       "      <td>0</td>\n",
       "      <td>0</td>\n",
       "      <td>0</td>\n",
       "      <td>0</td>\n",
       "      <td>1</td>\n",
       "      <td>1</td>\n",
       "      <td>0</td>\n",
       "    </tr>\n",
       "    <tr>\n",
       "      <th>...</th>\n",
       "      <td>...</td>\n",
       "      <td>...</td>\n",
       "      <td>...</td>\n",
       "      <td>...</td>\n",
       "      <td>...</td>\n",
       "      <td>...</td>\n",
       "      <td>...</td>\n",
       "    </tr>\n",
       "    <tr>\n",
       "      <th>946.0</th>\n",
       "      <td>1</td>\n",
       "      <td>0</td>\n",
       "      <td>0</td>\n",
       "      <td>0</td>\n",
       "      <td>0</td>\n",
       "      <td>1</td>\n",
       "      <td>0</td>\n",
       "    </tr>\n",
       "    <tr>\n",
       "      <th>948.0</th>\n",
       "      <td>0</td>\n",
       "      <td>0</td>\n",
       "      <td>1</td>\n",
       "      <td>1</td>\n",
       "      <td>0</td>\n",
       "      <td>0</td>\n",
       "      <td>0</td>\n",
       "    </tr>\n",
       "    <tr>\n",
       "      <th>949.0</th>\n",
       "      <td>0</td>\n",
       "      <td>0</td>\n",
       "      <td>0</td>\n",
       "      <td>1</td>\n",
       "      <td>0</td>\n",
       "      <td>0</td>\n",
       "      <td>0</td>\n",
       "    </tr>\n",
       "    <tr>\n",
       "      <th>951.0</th>\n",
       "      <td>0</td>\n",
       "      <td>0</td>\n",
       "      <td>0</td>\n",
       "      <td>0</td>\n",
       "      <td>0</td>\n",
       "      <td>1</td>\n",
       "      <td>0</td>\n",
       "    </tr>\n",
       "    <tr>\n",
       "      <th>952.0</th>\n",
       "      <td>1</td>\n",
       "      <td>0</td>\n",
       "      <td>0</td>\n",
       "      <td>0</td>\n",
       "      <td>0</td>\n",
       "      <td>0</td>\n",
       "      <td>0</td>\n",
       "    </tr>\n",
       "  </tbody>\n",
       "</table>\n",
       "<p>675 rows × 7 columns</p>\n",
       "</div>"
      ],
      "text/plain": [
       "PhysActiveDays  1.0  2.0  3.0  4.0  5.0  6.0  7.0\n",
       "AgeMonths                                        \n",
       "0.0               0    1    2    0    0    1    1\n",
       "1.0               0    0    2    1    1    0    0\n",
       "2.0               1    0    0    0    0    0    1\n",
       "3.0               0    1    1    1    0    0    1\n",
       "4.0               0    0    0    0    1    1    0\n",
       "...             ...  ...  ...  ...  ...  ...  ...\n",
       "946.0             1    0    0    0    0    1    0\n",
       "948.0             0    0    1    1    0    0    0\n",
       "949.0             0    0    0    1    0    0    0\n",
       "951.0             0    0    0    0    0    1    0\n",
       "952.0             1    0    0    0    0    0    0\n",
       "\n",
       "[675 rows x 7 columns]"
      ]
     },
     "execution_count": 5,
     "metadata": {},
     "output_type": "execute_result"
    }
   ],
   "source": [
    "freq_table=pd.crosstab(data['AgeMonths'],\n",
    "                       data['PhysActiveDays'])\n",
    "freq_table"
   ]
  },
  {
   "cell_type": "code",
   "execution_count": 77,
   "id": "bb988b37-c920-41d9-93c3-3c8dd147be0e",
   "metadata": {},
   "outputs": [
    {
     "data": {
      "text/plain": [
       "Text(0, 0.5, 'DirectChol level(mg/dL)')"
      ]
     },
     "execution_count": 77,
     "metadata": {},
     "output_type": "execute_result"
    },
    {
     "data": {
      "image/png": "[encoded data removed]",
      "text/plain": [
       "<Figure size 640x480 with 1 Axes>"
      ]
     },
     "metadata": {},
     "output_type": "display_data"
    }
   ],
   "source": [
    "import pandas as pd\n",
    "import numpy as np\n",
    "import matplotlib.pyplot as plt\n",
    "import seaborn as sns\n",
    "from statsmodels.graphics.mosaicplot import mosaic\n",
    "df=pd.read_csv(\"nhanes_reduced .csv\")\n",
    "age_directChol=df[['Age', 'DirectChol']]\n",
    "filtered_data=df[df['Age']<40]\n",
    "plt.scatter(filtered_data['Age'], filtered_data['DirectChol'], color='r')\n",
    "plt.title('Age vs.DirectChol level(Ages<40)')\n",
    "plt.xlabel('Age (years)')\n",
    "plt.ylabel('DirectChol level(mg/dL)')"
   ]
  },
  {
   "cell_type": "code",
   "execution_count": 4,
   "id": "bc60f1ec-79bf-4356-bce5-4ebfc929df25",
   "metadata": {},
   "outputs": [
    {
     "data": {
      "text/plain": [
       "Text(0, 0.5, 'DirectChol level(mg/dL)')"
      ]
     },
     "execution_count": 4,
     "metadata": {},
     "output_type": "execute_result"
    },
    {
     "data": {
      "image/png": "[encoded data removed]",
      "text/plain": [
       "<Figure size 640x480 with 1 Axes>"
      ]
     },
     "metadata": {},
     "output_type": "display_data"
    }
   ],
   "source": [
    "import pandas as pd\n",
    "import numpy as np\n",
    "import matplotlib.pyplot as plt\n",
    "import seaborn as sns\n",
    "from statsmodels.graphics.mosaicplot import mosaic\n",
    "df=pd.read_csv(\"nhanes_reduced .csv\")\n",
    "age_directChol=df[['Age', 'DirectChol']]\n",
    "filtered_data=df[df['Age']>40]\n",
    "plt.scatter(filtered_data['Age'], filtered_data['DirectChol'], color='r')\n",
    "plt.title('Age vs.DirectChol level(Ages>40)')\n",
    "plt.xlabel('Age (years)')\n",
    "plt.ylabel('DirectChol level(mg/dL)')"
   ]
  },
  {
   "cell_type": "code",
   "execution_count": 17,
   "id": "865b9211-a544-41ae-bab9-7b3e81aa86d3",
   "metadata": {},
   "outputs": [
    {
     "name": "stdout",
     "output_type": "stream",
     "text": [
      "Education\n",
      "Some College      2267\n",
      "College Grad      2098\n",
      "High School       1517\n",
      "9 - 11th Grade     888\n",
      "8th Grade          451\n",
      "Name: count, dtype: int64\n",
      "col_0           Education\n",
      "Education                \n",
      "8th Grade             451\n",
      "9 - 11th Grade        888\n",
      "College Grad         2098\n",
      "High School          1517\n",
      "Some College         2267\n"
     ]
    },
    {
     "data": {
      "text/html": [
       "<div>\n",
       "<style scoped>\n",
       "    .dataframe tbody tr th:only-of-type {\n",
       "        vertical-align: middle;\n",
       "    }\n",
       "\n",
       "    .dataframe tbody tr th {\n",
       "        vertical-align: top;\n",
       "    }\n",
       "\n",
       "    .dataframe thead th {\n",
       "        text-align: right;\n",
       "    }\n",
       "</style>\n",
       "<table border=\"1\" class=\"dataframe\">\n",
       "  <thead>\n",
       "    <tr style=\"text-align: right;\">\n",
       "      <th></th>\n",
       "      <th>Unnamed: 0</th>\n",
       "      <th>ID</th>\n",
       "      <th>SurveyYr</th>\n",
       "      <th>Gender</th>\n",
       "      <th>Age</th>\n",
       "      <th>AgeDecade</th>\n",
       "      <th>AgeMonths</th>\n",
       "      <th>Race1</th>\n",
       "      <th>Race3</th>\n",
       "      <th>Education</th>\n",
       "      <th>...</th>\n",
       "      <th>RegularMarij</th>\n",
       "      <th>AgeRegMarij</th>\n",
       "      <th>HardDrugs</th>\n",
       "      <th>SexEver</th>\n",
       "      <th>SexAge</th>\n",
       "      <th>SexNumPartnLife</th>\n",
       "      <th>SexNumPartYear</th>\n",
       "      <th>SameSex</th>\n",
       "      <th>SexOrientation</th>\n",
       "      <th>PregnantNow</th>\n",
       "    </tr>\n",
       "  </thead>\n",
       "  <tbody>\n",
       "    <tr>\n",
       "      <th>0</th>\n",
       "      <td>1</td>\n",
       "      <td>51624</td>\n",
       "      <td>2009_10</td>\n",
       "      <td>male</td>\n",
       "      <td>34</td>\n",
       "      <td>30-39</td>\n",
       "      <td>409.0</td>\n",
       "      <td>White</td>\n",
       "      <td>NaN</td>\n",
       "      <td>High School</td>\n",
       "      <td>...</td>\n",
       "      <td>No</td>\n",
       "      <td>NaN</td>\n",
       "      <td>Yes</td>\n",
       "      <td>Yes</td>\n",
       "      <td>16.0</td>\n",
       "      <td>8.0</td>\n",
       "      <td>1.0</td>\n",
       "      <td>No</td>\n",
       "      <td>Heterosexual</td>\n",
       "      <td>NaN</td>\n",
       "    </tr>\n",
       "    <tr>\n",
       "      <th>1</th>\n",
       "      <td>2</td>\n",
       "      <td>51624</td>\n",
       "      <td>2009_10</td>\n",
       "      <td>male</td>\n",
       "      <td>34</td>\n",
       "      <td>30-39</td>\n",
       "      <td>409.0</td>\n",
       "      <td>White</td>\n",
       "      <td>NaN</td>\n",
       "      <td>High School</td>\n",
       "      <td>...</td>\n",
       "      <td>No</td>\n",
       "      <td>NaN</td>\n",
       "      <td>Yes</td>\n",
       "      <td>Yes</td>\n",
       "      <td>16.0</td>\n",
       "      <td>8.0</td>\n",
       "      <td>1.0</td>\n",
       "      <td>No</td>\n",
       "      <td>Heterosexual</td>\n",
       "      <td>NaN</td>\n",
       "    </tr>\n",
       "    <tr>\n",
       "      <th>2</th>\n",
       "      <td>3</td>\n",
       "      <td>51624</td>\n",
       "      <td>2009_10</td>\n",
       "      <td>male</td>\n",
       "      <td>34</td>\n",
       "      <td>30-39</td>\n",
       "      <td>409.0</td>\n",
       "      <td>White</td>\n",
       "      <td>NaN</td>\n",
       "      <td>High School</td>\n",
       "      <td>...</td>\n",
       "      <td>No</td>\n",
       "      <td>NaN</td>\n",
       "      <td>Yes</td>\n",
       "      <td>Yes</td>\n",
       "      <td>16.0</td>\n",
       "      <td>8.0</td>\n",
       "      <td>1.0</td>\n",
       "      <td>No</td>\n",
       "      <td>Heterosexual</td>\n",
       "      <td>NaN</td>\n",
       "    </tr>\n",
       "    <tr>\n",
       "      <th>3</th>\n",
       "      <td>4</td>\n",
       "      <td>51625</td>\n",
       "      <td>2009_10</td>\n",
       "      <td>male</td>\n",
       "      <td>4</td>\n",
       "      <td>0-9</td>\n",
       "      <td>49.0</td>\n",
       "      <td>Other</td>\n",
       "      <td>NaN</td>\n",
       "      <td>NaN</td>\n",
       "      <td>...</td>\n",
       "      <td>NaN</td>\n",
       "      <td>NaN</td>\n",
       "      <td>NaN</td>\n",
       "      <td>NaN</td>\n",
       "      <td>NaN</td>\n",
       "      <td>NaN</td>\n",
       "      <td>NaN</td>\n",
       "      <td>NaN</td>\n",
       "      <td>NaN</td>\n",
       "      <td>NaN</td>\n",
       "    </tr>\n",
       "    <tr>\n",
       "      <th>4</th>\n",
       "      <td>5</td>\n",
       "      <td>51630</td>\n",
       "      <td>2009_10</td>\n",
       "      <td>female</td>\n",
       "      <td>49</td>\n",
       "      <td>40-49</td>\n",
       "      <td>596.0</td>\n",
       "      <td>White</td>\n",
       "      <td>NaN</td>\n",
       "      <td>Some College</td>\n",
       "      <td>...</td>\n",
       "      <td>No</td>\n",
       "      <td>NaN</td>\n",
       "      <td>Yes</td>\n",
       "      <td>Yes</td>\n",
       "      <td>12.0</td>\n",
       "      <td>10.0</td>\n",
       "      <td>1.0</td>\n",
       "      <td>Yes</td>\n",
       "      <td>Heterosexual</td>\n",
       "      <td>NaN</td>\n",
       "    </tr>\n",
       "  </tbody>\n",
       "</table>\n",
       "<p>5 rows × 77 columns</p>\n",
       "</div>"
      ],
      "text/plain": [
       "   Unnamed: 0     ID SurveyYr  Gender  Age AgeDecade  AgeMonths  Race1 Race3  \\\n",
       "0           1  51624  2009_10    male   34     30-39      409.0  White   NaN   \n",
       "1           2  51624  2009_10    male   34     30-39      409.0  White   NaN   \n",
       "2           3  51624  2009_10    male   34     30-39      409.0  White   NaN   \n",
       "3           4  51625  2009_10    male    4       0-9       49.0  Other   NaN   \n",
       "4           5  51630  2009_10  female   49     40-49      596.0  White   NaN   \n",
       "\n",
       "      Education  ... RegularMarij AgeRegMarij  HardDrugs  SexEver  SexAge  \\\n",
       "0   High School  ...           No         NaN        Yes      Yes    16.0   \n",
       "1   High School  ...           No         NaN        Yes      Yes    16.0   \n",
       "2   High School  ...           No         NaN        Yes      Yes    16.0   \n",
       "3           NaN  ...          NaN         NaN        NaN      NaN     NaN   \n",
       "4  Some College  ...           No         NaN        Yes      Yes    12.0   \n",
       "\n",
       "  SexNumPartnLife SexNumPartYear  SameSex  SexOrientation  PregnantNow  \n",
       "0             8.0            1.0       No    Heterosexual          NaN  \n",
       "1             8.0            1.0       No    Heterosexual          NaN  \n",
       "2             8.0            1.0       No    Heterosexual          NaN  \n",
       "3             NaN            NaN      NaN             NaN          NaN  \n",
       "4            10.0            1.0      Yes    Heterosexual          NaN  \n",
       "\n",
       "[5 rows x 77 columns]"
      ]
     },
     "execution_count": 17,
     "metadata": {},
     "output_type": "execute_result"
    }
   ],
   "source": [
    "import pandas as pd\n",
    "import numpy as np\n",
    "import matplotlib.pyplot as plt\n",
    "import seaborn as sns\n",
    "from statsmodels.graphics.mosaicplot import mosaic\n",
    "data=pd.read_csv(\"NHANES.csv\")\n",
    "nhanes=data['Education'].value_counts()\n",
    "print(nhanes)\n",
    "freq_table=pd.crosstab(data['Education'],\n",
    "'Education')\n",
    "print(freq_table)\n",
    "data.head()"
   ]
  },
  {
   "cell_type": "code",
   "execution_count": 17,
   "id": "1b26da71-04fc-452f-b3cc-0daff9c7ac4a",
   "metadata": {},
   "outputs": [
    {
     "name": "stderr",
     "output_type": "stream",
     "text": [
      "C:\\ProgramData\\anaconda3\\Lib\\site-packages\\seaborn\\_oldcore.py:1119: FutureWarning: use_inf_as_na option is deprecated and will be removed in a future version. Convert inf values to NaN before operating instead.\n",
      "  with pd.option_context('mode.use_inf_as_na', True):\n",
      "C:\\ProgramData\\anaconda3\\Lib\\site-packages\\seaborn\\_oldcore.py:1075: FutureWarning: When grouping with a length-1 list-like, you will need to pass a length-1 tuple to get_group in a future version of pandas. Pass `(name,)` instead of `name` to silence this warning.\n",
      "  data_subset = grouped_data.get_group(pd_key)\n",
      "C:\\ProgramData\\anaconda3\\Lib\\site-packages\\seaborn\\_oldcore.py:1075: FutureWarning: When grouping with a length-1 list-like, you will need to pass a length-1 tuple to get_group in a future version of pandas. Pass `(name,)` instead of `name` to silence this warning.\n",
      "  data_subset = grouped_data.get_group(pd_key)\n",
      "C:\\ProgramData\\anaconda3\\Lib\\site-packages\\seaborn\\_oldcore.py:1075: FutureWarning: When grouping with a length-1 list-like, you will need to pass a length-1 tuple to get_group in a future version of pandas. Pass `(name,)` instead of `name` to silence this warning.\n",
      "  data_subset = grouped_data.get_group(pd_key)\n",
      "C:\\ProgramData\\anaconda3\\Lib\\site-packages\\seaborn\\_oldcore.py:1075: FutureWarning: When grouping with a length-1 list-like, you will need to pass a length-1 tuple to get_group in a future version of pandas. Pass `(name,)` instead of `name` to silence this warning.\n",
      "  data_subset = grouped_data.get_group(pd_key)\n"
     ]
    },
    {
     "data": {
      "image/png": "[encoded data removed]",
      "text/plain": [
       "<Figure size 1200x800 with 1 Axes>"
      ]
     },
     "metadata": {},
     "output_type": "display_data"
    }
   ],
   "source": [
    "plt.figure(figsize=(12,8))\n",
    "sns.kdeplot(data=data,x='BMI', hue='Work',\n",
    "            multiple='stack')\n",
    "plt.title('KDE plot of BMI by Work type')\n",
    "plt.xlabel('BMI')\n",
    "plt.ylabel('Density')\n",
    "plt.show()"
   ]
  },
  {
   "cell_type": "code",
   "execution_count": 50,
   "id": "058d447d-eff6-4030-b414-061b7d3331f3",
   "metadata": {},
   "outputs": [
    {
     "data": {
      "text/plain": [
       "<BarContainer object of 4 artists>"
      ]
     },
     "execution_count": 50,
     "metadata": {},
     "output_type": "execute_result"
    },
    {
     "data": {
      "image/png": "[encoded data removed]",
      "text/plain": [
       "<Figure size 640x480 with 1 Axes>"
      ]
     },
     "metadata": {},
     "output_type": "display_data"
    }
   ],
   "source": [
    "import matplotlib.pyplot as plt\n",
    "x=['A','B', 'C' ,'D']\n",
    "y1=[10,20,10,30]\n",
    "y2=[20,25,15,25]\n",
    "plt.bar(x,y1,color='green')\n",
    "plt.bar(x,y2,bottom=y1,color='black')"
   ]
  },
  {
   "cell_type": "code",
   "execution_count": 39,
   "id": "8fcc8223-651d-4b42-8756-e26b3674272f",
   "metadata": {},
   "outputs": [
    {
     "data": {
      "text/plain": [
       "([<matplotlib.patches.Wedge at 0x2d2dd0fbe50>,\n",
       "  <matplotlib.patches.Wedge at 0x2d2dd105590>,\n",
       "  <matplotlib.patches.Wedge at 0x2d2dd107390>,\n",
       "  <matplotlib.patches.Wedge at 0x2d2dd106a50>],\n",
       " [Text(1.0554422683381766, 0.30990582150899426, 'Cholera'),\n",
       "  Text(-0.4569565739181998, 1.0005951676641962, 'Malaria'),\n",
       "  Text(-0.456956386553231, -1.0005952532309026, 'TB'),\n",
       "  Text(0.9253789873511787, -0.5947047416734687, 'HIV')],\n",
       " [Text(0.5756957827299144, 0.16903953900490593, '9.1%'),\n",
       "  Text(-0.24924904031901807, 0.5457791823622888, '45.5%'),\n",
       "  Text(-0.24924893811994417, -0.5457792290350377, '27.3%'),\n",
       "  Text(0.5047521749188247, -0.3243844045491647, '18.2%')])"
      ]
     },
     "execution_count": 39,
     "metadata": {},
     "output_type": "execute_result"
    },
    {
     "data": {
      "image/png": "[encoded data removed]",
      "text/plain": [
       "<Figure size 640x480 with 1 Axes>"
      ]
     },
     "metadata": {},
     "output_type": "display_data"
    }
   ],
   "source": [
    "import matplotlib.pyplot as plt\n",
    "x=[10,50,30,20,]\n",
    "diseases=['Cholera','Malaria', 'TB','HIV']\n",
    "plt.pie(x,labels=diseases,autopct='%.1f%%')"
   ]
  },
  {
   "cell_type": "code",
   "execution_count": 57,
   "id": "ac93acf3-3980-4d66-8794-5d711ac1c318",
   "metadata": {},
   "outputs": [
    {
     "data": {
      "image/png": "[encoded data removed]",
      "text/plain": [
       "<Figure size 500x800 with 1 Axes>"
      ]
     },
     "metadata": {},
     "output_type": "display_data"
    }
   ],
   "source": [
    "import numpy as np\n",
    "import matplotlib.pyplot as plt\n",
    "data={'C':20, 'C++':15, 'Java':30, 'Python':35}\n",
    "courses=list(data.keys())\n",
    "values = list(data.values())\n",
    "fig =plt.figure(figsize = (5,8))\n",
    "plt.bar(courses,values,color='black', width=0.4)\n",
    "plt.xlabel(\"courses offered\")\n",
    "plt.ylabel(\"No. of student enrolled\")\n",
    "plt.title('Student enrolled in different courses')\n",
    "plt.show()\n"
   ]
  },
  {
   "cell_type": "code",
   "execution_count": 59,
   "id": "480f80af-0cd5-4069-be8d-a1a0cdf6267e",
   "metadata": {},
   "outputs": [
    {
     "data": {
      "text/plain": [
       "<BarContainer object of 4 artists>"
      ]
     },
     "execution_count": 59,
     "metadata": {},
     "output_type": "execute_result"
    },
    {
     "data": {
      "image/png": "[encoded data removed]",
      "text/plain": [
       "<Figure size 640x480 with 1 Axes>"
      ]
     },
     "metadata": {},
     "output_type": "display_data"
    }
   ],
   "source": [
    "plt.barh(courses,values,color='red')"
   ]
  },
  {
   "cell_type": "code",
   "execution_count": 24,
   "id": "cdffbf9a-e4b2-4318-b7da-eba8af2e4c48",
   "metadata": {},
   "outputs": [
    {
     "name": "stdout",
     "output_type": "stream",
     "text": [
      "0.75\n"
     ]
    }
   ],
   "source": [
    "S=[(\"girl\",\"girl\"),(\"boy\",\"boy\"),\n",
    "   (\"girl\",\"boy\"),(\"boy\",\"girl\")]\n",
    "E=[(\"boy\",\"boy\"),(\"boy\",\"girl\"),\n",
    "   (\"girl\",\"boy\")]\n",
    "pr=len(E)  /len(S)\n",
    "print(pr)"
   ]
  },
  {
   "cell_type": "code",
   "execution_count": 35,
   "id": "4b9f34a2-2b38-4353-a7a0-c59d33fa89e4",
   "metadata": {},
   "outputs": [
    {
     "name": "stdout",
     "output_type": "stream",
     "text": [
      "0.7058823529411765\n",
      "0.71\n"
     ]
    }
   ],
   "source": [
    "import pandas as pd\n",
    "tab=pd.DataFrame({'Fracture yes':\n",
    "                  [27,15,9],'Fracture_no':[63,35,21]})\n",
    "prA= (tab.iloc[2,0] + tab.iloc[2,1]) / tab.values.sum()\n",
    "prB= (tab.iloc[0,0] + tab.iloc[0,1]) / tab.values.sum()\n",
    "print(prA + prB)\n",
    "print(round(prA + prB,2))"
   ]
  },
  {
   "cell_type": "code",
   "execution_count": 39,
   "id": "256cf6ab-c4ad-4a05-8e8b-dfeae3c40d9f",
   "metadata": {},
   "outputs": [
    {
     "name": "stdout",
     "output_type": "stream",
     "text": [
      "0.13359861591695502\n"
     ]
    }
   ],
   "source": [
    "prA= (tab.iloc[2,0] + tab.iloc[2,1]+ tab.iloc[2,0]) / tab.values.sum()\n",
    "prF= (tab.iloc[0,0] + tab.iloc[0,1]+ tab.iloc[2,0]) / tab.values.sum()\n",
    "print(prA * prF)"
   ]
  },
  {
   "cell_type": "code",
   "execution_count": 46,
   "id": "a159d8e8-c602-4a28-9d45-e4d91ec46a15",
   "metadata": {},
   "outputs": [
    {
     "name": "stdout",
     "output_type": "stream",
     "text": [
      "1.0\n"
     ]
    }
   ],
   "source": [
    "tabs =pd.DataFrame({'MI_yes': [75,20], 'MI_no': [95,210]})\n",
    "prA =(tabs.iloc[0,0] + tabs.iloc[0,1])/ tab.values.sum()\n",
    "print(round(prA,2))"
   ]
  },
  {
   "cell_type": "code",
   "execution_count": 47,
   "id": "c5fc38af-91dd-4bb8-959c-9821977824fb",
   "metadata": {},
   "outputs": [
    {
     "name": "stdout",
     "output_type": "stream",
     "text": [
      "0.76\n"
     ]
    }
   ],
   "source": [
    "prB=(tabs.iloc[0,0] + tabs.iloc[1,0]) / tabs.values.sum()\n",
    "complementB=1-prB\n",
    "print(round(complementB,2))"
   ]
  },
  {
   "cell_type": "code",
   "execution_count": 52,
   "id": "0b04fa3e-0cdb-412b-b413-439e23bed5bd",
   "metadata": {},
   "outputs": [
    {
     "name": "stdout",
     "output_type": "stream",
     "text": [
      "0.42\n"
     ]
    }
   ],
   "source": [
    "prA=(tabs.iloc[0,0] + tabs.iloc[0,1]) / tabs.values.sum()\n",
    "prB=(tabs.iloc[0,0] + tabs.iloc[1,0]) / tabs.values.sum()\n",
    "prAB= tabs.iloc[0,0] / tabs.values.sum()\n",
    "result=prA + prB -prB\n",
    "print(round(result,2))"
   ]
  },
  {
   "cell_type": "code",
   "execution_count": 16,
   "id": "37817c6a-d605-4d4c-9293-ba6b94e68afb",
   "metadata": {},
   "outputs": [
    {
     "data": {
      "text/plain": [
       "<Figure size 1500x700 with 0 Axes>"
      ]
     },
     "metadata": {},
     "output_type": "display_data"
    },
    {
     "data": {
      "image/png": "[encoded data removed]",
      "text/plain": [
       "<Figure size 640x480 with 3 Axes>"
      ]
     },
     "metadata": {},
     "output_type": "display_data"
    }
   ],
   "source": [
    "import pandas as pd\n",
    "import matplotlib.pyplot as plt\n",
    "from statsmodels.graphics.mosaicplot import mosaic\n",
    "df=pd.read_csv(\"nhanes_reduced .csv\")\n",
    "df['Age']=pd.cut(df['Age'],bins=[0,18,35,50,65,100],labels=['0-18','19-35','36-50','51-65','66+'])\n",
    "df['BMI']=pd.cut(df['BMI'],bins=[0,18.5,24.9,29.9,40],labels=['underweight','Normal', 'Overweight','Obese'])\n",
    "df['Gender']=df['Gender'].astype('category')\n",
    "plt.figure(figsize=(15,7))\n",
    "mosaic(df,['Gender','Age','BMI'], title='Mosaic plot of Gender,Age,and BMI')\n",
    "plt.show()"
   ]
  },
  {
   "cell_type": "code",
   "execution_count": 20,
   "id": "bd96164b-5607-4a0a-b7f3-031fa9465354",
   "metadata": {},
   "outputs": [
    {
     "data": {
      "image/png": "[encoded data removed]",
      "text/plain": [
       "<Figure size 1200x1600 with 12 Axes>"
      ]
     },
     "metadata": {},
     "output_type": "display_data"
    }
   ],
   "source": [
    "import pandas as pd\n",
    "import matplotlib.pyplot as plt\n",
    "import seaborn as sns\n",
    "sns.set_style(\"whitegrid\")\n",
    "df=pd.read_csv(\"nhanes_reduced .csv\")\n",
    "df.head()\n",
    "g = sns.catplot(\n",
    "    data=df,\n",
    "    x=\"Education\",\n",
    "    col=\"HHIncome\",\n",
    "    kind=\"count\",\n",
    "    height=4,\n",
    "    aspect=1,\n",
    "    col_wrap=3\n",
    ")\n",
    "g.set_axis_labels(\"Physical Activity\",\"count\")\n",
    "g.set_titles(\"Income Level:{col_name}\")\n",
    "g.tight_layout()\n",
    "plt.show()"
   ]
  },
  {
   "cell_type": "code",
   "execution_count": 27,
   "id": "b564be9c-9f4d-4198-915b-2d13fc9feef4",
   "metadata": {},
   "outputs": [
    {
     "name": "stderr",
     "output_type": "stream",
     "text": [
      "C:\\ProgramData\\anaconda3\\Lib\\site-packages\\seaborn\\_oldcore.py:1119: FutureWarning: use_inf_as_na option is deprecated and will be removed in a future version. Convert inf values to NaN before operating instead.\n",
      "  with pd.option_context('mode.use_inf_as_na', True):\n",
      "C:\\ProgramData\\anaconda3\\Lib\\site-packages\\seaborn\\_oldcore.py:1119: FutureWarning: use_inf_as_na option is deprecated and will be removed in a future version. Convert inf values to NaN before operating instead.\n",
      "  with pd.option_context('mode.use_inf_as_na', True):\n",
      "C:\\ProgramData\\anaconda3\\Lib\\site-packages\\seaborn\\_oldcore.py:1119: FutureWarning: use_inf_as_na option is deprecated and will be removed in a future version. Convert inf values to NaN before operating instead.\n",
      "  with pd.option_context('mode.use_inf_as_na', True):\n"
     ]
    },
    {
     "data": {
      "image/png": "[encoded data removed]",
      "text/plain": [
       "<Figure size 1000x1500 with 3 Axes>"
      ]
     },
     "metadata": {},
     "output_type": "display_data"
    }
   ],
   "source": [
    "import pandas as pd\n",
    "import matplotlib.pyplot as plt\n",
    "import seaborn as sns\n",
    "df=pd.read_csv(\"nhanes_reduced .csv\")\n",
    "df['Work']=df['Work'].astype('category')\n",
    "work_categories=df['Work'].cat.categories\n",
    "fig,axes=plt.subplots(nrows=len(work_categories),ncols=1,figsize=(10,15), sharex=True)\n",
    "for ax, category in zip(axes, work_categories):   \n",
    "     sns.histplot(df[df['Work']==category]['BMI'],bins=20,ax=ax)\n",
    "     ax.set_title(f'Distribution of BMI for{category}')\n",
    "plt.tight_layout()\n",
    "plt.show()"
   ]
  },
  {
   "cell_type": "code",
   "execution_count": 32,
   "id": "be4d6024-169f-43b8-b446-76774df5fc9c",
   "metadata": {},
   "outputs": [
    {
     "name": "stderr",
     "output_type": "stream",
     "text": [
      "C:\\Users\\ADMIN\\AppData\\Local\\Temp\\ipykernel_9560\\547725336.py:5: FutureWarning: \n",
      "\n",
      "`shade` is now deprecated in favor of `fill`; setting `fill=True`.\n",
      "This will become an error in seaborn v0.14.0; please update your code.\n",
      "\n",
      "  sns.kdeplot(df['Age'], color='blue',label='Age',shade=True)\n",
      "C:\\ProgramData\\anaconda3\\Lib\\site-packages\\seaborn\\_oldcore.py:1119: FutureWarning: use_inf_as_na option is deprecated and will be removed in a future version. Convert inf values to NaN before operating instead.\n",
      "  with pd.option_context('mode.use_inf_as_na', True):\n",
      "C:\\Users\\ADMIN\\AppData\\Local\\Temp\\ipykernel_9560\\547725336.py:6: FutureWarning: \n",
      "\n",
      "`shade` is now deprecated in favor of `fill`; setting `fill=True`.\n",
      "This will become an error in seaborn v0.14.0; please update your code.\n",
      "\n",
      "  sns.kdeplot(df['Weight'], color='red',label='Weight',shade=True)\n",
      "C:\\ProgramData\\anaconda3\\Lib\\site-packages\\seaborn\\_oldcore.py:1119: FutureWarning: use_inf_as_na option is deprecated and will be removed in a future version. Convert inf values to NaN before operating instead.\n",
      "  with pd.option_context('mode.use_inf_as_na', True):\n"
     ]
    },
    {
     "data": {
      "image/png": "[encoded data removed]",
      "text/plain": [
       "<Figure size 640x480 with 1 Axes>"
      ]
     },
     "metadata": {},
     "output_type": "display_data"
    }
   ],
   "source": [
    "import pandas as pd\n",
    "import matplotlib.pyplot as plt\n",
    "import seaborn as sns\n",
    "df=pd.read_csv(\"nhanes_reduced .csv\")\n",
    "sns.kdeplot(df['Age'], color='blue',label='Age',shade=True)\n",
    "sns.kdeplot(df['Weight'], color='red',label='Weight',shade=True)\n",
    "plt.xlabel('Value')\n",
    "plt.ylabel('Density')\n",
    "plt.title('Density Plot for Age and Weight')\n",
    "plt.legend()\n",
    "plt.show()\n"
   ]
  },
  {
   "cell_type": "code",
   "execution_count": 38,
   "id": "3ca19583-d430-49ee-9a9a-a1aed85c9d22",
   "metadata": {},
   "outputs": [
    {
     "ename": "ValueError",
     "evalue": "Could not interpret input 'HHIncome'",
     "output_type": "error",
     "traceback": [
      "\u001b[1;31m---------------------------------------------------------------------------\u001b[0m",
      "\u001b[1;31mValueError\u001b[0m                                Traceback (most recent call last)",
      "Cell \u001b[1;32mIn[38], line 1\u001b[0m\n\u001b[1;32m----> 1\u001b[0m sns\u001b[38;5;241m.\u001b[39mboxplot(x\u001b[38;5;241m=\u001b[39m\u001b[38;5;124m'\u001b[39m\u001b[38;5;124mHHIncome\u001b[39m\u001b[38;5;124m'\u001b[39m, y\u001b[38;5;241m=\u001b[39m\u001b[38;5;124m'\u001b[39m\u001b[38;5;124mBMI\u001b[39m\u001b[38;5;124m'\u001b[39m, df\u001b[38;5;241m=\u001b[39mdf)\n\u001b[0;32m      2\u001b[0m plt\u001b[38;5;241m.\u001b[39mtitle(\u001b[38;5;124m'\u001b[39m\u001b[38;5;124mBoxplots of HHIncome by BMI\u001b[39m\u001b[38;5;124m'\u001b[39m)\n\u001b[0;32m      3\u001b[0m plt\u001b[38;5;241m.\u001b[39mxticks(rotation\u001b[38;5;241m=\u001b[39m\u001b[38;5;241m45\u001b[39m)\n",
      "File \u001b[1;32mC:\\ProgramData\\anaconda3\\Lib\\site-packages\\seaborn\\categorical.py:2231\u001b[0m, in \u001b[0;36mboxplot\u001b[1;34m(data, x, y, hue, order, hue_order, orient, color, palette, saturation, width, dodge, fliersize, linewidth, whis, ax, **kwargs)\u001b[0m\n\u001b[0;32m   2224\u001b[0m \u001b[38;5;28;01mdef\u001b[39;00m \u001b[38;5;21mboxplot\u001b[39m(\n\u001b[0;32m   2225\u001b[0m     data\u001b[38;5;241m=\u001b[39m\u001b[38;5;28;01mNone\u001b[39;00m, \u001b[38;5;241m*\u001b[39m, x\u001b[38;5;241m=\u001b[39m\u001b[38;5;28;01mNone\u001b[39;00m, y\u001b[38;5;241m=\u001b[39m\u001b[38;5;28;01mNone\u001b[39;00m, hue\u001b[38;5;241m=\u001b[39m\u001b[38;5;28;01mNone\u001b[39;00m, order\u001b[38;5;241m=\u001b[39m\u001b[38;5;28;01mNone\u001b[39;00m, hue_order\u001b[38;5;241m=\u001b[39m\u001b[38;5;28;01mNone\u001b[39;00m,\n\u001b[0;32m   2226\u001b[0m     orient\u001b[38;5;241m=\u001b[39m\u001b[38;5;28;01mNone\u001b[39;00m, color\u001b[38;5;241m=\u001b[39m\u001b[38;5;28;01mNone\u001b[39;00m, palette\u001b[38;5;241m=\u001b[39m\u001b[38;5;28;01mNone\u001b[39;00m, saturation\u001b[38;5;241m=\u001b[39m\u001b[38;5;241m.75\u001b[39m, width\u001b[38;5;241m=\u001b[39m\u001b[38;5;241m.8\u001b[39m,\n\u001b[0;32m   2227\u001b[0m     dodge\u001b[38;5;241m=\u001b[39m\u001b[38;5;28;01mTrue\u001b[39;00m, fliersize\u001b[38;5;241m=\u001b[39m\u001b[38;5;241m5\u001b[39m, linewidth\u001b[38;5;241m=\u001b[39m\u001b[38;5;28;01mNone\u001b[39;00m, whis\u001b[38;5;241m=\u001b[39m\u001b[38;5;241m1.5\u001b[39m, ax\u001b[38;5;241m=\u001b[39m\u001b[38;5;28;01mNone\u001b[39;00m,\n\u001b[0;32m   2228\u001b[0m     \u001b[38;5;241m*\u001b[39m\u001b[38;5;241m*\u001b[39mkwargs\n\u001b[0;32m   2229\u001b[0m ):\n\u001b[1;32m-> 2231\u001b[0m     plotter \u001b[38;5;241m=\u001b[39m _BoxPlotter(x, y, hue, data, order, hue_order,\n\u001b[0;32m   2232\u001b[0m                           orient, color, palette, saturation,\n\u001b[0;32m   2233\u001b[0m                           width, dodge, fliersize, linewidth)\n\u001b[0;32m   2235\u001b[0m     \u001b[38;5;28;01mif\u001b[39;00m ax \u001b[38;5;129;01mis\u001b[39;00m \u001b[38;5;28;01mNone\u001b[39;00m:\n\u001b[0;32m   2236\u001b[0m         ax \u001b[38;5;241m=\u001b[39m plt\u001b[38;5;241m.\u001b[39mgca()\n",
      "File \u001b[1;32mC:\\ProgramData\\anaconda3\\Lib\\site-packages\\seaborn\\categorical.py:785\u001b[0m, in \u001b[0;36m_BoxPlotter.__init__\u001b[1;34m(self, x, y, hue, data, order, hue_order, orient, color, palette, saturation, width, dodge, fliersize, linewidth)\u001b[0m\n\u001b[0;32m    781\u001b[0m \u001b[38;5;28;01mdef\u001b[39;00m \u001b[38;5;21m__init__\u001b[39m(\u001b[38;5;28mself\u001b[39m, x, y, hue, data, order, hue_order,\n\u001b[0;32m    782\u001b[0m              orient, color, palette, saturation,\n\u001b[0;32m    783\u001b[0m              width, dodge, fliersize, linewidth):\n\u001b[1;32m--> 785\u001b[0m     \u001b[38;5;28mself\u001b[39m\u001b[38;5;241m.\u001b[39mestablish_variables(x, y, hue, data, orient, order, hue_order)\n\u001b[0;32m    786\u001b[0m     \u001b[38;5;28mself\u001b[39m\u001b[38;5;241m.\u001b[39mestablish_colors(color, palette, saturation)\n\u001b[0;32m    788\u001b[0m     \u001b[38;5;28mself\u001b[39m\u001b[38;5;241m.\u001b[39mdodge \u001b[38;5;241m=\u001b[39m dodge\n",
      "File \u001b[1;32mC:\\ProgramData\\anaconda3\\Lib\\site-packages\\seaborn\\categorical.py:541\u001b[0m, in \u001b[0;36m_CategoricalPlotter.establish_variables\u001b[1;34m(self, x, y, hue, data, orient, order, hue_order, units)\u001b[0m\n\u001b[0;32m    539\u001b[0m     \u001b[38;5;28;01mif\u001b[39;00m \u001b[38;5;28misinstance\u001b[39m(var, \u001b[38;5;28mstr\u001b[39m):\n\u001b[0;32m    540\u001b[0m         err \u001b[38;5;241m=\u001b[39m \u001b[38;5;124mf\u001b[39m\u001b[38;5;124m\"\u001b[39m\u001b[38;5;124mCould not interpret input \u001b[39m\u001b[38;5;124m'\u001b[39m\u001b[38;5;132;01m{\u001b[39;00mvar\u001b[38;5;132;01m}\u001b[39;00m\u001b[38;5;124m'\u001b[39m\u001b[38;5;124m\"\u001b[39m\n\u001b[1;32m--> 541\u001b[0m         \u001b[38;5;28;01mraise\u001b[39;00m \u001b[38;5;167;01mValueError\u001b[39;00m(err)\n\u001b[0;32m    543\u001b[0m \u001b[38;5;66;03m# Figure out the plotting orientation\u001b[39;00m\n\u001b[0;32m    544\u001b[0m orient \u001b[38;5;241m=\u001b[39m infer_orient(\n\u001b[0;32m    545\u001b[0m     x, y, orient, require_numeric\u001b[38;5;241m=\u001b[39m\u001b[38;5;28mself\u001b[39m\u001b[38;5;241m.\u001b[39mrequire_numeric\n\u001b[0;32m    546\u001b[0m )\n",
      "\u001b[1;31mValueError\u001b[0m: Could not interpret input 'HHIncome'"
     ]
    }
   ],
   "source": [
    "sns.boxplot(x='HHIncome', y='BMI', df=df)\n",
    "plt.title('Boxplots of HHIncome by BMI')\n",
    "plt.xticks(rotation=45)\n",
    "plt.show()"
   ]
  },
  {
   "cell_type": "code",
   "execution_count": 37,
   "id": "6767ab52-ff41-4a47-9907-d20239a7708f",
   "metadata": {},
   "outputs": [
    {
     "name": "stdout",
     "output_type": "stream",
     "text": [
      "The odds of a teenager being a smoker:0.0454\n",
      "The odds of a mortality in the group:0.5625\n"
     ]
    }
   ],
   "source": [
    "total_teenagers=1450\n",
    "teenage_smokers=63\n",
    "probability_smoker =teenage_smokers / total_teenagers\n",
    "odds_smoker=probability_smoker / (1-probability_smoker)\n",
    "print(f\"The odds of a teenager being a smoker:{odds_smoker:.4f}\")\n",
    "probability_mortality =0.36\n",
    "odds_mortality=probability_mortality / (1-probability_mortality)\n",
    "print(f\"The odds of a mortality in the group:{odds_mortality:.4f}\")"
   ]
  },
  {
   "cell_type": "code",
   "execution_count": 28,
   "id": "cfd108b1-a668-4f21-9e95-ba6a118c3f65",
   "metadata": {},
   "outputs": [
    {
     "name": "stdout",
     "output_type": "stream",
     "text": [
      "86.9\n"
     ]
    }
   ],
   "source": [
    "mam=pd.DataFrame({'Disease yes':[398,60], 'Diseas no':[2749,3199]})\n",
    "sen =mam.iloc[0,0] / (mam.iloc[0,0] + mam.iloc[1,0])\n",
    "print(round(sen * 100,2))"
   ]
  },
  {
   "cell_type": "code",
   "execution_count": 29,
   "id": "30e804ac-b7f7-458d-9f54-8bf77fda5d15",
   "metadata": {},
   "outputs": [
    {
     "name": "stdout",
     "output_type": "stream",
     "text": [
      "86.9\n"
     ]
    }
   ],
   "source": [
    "mam=pd.DataFrame({'Disease yes':[398,60], 'Diseas no':[2749,31799]})\n",
    "sen =mam.iloc[0,0] / (mam.iloc[0,0] + mam.iloc[1,0])\n",
    "print(round(sen * 100,2))"
   ]
  },
  {
   "cell_type": "code",
   "execution_count": 45,
   "id": "1c14f535-c3bd-4345-b604-e8d449d6bc2e",
   "metadata": {},
   "outputs": [
    {
     "data": {
      "text/plain": [
       "0.10737418240000003"
      ]
     },
     "execution_count": 45,
     "metadata": {},
     "output_type": "execute_result"
    }
   ],
   "source": [
    "from scipy import stats\n",
    "stats.binom.pmf(0,10,0.2)"
   ]
  },
  {
   "cell_type": "code",
   "execution_count": 41,
   "id": "2eaa6461-30bf-452f-8935-7e89e8bec45a",
   "metadata": {},
   "outputs": [
    {
     "data": {
      "text/plain": [
       "array([1.07374182e-01, 2.01326592e-01, 1.02400000e-07])"
      ]
     },
     "execution_count": 41,
     "metadata": {},
     "output_type": "execute_result"
    }
   ],
   "source": [
    "stats.binom.pmf([0,3,10],10,0.2)"
   ]
  },
  {
   "cell_type": "code",
   "execution_count": 46,
   "id": "94402190-349f-42a4-abd8-3f88948aeb3e",
   "metadata": {},
   "outputs": [
    {
     "data": {
      "text/plain": [
       "0.20132659199999992"
      ]
     },
     "execution_count": 46,
     "metadata": {},
     "output_type": "execute_result"
    }
   ],
   "source": [
    "stats.binom.pmf(3,10,0.2)"
   ]
  },
  {
   "cell_type": "code",
   "execution_count": 47,
   "id": "8c9f9e75-505c-41c6-a5da-1a3448d8b60d",
   "metadata": {},
   "outputs": [
    {
     "data": {
      "text/plain": [
       "1.0240000000000006e-07"
      ]
     },
     "execution_count": 47,
     "metadata": {},
     "output_type": "execute_result"
    }
   ],
   "source": [
    "stats.binom.pmf(10,10,0.2)"
   ]
  },
  {
   "cell_type": "code",
   "execution_count": 48,
   "id": "6dd6ecf9-1f15-4f84-80be-c9e0a4da5de9",
   "metadata": {},
   "outputs": [
    {
     "data": {
      "text/plain": [
       "array([1.43489070e-08, 5.02211745e-07, 8.20279184e-06, 8.29393397e-05,\n",
       "       5.80575378e-04, 2.98028694e-03, 1.15900048e-02, 3.47700143e-02,\n",
       "       8.11300333e-02, 1.47235986e-01, 2.06130381e-01, 2.18623131e-01,\n",
       "       1.70040213e-01, 9.15601148e-02, 3.05200383e-02, 4.74756151e-03])"
      ]
     },
     "execution_count": 48,
     "metadata": {},
     "output_type": "execute_result"
    }
   ],
   "source": [
    "stats.binom.pmf([0,1,2,3,4,5,6,7,8,9,10,11,12,13,14,15],15,0.7)"
   ]
  },
  {
   "cell_type": "code",
   "execution_count": 49,
   "id": "98018146-9486-45c3-9d31-1160bd584596",
   "metadata": {},
   "outputs": [
    {
     "name": "stdout",
     "output_type": "stream",
     "text": [
      "     E    pro(E)\n",
      "0    0  0.000006\n",
      "1    1  0.000138\n",
      "2    2  0.001447\n",
      "3    3  0.009002\n",
      "4    4  0.036757\n",
      "5    5  0.102919\n",
      "6    6  0.200121\n",
      "7    7  0.266828\n",
      "8    8  0.233474\n",
      "9    9  0.121061\n",
      "10  10  0.028248\n"
     ]
    }
   ],
   "source": [
    "import numpy as np\n",
    "import pandas as pd\n",
    "from scipy.stats import binom\n",
    "cx=np.arange(0,11)\n",
    "dx=binom.pmf(cx,10,0.7)\n",
    "pr_dist =pd.DataFrame({'E':cx,'pro(E)':dx})\n",
    "print(pr_dist)"
   ]
  },
  {
   "cell_type": "code",
   "execution_count": 50,
   "id": "29a00425-d0f7-4492-9b76-3bbc3a3a699d",
   "metadata": {},
   "outputs": [
    {
     "name": "stdout",
     "output_type": "stream",
     "text": [
      "The probability of at most 5 out of 12 adults being HIV positive is 0.9696\n"
     ]
    }
   ],
   "source": [
    "from scipy.stats import binom\n",
    "n = 12  \n",
    "p = 0.22 \n",
    "cumulative_probability = binom.cdf(5, n, p)\n",
    "print(f\"The probability of at most 5 out of {n} adults being HIV positive is {cumulative_probability:.4f}\")\n"
   ]
  },
  {
   "cell_type": "code",
   "execution_count": 51,
   "id": "9a372397-ffe6-4921-a105-ec55efd99026",
   "metadata": {},
   "outputs": [
    {
     "name": "stdout",
     "output_type": "stream",
     "text": [
      "The probability of exactly 4 out of 12 adults being HIV positive is 0.1589\n"
     ]
    }
   ],
   "source": [
    "from scipy.stats import binom\n",
    "n = 12  \n",
    "k = 4   \n",
    "p = 0.22 \n",
    "probability = binom.pmf(k, n, p)\n",
    "print(f\"The probability of exactly {k} out of {n} adults being HIV positive is {probability:.4f}\")\n"
   ]
  },
  {
   "cell_type": "code",
   "execution_count": 54,
   "id": "8e078c29-22a0-4ec5-91e1-12ad91659371",
   "metadata": {},
   "outputs": [
    {
     "data": {
      "text/plain": [
       "0.1588739684492806"
      ]
     },
     "execution_count": 54,
     "metadata": {},
     "output_type": "execute_result"
    }
   ],
   "source": [
    "stats.binom.pmf(4,12,0.22)"
   ]
  },
  {
   "cell_type": "code",
   "execution_count": 61,
   "id": "f5738a99-4880-44e7-ad0d-865617c448a6",
   "metadata": {},
   "outputs": [
    {
     "name": "stdout",
     "output_type": "stream",
     "text": [
      "0.1588739684492806\n"
     ]
    }
   ],
   "source": [
    "from scipy.stats import binom\n",
    "probability=binom.pmf(4,12,0.22)\n",
    "print(probability)"
   ]
  },
  {
   "cell_type": "code",
   "execution_count": 63,
   "id": "5b83897c-46d7-4213-8c6c-ab86151512f7",
   "metadata": {},
   "outputs": [
    {
     "name": "stdout",
     "output_type": "stream",
     "text": [
      "0.9695609774280819\n"
     ]
    }
   ],
   "source": [
    "cumulative_probability = binom.cdf(5, 12, 0.22)\n",
    "print(cumulative_probability)"
   ]
  },
  {
   "cell_type": "code",
   "execution_count": 85,
   "id": "73b1d0bb-3cef-4f4c-8b1b-5f609afb04d0",
   "metadata": {},
   "outputs": [
    {
     "data": {
      "text/plain": [
       "(array([ 12.,  42., 131., 217., 237., 190., 115.,  44.,  11.,   1.]),\n",
       " array([ 1. ,  1.9,  2.8,  3.7,  4.6,  5.5,  6.4,  7.3,  8.2,  9.1, 10. ]),\n",
       " <BarContainer object of 10 artists>)"
      ]
     },
     "execution_count": 85,
     "metadata": {},
     "output_type": "execute_result"
    },
    {
     "data": {
      "image/png": "[encoded data removed]",
      "text/plain": [
       "<Figure size 640x480 with 1 Axes>"
      ]
     },
     "metadata": {},
     "output_type": "display_data"
    }
   ],
   "source": [
    "import numpy as np\n",
    "import matplotlib.pyplot as plt\n",
    "n,p=10,0.5\n",
    "s=np.random.binomial(n,p,1000)\n",
    "plt.hist(s,color='green')\n",
    "plt.hist(s)"
   ]
  },
  {
   "cell_type": "code",
   "execution_count": 87,
   "id": "3cf0089f-789a-4f85-aea0-ea9a8cf0759e",
   "metadata": {},
   "outputs": [
    {
     "name": "stdout",
     "output_type": "stream",
     "text": [
      "0.945200708300442\n"
     ]
    }
   ],
   "source": [
    "from scipy.stats import norm\n",
    "prob = norm.cdf(1.6,0,1)\n",
    "print(prob)\n"
   ]
  },
  {
   "cell_type": "code",
   "execution_count": 102,
   "id": "c639b2d1-45a6-4dc7-8808-1be111236fe2",
   "metadata": {},
   "outputs": [
    {
     "name": "stdout",
     "output_type": "stream",
     "text": [
      "Z_Score: [-0.7574907  -0.59097335 -0.20243286  0.35262498  0.6301539  -0.72973781\n",
      " -0.70198492 -0.00816262  0.13060185  0.54689523  1.10195307  3.32218443\n",
      " -0.67423202 -0.64647913 -0.61872624 -0.59097335 -0.56322046]\n",
      "[0.22437797 0.27726914 0.41978917 0.6378152  0.73570305 0.23277523\n",
      " 0.24134428 0.49674362 0.55195486 0.70777464 0.86475896 0.99955342\n",
      " 0.25008191 0.25898455 0.26804836 0.27726914 0.28664239]\n"
     ]
    }
   ],
   "source": [
    "import numpy as np\n",
    "def calculate_z_score(data):\n",
    "     mean=np.mean(data)\n",
    "     std_dev=np.std(data)\n",
    "     z_scores=(data-mean)/ std_dev\n",
    "     return z_scores\n",
    "dataset=[3,9,23,43,53,4,5,30,35,50,70,150,6,7,8,9,10]\n",
    "z_scores=calculate_z_score(dataset)\n",
    "print('Z_Score:',z_scores)\n",
    "prob=norm.cdf(z_scores,0,1)\n",
    "print(prob)"
   ]
  },
  {
   "cell_type": "code",
   "execution_count": 108,
   "id": "14933c38-ee29-4d66-8bc6-e3771f102f45",
   "metadata": {},
   "outputs": [
    {
     "name": "stdout",
     "output_type": "stream",
     "text": [
      "1.0\n"
     ]
    }
   ],
   "source": [
    "prob=norm.cdf(43,0) \n",
    "print(prob)"
   ]
  },
  {
   "cell_type": "code",
   "execution_count": 5,
   "id": "ed30fd25-e110-48d1-91e3-6666e0709924",
   "metadata": {},
   "outputs": [
    {
     "name": "stderr",
     "output_type": "stream",
     "text": [
      "C:\\ProgramData\\anaconda3\\Lib\\site-packages\\seaborn\\_oldcore.py:1119: FutureWarning: use_inf_as_na option is deprecated and will be removed in a future version. Convert inf values to NaN before operating instead.\n",
      "  with pd.option_context('mode.use_inf_as_na', True):\n"
     ]
    },
    {
     "data": {
      "image/png": "[encoded data removed]",
      "text/plain": [
       "<Figure size 640x480 with 1 Axes>"
      ]
     },
     "metadata": {},
     "output_type": "display_data"
    },
    {
     "ename": "NameError",
     "evalue": "name 'py' is not defined",
     "output_type": "error",
     "traceback": [
      "\u001b[1;31m---------------------------------------------------------------------------\u001b[0m",
      "\u001b[1;31mNameError\u001b[0m                                 Traceback (most recent call last)",
      "Cell \u001b[1;32mIn[5], line 12\u001b[0m\n\u001b[0;32m     10\u001b[0m plt\u001b[38;5;241m.\u001b[39mshow()\n\u001b[0;32m     11\u001b[0m sm\u001b[38;5;241m.\u001b[39mqqplot(data,line\u001b[38;5;241m=\u001b[39m\u001b[38;5;124m'\u001b[39m\u001b[38;5;124m45\u001b[39m\u001b[38;5;124m'\u001b[39m)\n\u001b[1;32m---> 12\u001b[0m py\u001b[38;5;241m.\u001b[39mshow()\n\u001b[0;32m     13\u001b[0m shapiro(data)\n",
      "\u001b[1;31mNameError\u001b[0m: name 'py' is not defined"
     ]
    },
    {
     "data": {
      "image/png": "[encoded data removed]",
      "text/plain": [
       "<Figure size 640x480 with 1 Axes>"
      ]
     },
     "metadata": {},
     "output_type": "display_data"
    }
   ],
   "source": [
    "import numpy as np\n",
    "import seaborn as sns\n",
    "import matplotlib.pyplot as plt\n",
    "import statsmodels.api as sm\n",
    "data=np.random.randn(1000)\n",
    "sns.histplot(data,bins=30,kde=True,color='lightgreen',edgecolor='black')\n",
    "plt.xlabel(\"values\")\n",
    "plt.ylabel(\"Density\")\n",
    "plt.title('Customized Histogram with Density plot')\n",
    "plt.show()\n",
    "sm.qqplot(data,line='45')\n",
    "py.show()\n",
    "shapiro(data)"
   ]
  },
  {
   "cell_type": "code",
   "execution_count": 11,
   "id": "82ea0774-3d1e-41d4-9a93-009ab147a2af",
   "metadata": {},
   "outputs": [
    {
     "name": "stdout",
     "output_type": "stream",
     "text": [
      "sample: [230 338 328 417 307 132   6 432 435 135]\n"
     ]
    }
   ],
   "source": [
    "import numpy as np\n",
    "population=np.arange(1,501)\n",
    "sample_size=10\n",
    "np.random.seed(123)\n",
    "sample=np.random.choice(population,sample_size,replace=False)\n",
    "print(\"sample:\",sample)"
   ]
  },
  {
   "cell_type": "code",
   "execution_count": 9,
   "id": "e9dbd69f-fa99-4aa6-8277-f7713c73c132",
   "metadata": {},
   "outputs": [
    {
     "data": {
      "text/html": [
       "<div>\n",
       "<style scoped>\n",
       "    .dataframe tbody tr th:only-of-type {\n",
       "        vertical-align: middle;\n",
       "    }\n",
       "\n",
       "    .dataframe tbody tr th {\n",
       "        vertical-align: top;\n",
       "    }\n",
       "\n",
       "    .dataframe thead th {\n",
       "        text-align: right;\n",
       "    }\n",
       "</style>\n",
       "<table border=\"1\" class=\"dataframe\">\n",
       "  <thead>\n",
       "    <tr style=\"text-align: right;\">\n",
       "      <th></th>\n",
       "      <th>Test_result</th>\n",
       "      <th>Test_date</th>\n",
       "      <th>Sex</th>\n",
       "      <th>Age</th>\n",
       "      <th>Subcounty</th>\n",
       "      <th>Water</th>\n",
       "      <th>Sanitation</th>\n",
       "      <th>Income</th>\n",
       "      <th>Informal_settlement</th>\n",
       "      <th>Outcome</th>\n",
       "    </tr>\n",
       "  </thead>\n",
       "  <tbody>\n",
       "    <tr>\n",
       "      <th>0</th>\n",
       "      <td>0.0</td>\n",
       "      <td>12/05/2023</td>\n",
       "      <td>2.0</td>\n",
       "      <td>15.0</td>\n",
       "      <td>4.0</td>\n",
       "      <td>1.0</td>\n",
       "      <td>3.0</td>\n",
       "      <td>3.0</td>\n",
       "      <td>2.0</td>\n",
       "      <td>0.0</td>\n",
       "    </tr>\n",
       "    <tr>\n",
       "      <th>1</th>\n",
       "      <td>1.0</td>\n",
       "      <td>13/05/2023</td>\n",
       "      <td>2.0</td>\n",
       "      <td>6.0</td>\n",
       "      <td>2.0</td>\n",
       "      <td>3.0</td>\n",
       "      <td>3.0</td>\n",
       "      <td>1.0</td>\n",
       "      <td>1.0</td>\n",
       "      <td>0.0</td>\n",
       "    </tr>\n",
       "    <tr>\n",
       "      <th>2</th>\n",
       "      <td>0.0</td>\n",
       "      <td>14/05/2023</td>\n",
       "      <td>2.0</td>\n",
       "      <td>9.0</td>\n",
       "      <td>3.0</td>\n",
       "      <td>2.0</td>\n",
       "      <td>2.0</td>\n",
       "      <td>5.0</td>\n",
       "      <td>2.0</td>\n",
       "      <td>0.0</td>\n",
       "    </tr>\n",
       "    <tr>\n",
       "      <th>3</th>\n",
       "      <td>0.0</td>\n",
       "      <td>15/05/2023</td>\n",
       "      <td>2.0</td>\n",
       "      <td>10.0</td>\n",
       "      <td>1.0</td>\n",
       "      <td>4.0</td>\n",
       "      <td>4.0</td>\n",
       "      <td>5.0</td>\n",
       "      <td>2.0</td>\n",
       "      <td>0.0</td>\n",
       "    </tr>\n",
       "    <tr>\n",
       "      <th>4</th>\n",
       "      <td>0.0</td>\n",
       "      <td>16/05/2023</td>\n",
       "      <td>1.0</td>\n",
       "      <td>10.0</td>\n",
       "      <td>2.0</td>\n",
       "      <td>2.0</td>\n",
       "      <td>4.0</td>\n",
       "      <td>1.0</td>\n",
       "      <td>1.0</td>\n",
       "      <td>0.0</td>\n",
       "    </tr>\n",
       "  </tbody>\n",
       "</table>\n",
       "</div>"
      ],
      "text/plain": [
       "   Test_result   Test_date  Sex   Age  Subcounty  Water  Sanitation  Income  \\\n",
       "0          0.0  12/05/2023  2.0  15.0        4.0    1.0         3.0     3.0   \n",
       "1          1.0  13/05/2023  2.0   6.0        2.0    3.0         3.0     1.0   \n",
       "2          0.0  14/05/2023  2.0   9.0        3.0    2.0         2.0     5.0   \n",
       "3          0.0  15/05/2023  2.0  10.0        1.0    4.0         4.0     5.0   \n",
       "4          0.0  16/05/2023  1.0  10.0        2.0    2.0         4.0     1.0   \n",
       "\n",
       "   Informal_settlement  Outcome  \n",
       "0                  2.0      0.0  \n",
       "1                  1.0      0.0  \n",
       "2                  2.0      0.0  \n",
       "3                  2.0      0.0  \n",
       "4                  1.0      0.0  "
      ]
     },
     "execution_count": 9,
     "metadata": {},
     "output_type": "execute_result"
    }
   ],
   "source": [
    "import pandas as pd\n",
    "df=pd.read_csv(\"chloleraoutbreak.csv\")\n",
    "df.head()\n"
   ]
  },
  {
   "cell_type": "code",
   "execution_count": 4,
   "id": "177386fa-eb8a-448e-8152-f2a0f490a68e",
   "metadata": {},
   "outputs": [
    {
     "data": {
      "text/html": [
       "<div>\n",
       "<style scoped>\n",
       "    .dataframe tbody tr th:only-of-type {\n",
       "        vertical-align: middle;\n",
       "    }\n",
       "\n",
       "    .dataframe tbody tr th {\n",
       "        vertical-align: top;\n",
       "    }\n",
       "\n",
       "    .dataframe thead th {\n",
       "        text-align: right;\n",
       "    }\n",
       "</style>\n",
       "<table border=\"1\" class=\"dataframe\">\n",
       "  <thead>\n",
       "    <tr style=\"text-align: right;\">\n",
       "      <th></th>\n",
       "      <th>Test_result</th>\n",
       "      <th>Sex</th>\n",
       "      <th>Age</th>\n",
       "      <th>Subcounty</th>\n",
       "      <th>Water</th>\n",
       "      <th>Sanitation</th>\n",
       "      <th>Income</th>\n",
       "      <th>Informal_settlement</th>\n",
       "      <th>Outcome</th>\n",
       "    </tr>\n",
       "  </thead>\n",
       "  <tbody>\n",
       "    <tr>\n",
       "      <th>count</th>\n",
       "      <td>312.000000</td>\n",
       "      <td>312.000000</td>\n",
       "      <td>312.000000</td>\n",
       "      <td>312.000000</td>\n",
       "      <td>312.000000</td>\n",
       "      <td>312.000000</td>\n",
       "      <td>312.000000</td>\n",
       "      <td>312.000000</td>\n",
       "      <td>312.000000</td>\n",
       "    </tr>\n",
       "    <tr>\n",
       "      <th>mean</th>\n",
       "      <td>0.233974</td>\n",
       "      <td>1.573718</td>\n",
       "      <td>28.381410</td>\n",
       "      <td>2.791667</td>\n",
       "      <td>2.461538</td>\n",
       "      <td>2.503205</td>\n",
       "      <td>2.782051</td>\n",
       "      <td>1.878205</td>\n",
       "      <td>0.051282</td>\n",
       "    </tr>\n",
       "    <tr>\n",
       "      <th>std</th>\n",
       "      <td>0.424036</td>\n",
       "      <td>0.495330</td>\n",
       "      <td>20.484926</td>\n",
       "      <td>1.503969</td>\n",
       "      <td>1.075208</td>\n",
       "      <td>1.030089</td>\n",
       "      <td>1.431366</td>\n",
       "      <td>0.327574</td>\n",
       "      <td>0.220927</td>\n",
       "    </tr>\n",
       "    <tr>\n",
       "      <th>min</th>\n",
       "      <td>0.000000</td>\n",
       "      <td>1.000000</td>\n",
       "      <td>0.000000</td>\n",
       "      <td>1.000000</td>\n",
       "      <td>1.000000</td>\n",
       "      <td>1.000000</td>\n",
       "      <td>1.000000</td>\n",
       "      <td>1.000000</td>\n",
       "      <td>0.000000</td>\n",
       "    </tr>\n",
       "    <tr>\n",
       "      <th>25%</th>\n",
       "      <td>0.000000</td>\n",
       "      <td>1.000000</td>\n",
       "      <td>12.000000</td>\n",
       "      <td>1.000000</td>\n",
       "      <td>1.750000</td>\n",
       "      <td>2.000000</td>\n",
       "      <td>1.000000</td>\n",
       "      <td>2.000000</td>\n",
       "      <td>0.000000</td>\n",
       "    </tr>\n",
       "    <tr>\n",
       "      <th>50%</th>\n",
       "      <td>0.000000</td>\n",
       "      <td>2.000000</td>\n",
       "      <td>23.000000</td>\n",
       "      <td>3.000000</td>\n",
       "      <td>3.000000</td>\n",
       "      <td>3.000000</td>\n",
       "      <td>3.000000</td>\n",
       "      <td>2.000000</td>\n",
       "      <td>0.000000</td>\n",
       "    </tr>\n",
       "    <tr>\n",
       "      <th>75%</th>\n",
       "      <td>0.000000</td>\n",
       "      <td>2.000000</td>\n",
       "      <td>39.250000</td>\n",
       "      <td>4.000000</td>\n",
       "      <td>3.000000</td>\n",
       "      <td>3.000000</td>\n",
       "      <td>4.000000</td>\n",
       "      <td>2.000000</td>\n",
       "      <td>0.000000</td>\n",
       "    </tr>\n",
       "    <tr>\n",
       "      <th>max</th>\n",
       "      <td>1.000000</td>\n",
       "      <td>2.000000</td>\n",
       "      <td>89.000000</td>\n",
       "      <td>6.000000</td>\n",
       "      <td>4.000000</td>\n",
       "      <td>4.000000</td>\n",
       "      <td>5.000000</td>\n",
       "      <td>2.000000</td>\n",
       "      <td>1.000000</td>\n",
       "    </tr>\n",
       "  </tbody>\n",
       "</table>\n",
       "</div>"
      ],
      "text/plain": [
       "       Test_result         Sex         Age   Subcounty       Water  \\\n",
       "count   312.000000  312.000000  312.000000  312.000000  312.000000   \n",
       "mean      0.233974    1.573718   28.381410    2.791667    2.461538   \n",
       "std       0.424036    0.495330   20.484926    1.503969    1.075208   \n",
       "min       0.000000    1.000000    0.000000    1.000000    1.000000   \n",
       "25%       0.000000    1.000000   12.000000    1.000000    1.750000   \n",
       "50%       0.000000    2.000000   23.000000    3.000000    3.000000   \n",
       "75%       0.000000    2.000000   39.250000    4.000000    3.000000   \n",
       "max       1.000000    2.000000   89.000000    6.000000    4.000000   \n",
       "\n",
       "       Sanitation      Income  Informal_settlement     Outcome  \n",
       "count  312.000000  312.000000           312.000000  312.000000  \n",
       "mean     2.503205    2.782051             1.878205    0.051282  \n",
       "std      1.030089    1.431366             0.327574    0.220927  \n",
       "min      1.000000    1.000000             1.000000    0.000000  \n",
       "25%      2.000000    1.000000             2.000000    0.000000  \n",
       "50%      3.000000    3.000000             2.000000    0.000000  \n",
       "75%      3.000000    4.000000             2.000000    0.000000  \n",
       "max      4.000000    5.000000             2.000000    1.000000  "
      ]
     },
     "execution_count": 4,
     "metadata": {},
     "output_type": "execute_result"
    }
   ],
   "source": [
    "df.describe()"
   ]
  },
  {
   "cell_type": "code",
   "execution_count": 28,
   "id": "4d36ce09-f462-40a7-9108-311f01707216",
   "metadata": {},
   "outputs": [
    {
     "name": "stdout",
     "output_type": "stream",
     "text": [
      "95% Confidence Interval:(26.50)(30.26]\n"
     ]
    }
   ],
   "source": [
    "import pandas as pd\n",
    "import numpy as np\n",
    "import scipy.stats as stats\n",
    "df=pd.read_csv(\"chloleraoutbreak.csv\")\n",
    "sample_mean=df['Age'].mean()\n",
    "sample_std=df['Age'].std()\n",
    "n=len(df['Age'])\n",
    "conf_level=0.95\n",
    "alpha=1-conf_level\n",
    "t_critical=stats.t.ppf(1-alpha/2,df=n-1)\n",
    "margin=t_critical*(sample_std/np.sqrt(n))\n",
    "confidence_interval=(sample_mean-margin, \n",
    "sample_mean + margin)\n",
    "confidence_interval=(sample_mean-1.96*sem, sample_mean +1.96*sem)\n",
    "print(f\"95% Confidence Interval:({confidence_interval[0]:.2f})({confidence_interval[1]:.2f}]\")\n",
    "\n"
   ]
  },
  {
   "cell_type": "code",
   "execution_count": 13,
   "id": "adf1dd32-a774-4880-aba6-3bceb427665f",
   "metadata": {},
   "outputs": [
    {
     "name": "stdout",
     "output_type": "stream",
     "text": [
      "T-statistic:1.2596591810362627,p-value:0.20816108117659912\n"
     ]
    }
   ],
   "source": [
    "import pandas as pd\n",
    "from scipy import stats\n",
    "df=pd.read_csv(\"childhealthdata.csv\")\n",
    "group_A=df[df['Sex']=='Male']['weight']\n",
    "group_B=df[df['Sex']=='Female']['weight']\n",
    "t_statistic,p_value=stats.ttest_ind(group_A,group_B)\n",
    "print(f\"T-statistic:{t_statistic},p-value:{p_value}\")\n",
    "\n"
   ]
  },
  {
   "cell_type": "code",
   "execution_count": 30,
   "id": "f8da0a2a-c5b0-4ddd-b13a-a86ece36f544",
   "metadata": {},
   "outputs": [
    {
     "name": "stdout",
     "output_type": "stream",
     "text": [
      "95% Confidence Interval:(2.69)(2.87]\n"
     ]
    }
   ],
   "source": [
    "import pandas as pd\n",
    "import numpy as np\n",
    "import scipy.stats as stats\n",
    "df=pd.read_csv(\"chloleraoutbreak.csv\")\n",
    "sample_mean=df['Income'].mean()\n",
    "sample_std=df['Income'].std()\n",
    "n=len(df['Income'])\n",
    "conf_level=0.95\n",
    "alpha=1-conf_level\n",
    "t_critical=stats.t.ppf(1-alpha/2,df=n-1)\n",
    "margin=t_critical*(sample_std/np.sqrt(n))\n",
    "confidence_interval=(sample_mean-margin, \n",
    "sample_mean + margin)\n",
    "\n",
    "print(f\"95% Confidence Interval:({confidence_interval[0]:.2f})({confidence_interval[1]:.2f}]\")\n"
   ]
  },
  {
   "cell_type": "code",
   "execution_count": 31,
   "id": "cf2f0c81-c87a-499b-b4a0-b08c1c4bcc3a",
   "metadata": {},
   "outputs": [
    {
     "name": "stdout",
     "output_type": "stream",
     "text": [
      "sample_mean: 169.5\n",
      "sample_sd: 3.0276503540974917\n",
      "95% Confidence Interval:(2.69)(2.87]\n"
     ]
    }
   ],
   "source": [
    "import numpy as np\n",
    "heights=[165,170,168,172,169,171,166,173,167,174]\n",
    "sample_mean=np.mean(heights)\n",
    "sample_sd=np.std(heights,ddof=1)\n",
    "n=len(heights)\n",
    "print('sample_mean:',sample_mean)\n",
    "print('sample_sd:',sample_sd)\n",
    "sem=sample_sd/ np.sqrt(n)\n",
    "\n",
    "print(f\"95% Confidence Interval:({confidence_interval[0]:.2f})({confidence_interval[1]:.2f}]\")"
   ]
  },
  {
   "cell_type": "code",
   "execution_count": 6,
   "id": "3daeceda-d45d-4ddf-a3ad-b6c7f60013e9",
   "metadata": {},
   "outputs": [
    {
     "name": "stdout",
     "output_type": "stream",
     "text": [
      "t-statistic: -0.7392604148446796\n",
      "p-value: 0.46273038396876176\n"
     ]
    }
   ],
   "source": [
    "from scipy.stats import ttest_ind\n",
    "import numpy as np\n",
    "mean_A=120\n",
    "std_A=10\n",
    "n_A=30\n",
    "mean_B=130\n",
    "std_B=12\n",
    "n_B=30\n",
    "np.random.seed(0)\n",
    "group_A=np.random.normal(mean_A,std_A,n_A)\n",
    "group_B=np.random.normal(mean_B,std_B,n_B)\n",
    "t_statistic, p_value=ttest_ind(group_A,group_B)\n",
    "print(\"t-statistic:\", t_statistic)\n",
    "print(\"p-value:\",p_value)"
   ]
  },
  {
   "cell_type": "code",
   "execution_count": 18,
   "id": "2b71822b-2e8d-4b08-bc43-3b3c930a4306",
   "metadata": {},
   "outputs": [
    {
     "name": "stdout",
     "output_type": "stream",
     "text": [
      "   Test_result   Test_date  Sex   Age  Subcounty  Water  Sanitation  Income  \\\n",
      "0          0.0  12/05/2023  2.0  15.0        4.0    1.0         3.0     3.0   \n",
      "1          1.0  13/05/2023  2.0   6.0        2.0    3.0         3.0     1.0   \n",
      "2          0.0  14/05/2023  2.0   9.0        3.0    2.0         2.0     5.0   \n",
      "3          0.0  15/05/2023  2.0  10.0        1.0    4.0         4.0     5.0   \n",
      "4          0.0  16/05/2023  1.0  10.0        2.0    2.0         4.0     1.0   \n",
      "\n",
      "   Informal_settlement  Outcome  \n",
      "0                  2.0      0.0  \n",
      "1                  1.0      0.0  \n",
      "2                  2.0      0.0  \n",
      "3                  2.0      0.0  \n",
      "4                  1.0      0.0  \n",
      "Outcome  0.0  1.0\n",
      "Water            \n",
      "1.0       74    4\n",
      "2.0       74    1\n",
      "3.0       87    9\n",
      "4.0       61    2\n",
      "Chi_Square Statistic:6.272907818532818\n",
      "p-value:0.0990618100698824\n"
     ]
    }
   ],
   "source": [
    "import pandas as pd\n",
    "import scipy.stats as stats\n",
    "df=pd.read_csv(\"chloleraoutbreak.csv\")\n",
    "print(df.head())\n",
    "contingency_table=pd.crosstab(df['Water'],df['Outcome'])\n",
    "print(contingency_table)\n",
    "chi2,p,_,_=stats.chi2_contingency(contingency_table)\n",
    "print(f\"Chi_Square Statistic:{chi2}\")\n",
    "print(f\"p-value:{p}\")"
   ]
  },
  {
   "cell_type": "code",
   "execution_count": 12,
   "id": "38d8d8d6-2a15-4d40-8166-de7648475f55",
   "metadata": {},
   "outputs": [
    {
     "name": "stdout",
     "output_type": "stream",
     "text": [
      "Estimated weight for 66.8 cm height:7.87 kg\n",
      "Estimated weight for 115.3 cm height:18.43 kg\n",
      "Predicted weight for 92.5 cm height:13.47 kg\n",
      "Error estimate for actual weight 13.5 and height 92.5 cm:0.034 kg\n"
     ]
    }
   ],
   "source": [
    "def estimate_weight(height):\n",
    "    intercept = -6.671\n",
    "    slope =  0.2177\n",
    "    return intercept + slope * height\n",
    "weight_66_8=estimate_weight(66.8)\n",
    "weight_115_3=estimate_weight(115.3)\n",
    "actual_weight=13.5\n",
    "height_92_5=92.5\n",
    "predicted_weight_92_5 =  estimate_weight(height_92_5)\n",
    "error_estimate=actual_weight-predicted_weight_92_5\n",
    "print(f\"Estimated weight for 66.8 cm height:{weight_66_8:.2f} kg\")\n",
    "print(f\"Estimated weight for 115.3 cm height:{weight_115_3:.2f} kg\")\n",
    "print(f\"Predicted weight for 92.5 cm height:{predicted_weight_92_5:.2f} kg\")\n",
    "print(f\"Error estimate for actual weight 13.5 and height 92.5 cm:{error_estimate:.3f} kg\")"
   ]
  },
  {
   "cell_type": "code",
   "execution_count": 15,
   "id": "522351cc-8dfc-4e5a-98bd-46b5993383d8",
   "metadata": {},
   "outputs": [
    {
     "name": "stdout",
     "output_type": "stream",
     "text": [
      "Predicted weight for child 1 (70.4 cm,4 months):8.07 kg\n",
      "Actual weight for child 1:7.1 kg\n",
      "Error estamite for child 1:-0.97 kg\n",
      "/nEstimated weight for child 2 (105.6 , 55 months):13.70 kg\n",
      "Actual weight for child 2:15.7 kg\n",
      "Error estimate for child 2:2.00 kg\n"
     ]
    }
   ],
   "source": [
    "def estimate_weight(height, age):\n",
    "    intercept=-3.4673\n",
    "    height_coeff =0.1608\n",
    "    age_coeff = 0.0536\n",
    "    return intercept + height_coeff * height + age_coeff * age\n",
    "estimated_weight_1 = estimate_weight(70.4,4)\n",
    "estimated_weight_2 = estimate_weight(105.4,4)\n",
    "actual_weight_1=7.1\n",
    "actual_weight_2=15.7\n",
    "error_estimate_1=actual_weight_1 - estimated_weight_1\n",
    "error_estimate_2=actual_weight_2 - estimated_weight_2\n",
    "print(f\"Predicted weight for child 1 (70.4 cm,4 months):{estimated_weight_1:.2f} kg\")\n",
    "print(f\"Actual weight for child 1:{actual_weight_1} kg\")\n",
    "print(f\"Error estamite for child 1:{error_estimate_1:.2f} kg\")\n",
    "print(f\"/nEstimated weight for child 2 (105.6 , 55 months):{estimated_weight_2:.2f} kg\")\n",
    "print(f\"Actual weight for child 2:{actual_weight_2} kg\")\n",
    "print(f\"Error estimate for child 2:{error_estimate_2:.2f} kg\")\n",
    "    \n",
    "    "
   ]
  },
  {
   "cell_type": "code",
   "execution_count": 17,
   "id": "bb21a01c-8b0b-4ff0-be28-915b38b05e63",
   "metadata": {},
   "outputs": [
    {
     "name": "stdout",
     "output_type": "stream",
     "text": [
      "Probability of diarrhea for child in rural area:0.1015\n",
      "Predicted weight for child 1 (70.4 cm,4 months):8.07 kg\n",
      "Actual weight for child 1:7.1 kg\n",
      "Error estamite for child 1:-0.97 kg\n",
      "/nEstimated weight for child 2 (105.6 , 55 months):13.70 kg\n",
      "Actual weight for child 2:15.7 kg\n",
      "Error estimate for child 2:2.00 kg\n"
     ]
    }
   ],
   "source": [
    "import numpy as np\n",
    "intercept = -2.1802\n",
    "coefficient_urban = 0.3543\n",
    "urban=0\n",
    "log_odds_rural = intercept + coefficient_urban *urban\n",
    "probability_rural = 1/(1 + np.exp(-log_odds_rural))\n",
    "print(f\"Probability of diarrhea for child in rural area:{probability_rural:.4f}\")\n",
    "def estimate_weight(height, age):\n",
    "    intercept=-3.4673\n",
    "    height_coeff =0.1608\n",
    "    age_coeff = 0.0536\n",
    "    return intercept + height_coeff * height + age_coeff * age\n",
    "estimated_weight_1 = estimate_weight(70.4,4)\n",
    "estimated_weight_2 = estimate_weight(105.4,4)\n",
    "actual_weight_1=7.1\n",
    "actual_weight_2=15.7\n",
    "error_estimate_1=actual_weight_1 - estimated_weight_1\n",
    "error_estimate_2=actual_weight_2 - estimated_weight_2\n",
    "print(f\"Predicted weight for child 1 (70.4 cm,4 months):{estimated_weight_1:.2f} kg\")\n",
    "print(f\"Actual weight for child 1:{actual_weight_1} kg\")\n",
    "print(f\"Error estamite for child 1:{error_estimate_1:.2f} kg\")\n",
    "print(f\"/nEstimated weight for child 2 (105.6 , 55 months):{estimated_weight_2:.2f} kg\")\n",
    "print(f\"Actual weight for child 2:{actual_weight_2} kg\")\n",
    "print(f\"Error estimate for child 2:{error_estimate_2:.2f} kg\")\n",
    "    \n",
    "    "
   ]
  },
  {
   "cell_type": "code",
   "execution_count": null,
   "id": "053a8a25-3b1d-4cbc-9f41-2830a9dff5f7",
   "metadata": {},
   "outputs": [],
   "source": []
  }
 ],
 "metadata": {
  "kernelspec": {
   "display_name": "Python 3 (ipykernel)",
   "language": "python",
   "name": "python3"
  },
  "language_info": {
   "codemirror_mode": {
    "name": "ipython",
    "version": 3
   },
   "file_extension": ".py",
   "mimetype": "text/x-python",
   "name": "python",
   "nbconvert_exporter": "python",
   "pygments_lexer": "ipython3",
   "version": "3.11.7"
  }
 },
 "nbformat": 4,
 "nbformat_minor": 5
}
